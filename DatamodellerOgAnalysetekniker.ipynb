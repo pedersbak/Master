{
 "cells": [
  {
   "cell_type": "markdown",
   "metadata": {},
   "source": [
    "# Data models and analyses techniques: Exercise sheet 1"
   ]
  },
  {
   "cell_type": "markdown",
   "metadata": {},
   "source": [
    "#### *Your name:* Jan Pedersbæk"
   ]
  },
  {
   "cell_type": "markdown",
   "metadata": {},
   "source": [
    "## Introduction\n",
    "\n",
    "For each lecture there will be a collection of exercises presented as Jupyter notebooks. The exercises should be solved and documented as a mini-project that will form the basis for the examination. When solving the exercises it is therefore important that you \n",
    " * document all relevant results and analyses that you have obtained/performed during the exercises.\n",
    " * try to relate your results to the theoretical background of the methods being applied. \n",
    "\n",
    "The documentation should be integrated (by adding new code/markdown cells) in the Jupyter notebooks containing the exercise sheets.\n",
    "\n",
    "The mini-project should be delivered after the last seminar in this module (an exact date will be provided later) and should consist of:\n",
    " - a single pdf-file containing all the notebooks; the 'File' menu gives you the option of downloading a pdf-version of your notebook. The name of the file should be [your\\_first\\_name]_[your\\_family\\_name].pdf (e.g. Thomas\\_Nielsen.pdf).\n",
    " - a copy of your notebooks with the solutions to the exercises. The notebooks should be named [your\\_first name]\\_[your\\_family\\_name]\\_[exercise\\_sheet\\_number].ipynb (e.g., Thomas\\_Nielsen\\_1.ipnyb).\n",
    " \n",
    "If you have any questions about the exercises, you are strongly encouraged to post you questions on the discussion forum on Moodle.\n",
    "\n",
    "Last, but not least:\n",
    "* Looking for an overview of the markdown language? The cheat sheet <a href=\"https://medium.com/ibm-data-science-experience/markdown-for-jupyter-notebooks-cheatsheet-386c05aeebed\">here</a> might help.\n",
    "* For the Python specific components of the exercises, you should not need constructs beyond those that are already included in the notebooks on the course's web-page (still you should not feel constrained by these, so feel free to be adventurous). You may, however, need to consult the documentation for some of the methods supplied by `sklearn`."
   ]
  },
  {
   "cell_type": "markdown",
   "metadata": {},
   "source": [
    "# Exercises\n",
    "\n",
    "We shall once again play around with the Boston housing data set"
   ]
  },
  {
   "cell_type": "code",
   "execution_count": 257,
   "metadata": {},
   "outputs": [],
   "source": [
    "from sklearn.datasets import load_boston\n",
    "data = load_boston()"
   ]
  },
  {
   "cell_type": "markdown",
   "metadata": {},
   "source": [
    "Again we treat it as a classification problem:"
   ]
  },
  {
   "cell_type": "markdown",
   "metadata": {},
   "source": [
    " ### A note on the dataset target variable\n",
    " Since the target in our dataset is a continous nummerical variable, we need to \n",
    " change it into a categorical one for this to be a classification problem. \n",
    " Alternatively, it could have been treated as a regression problem.\n",
    " The new targetarray - c - is set to 1 if target value, eg. MEDV is greater the the median\n",
    " otherwise it is set to 0. Thus, the classification aims to build a model that can predict wether or not \n",
    " the MEDV variable is greater or smaller then the median."
   ]
  },
  {
   "cell_type": "code",
   "execution_count": 258,
   "metadata": {},
   "outputs": [],
   "source": [
    "import numpy as np\n",
    "from sklearn.model_selection import train_test_split\n",
    "c = np.array([1 if y > np.median(data['target']) else 0 for y in data['target']])"
   ]
  },
  {
   "cell_type": "markdown",
   "metadata": {},
   "source": [
    "Lets escribe the dataset, and maybe do some visualizations to understand the data a little better"
   ]
  },
  {
   "cell_type": "code",
   "execution_count": 259,
   "metadata": {},
   "outputs": [
    {
     "name": "stdout",
     "output_type": "stream",
     "text": [
      "Boston House Prices dataset\n",
      "===========================\n",
      "\n",
      "Notes\n",
      "------\n",
      "Data Set Characteristics:  \n",
      "\n",
      "    :Number of Instances: 506 \n",
      "\n",
      "    :Number of Attributes: 13 numeric/categorical predictive\n",
      "    \n",
      "    :Median Value (attribute 14) is usually the target\n",
      "\n",
      "    :Attribute Information (in order):\n",
      "        - CRIM     per capita crime rate by town\n",
      "        - ZN       proportion of residential land zoned for lots over 25,000 sq.ft.\n",
      "        - INDUS    proportion of non-retail business acres per town\n",
      "        - CHAS     Charles River dummy variable (= 1 if tract bounds river; 0 otherwise)\n",
      "        - NOX      nitric oxides concentration (parts per 10 million)\n",
      "        - RM       average number of rooms per dwelling\n",
      "        - AGE      proportion of owner-occupied units built prior to 1940\n",
      "        - DIS      weighted distances to five Boston employment centres\n",
      "        - RAD      index of accessibility to radial highways\n",
      "        - TAX      full-value property-tax rate per $10,000\n",
      "        - PTRATIO  pupil-teacher ratio by town\n",
      "        - B        1000(Bk - 0.63)^2 where Bk is the proportion of blacks by town\n",
      "        - LSTAT    % lower status of the population\n",
      "        - MEDV     Median value of owner-occupied homes in $1000's\n",
      "\n",
      "    :Missing Attribute Values: None\n",
      "\n",
      "    :Creator: Harrison, D. and Rubinfeld, D.L.\n",
      "\n",
      "This is a copy of UCI ML housing dataset.\n",
      "http://archive.ics.uci.edu/ml/datasets/Housing\n",
      "\n",
      "\n",
      "This dataset was taken from the StatLib library which is maintained at Carnegie Mellon University.\n",
      "\n",
      "The Boston house-price data of Harrison, D. and Rubinfeld, D.L. 'Hedonic\n",
      "prices and the demand for clean air', J. Environ. Economics & Management,\n",
      "vol.5, 81-102, 1978.   Used in Belsley, Kuh & Welsch, 'Regression diagnostics\n",
      "...', Wiley, 1980.   N.B. Various transformations are used in the table on\n",
      "pages 244-261 of the latter.\n",
      "\n",
      "The Boston house-price data has been used in many machine learning papers that address regression\n",
      "problems.   \n",
      "     \n",
      "**References**\n",
      "\n",
      "   - Belsley, Kuh & Welsch, 'Regression diagnostics: Identifying Influential Data and Sources of Collinearity', Wiley, 1980. 244-261.\n",
      "   - Quinlan,R. (1993). Combining Instance-Based and Model-Based Learning. In Proceedings on the Tenth International Conference of Machine Learning, 236-243, University of Massachusetts, Amherst. Morgan Kaufmann.\n",
      "   - many more! (see http://archive.ics.uci.edu/ml/datasets/Housing)\n",
      "\n"
     ]
    }
   ],
   "source": [
    "print(data['DESCR'][:3000])"
   ]
  },
  {
   "cell_type": "code",
   "execution_count": 260,
   "metadata": {},
   "outputs": [
    {
     "name": "stdout",
     "output_type": "stream",
     "text": [
      "The keys of the object: dict_keys(['data', 'DESCR', 'target', 'feature_names'])\n"
     ]
    }
   ],
   "source": [
    "# This dataset contains 4 numpy arrays, of witch the first contain information \n",
    "# on the arrays\n",
    "print(\"The keys of the object: {}\".format(data.keys()))"
   ]
  },
  {
   "cell_type": "markdown",
   "metadata": {},
   "source": [
    "Pandas has pretty printing, so lets take a look at the first row as a Pandas DataFrame"
   ]
  },
  {
   "cell_type": "code",
   "execution_count": 261,
   "metadata": {},
   "outputs": [
    {
     "data": {
      "text/html": [
       "<div>\n",
       "<style scoped>\n",
       "    .dataframe tbody tr th:only-of-type {\n",
       "        vertical-align: middle;\n",
       "    }\n",
       "\n",
       "    .dataframe tbody tr th {\n",
       "        vertical-align: top;\n",
       "    }\n",
       "\n",
       "    .dataframe thead th {\n",
       "        text-align: right;\n",
       "    }\n",
       "</style>\n",
       "<table border=\"1\" class=\"dataframe\">\n",
       "  <thead>\n",
       "    <tr style=\"text-align: right;\">\n",
       "      <th></th>\n",
       "      <th>CRIM</th>\n",
       "      <th>ZN</th>\n",
       "      <th>INDUS</th>\n",
       "      <th>CHAS</th>\n",
       "      <th>NOX</th>\n",
       "      <th>RM</th>\n",
       "      <th>AGE</th>\n",
       "      <th>DIS</th>\n",
       "      <th>RAD</th>\n",
       "      <th>TAX</th>\n",
       "      <th>PTRATIO</th>\n",
       "      <th>B</th>\n",
       "      <th>LSTAT</th>\n",
       "    </tr>\n",
       "  </thead>\n",
       "  <tbody>\n",
       "    <tr>\n",
       "      <th>0</th>\n",
       "      <td>0.06724</td>\n",
       "      <td>0.0</td>\n",
       "      <td>3.24</td>\n",
       "      <td>0.0</td>\n",
       "      <td>0.46</td>\n",
       "      <td>6.333</td>\n",
       "      <td>17.2</td>\n",
       "      <td>5.2146</td>\n",
       "      <td>4.0</td>\n",
       "      <td>430.0</td>\n",
       "      <td>16.9</td>\n",
       "      <td>375.21</td>\n",
       "      <td>7.34</td>\n",
       "    </tr>\n",
       "  </tbody>\n",
       "</table>\n",
       "</div>"
      ],
      "text/plain": [
       "      CRIM   ZN  INDUS  CHAS   NOX     RM   AGE     DIS  RAD    TAX  PTRATIO  \\\n",
       "0  0.06724  0.0   3.24   0.0  0.46  6.333  17.2  5.2146  4.0  430.0     16.9   \n",
       "\n",
       "        B  LSTAT  \n",
       "0  375.21   7.34  "
      ]
     },
     "execution_count": 261,
     "metadata": {},
     "output_type": "execute_result"
    }
   ],
   "source": [
    "import pandas as pd\n",
    "# Splitting into train and test datasets (75% train / 25% test is default)\n",
    "X_train, X_test, c_train, c_test = train_test_split(data['data'], c, \n",
    "                                                    random_state=0)\n",
    "pd.DataFrame([X_test[0,:]], columns=data.feature_names)"
   ]
  },
  {
   "cell_type": "markdown",
   "metadata": {},
   "source": [
    "### Model learning\n",
    "* Learn a decision tree using the training data and evaluate its performance on both the training data and the test data. Generate random training/test partitions or varying sizes and analyze how the accuracy results vary (consult the documentation for `train_test_split(.)`)."
   ]
  },
  {
   "cell_type": "markdown",
   "metadata": {},
   "source": [
    "We´ll import the decisionTreeClassifier and instaciate it. Then we will train it using standard parameters and the first train/test split of 75% train and 25% test, which we have already created in the above code"
   ]
  },
  {
   "cell_type": "code",
   "execution_count": 262,
   "metadata": {},
   "outputs": [
    {
     "data": {
      "text/plain": [
       "DecisionTreeClassifier(class_weight=None, criterion='gini', max_depth=None,\n",
       "            max_features=None, max_leaf_nodes=None,\n",
       "            min_impurity_decrease=0.0, min_impurity_split=None,\n",
       "            min_samples_leaf=1, min_samples_split=2,\n",
       "            min_weight_fraction_leaf=0.0, presort=False, random_state=42,\n",
       "            splitter='best')"
      ]
     },
     "execution_count": 262,
     "metadata": {},
     "output_type": "execute_result"
    }
   ],
   "source": [
    "from sklearn.tree import DecisionTreeClassifier\n",
    "tree = DecisionTreeClassifier(random_state=42)\n",
    "tree.fit(X_train, c_train)"
   ]
  },
  {
   "cell_type": "code",
   "execution_count": 263,
   "metadata": {},
   "outputs": [
    {
     "name": "stdout",
     "output_type": "stream",
     "text": [
      "Accuracy on training set: 1.000\n",
      "Accuracy on test set: 0.795\n"
     ]
    }
   ],
   "source": [
    "print(\"Accuracy on training set: {:.3f}\".format(tree.score(X_train, \n",
    "                                                           c_train)))\n",
    "\n",
    "print(\"Accuracy on test set: {:.3f}\".format(tree.score(X_test, \n",
    "                                                       c_test)))\n"
   ]
  },
  {
   "cell_type": "markdown",
   "metadata": {},
   "source": [
    "Lets see, if the sizes of train / test dataset has an impact - we´ll train/test on 50/50 this time:"
   ]
  },
  {
   "cell_type": "code",
   "execution_count": 264,
   "metadata": {},
   "outputs": [
    {
     "name": "stdout",
     "output_type": "stream",
     "text": [
      "Accuracy on training set: 1.000\n",
      "Accuracy on test set: 0.791\n"
     ]
    }
   ],
   "source": [
    "X_train_new, X_test_new, c_train_new, c_test_new = (\n",
    "    train_test_split(data['data'], c,\n",
    "                     random_state=0,\n",
    "                     train_size=0.5,\n",
    "                     test_size=0.5))\n",
    "\n",
    "treeNew = DecisionTreeClassifier(random_state=42).fit(X_train_new, \n",
    "                                                      c_train_new)\n",
    "\n",
    "print(\"Accuracy on training set: {:.3f}\".format(treeNew.score(X_train_new, \n",
    "                                                              c_train_new)))\n",
    "\n",
    "print(\"Accuracy on test set: {:.3f}\".format(treeNew.score(X_test_new, \n",
    "                                                          c_test_new)))"
   ]
  },
  {
   "cell_type": "markdown",
   "metadata": {},
   "source": [
    "The above shows, that the choice of test/train split can affect the performance of the algorithm, but in this case not a lot"
   ]
  },
  {
   "cell_type": "markdown",
   "metadata": {},
   "source": [
    "As can be seen, the accuracy of the model on the training set is perfect since the algorithm has been instructed to keep splitting until a perfect model is obtained (default setting). However, the precision on the test set is significantly lower in both cases, which might imply overfitting. I will dive into this later, when adjusting parameters for the algorithm, but first, lets take a look at the learned model and the important features"
   ]
  },
  {
   "cell_type": "markdown",
   "metadata": {},
   "source": [
    "### Model analysis\n",
    "\n",
    "* Display the decision tree learned using the training data.\n",
    "* What are the most important features as determined by the learned tree and does, e.g., the choice of top node seem reasonable to you based on your knowledge of the data domain?\n",
    "* How does the features deemed *most important* by the decision tree learner match the generated tree and your understanding of the domain?"
   ]
  },
  {
   "cell_type": "code",
   "execution_count": 265,
   "metadata": {
    "scrolled": false
   },
   "outputs": [
    {
     "data": {
      "image/svg+xml": [
       "<?xml version=\"1.0\" encoding=\"UTF-8\" standalone=\"no\"?>\n",
       "<!DOCTYPE svg PUBLIC \"-//W3C//DTD SVG 1.1//EN\"\n",
       " \"http://www.w3.org/Graphics/SVG/1.1/DTD/svg11.dtd\">\n",
       "<!-- Generated by graphviz version 2.40.1 (20161225.0304)\n",
       " -->\n",
       "<!-- Title: Tree Pages: 1 -->\n",
       "<svg width=\"2136pt\" height=\"958pt\"\n",
       " viewBox=\"0.00 0.00 2136.42 958.00\" xmlns=\"http://www.w3.org/2000/svg\" xmlns:xlink=\"http://www.w3.org/1999/xlink\">\n",
       "<g id=\"graph0\" class=\"graph\" transform=\"scale(1 1) rotate(0) translate(4 954)\">\n",
       "<title>Tree</title>\n",
       "<polygon fill=\"#ffffff\" stroke=\"transparent\" points=\"-4,4 -4,-954 2132.4199,-954 2132.4199,4 -4,4\"/>\n",
       "<!-- 0 -->\n",
       "<g id=\"node1\" class=\"node\">\n",
       "<title>0</title>\n",
       "<polygon fill=\"#399de5\" fill-opacity=\"0.003922\" stroke=\"#000000\" points=\"957.1635,-950 838.0875,-950 838.0875,-886 957.1635,-886 957.1635,-950\"/>\n",
       "<text text-anchor=\"middle\" x=\"897.6255\" y=\"-934.8\" font-family=\"Times,serif\" font-size=\"14.00\" fill=\"#000000\">LSTAT &lt;= 10.175</text>\n",
       "<text text-anchor=\"middle\" x=\"897.6255\" y=\"-920.8\" font-family=\"Times,serif\" font-size=\"14.00\" fill=\"#000000\">samples = 379</text>\n",
       "<text text-anchor=\"middle\" x=\"897.6255\" y=\"-906.8\" font-family=\"Times,serif\" font-size=\"14.00\" fill=\"#000000\">value = [189, 190]</text>\n",
       "<text text-anchor=\"middle\" x=\"897.6255\" y=\"-892.8\" font-family=\"Times,serif\" font-size=\"14.00\" fill=\"#000000\">class = High price</text>\n",
       "</g>\n",
       "<!-- 1 -->\n",
       "<g id=\"node2\" class=\"node\">\n",
       "<title>1</title>\n",
       "<polygon fill=\"#399de5\" fill-opacity=\"0.882353\" stroke=\"#000000\" points=\"689.2151,-850 572.0359,-850 572.0359,-786 689.2151,-786 689.2151,-850\"/>\n",
       "<text text-anchor=\"middle\" x=\"630.6255\" y=\"-834.8\" font-family=\"Times,serif\" font-size=\"14.00\" fill=\"#000000\">RM &lt;= 6.118</text>\n",
       "<text text-anchor=\"middle\" x=\"630.6255\" y=\"-820.8\" font-family=\"Times,serif\" font-size=\"14.00\" fill=\"#000000\">samples = 172</text>\n",
       "<text text-anchor=\"middle\" x=\"630.6255\" y=\"-806.8\" font-family=\"Times,serif\" font-size=\"14.00\" fill=\"#000000\">value = [18, 154]</text>\n",
       "<text text-anchor=\"middle\" x=\"630.6255\" y=\"-792.8\" font-family=\"Times,serif\" font-size=\"14.00\" fill=\"#000000\">class = High price</text>\n",
       "</g>\n",
       "<!-- 0&#45;&gt;1 -->\n",
       "<g id=\"edge1\" class=\"edge\">\n",
       "<title>0&#45;&gt;1</title>\n",
       "<path fill=\"none\" stroke=\"#000000\" d=\"M838.0378,-895.6825C796.8864,-880.27 742.0529,-859.7331 699.1014,-843.6464\"/>\n",
       "<polygon fill=\"#000000\" stroke=\"#000000\" points=\"700.1633,-840.3068 689.571,-840.077 697.7081,-846.8621 700.1633,-840.3068\"/>\n",
       "<text text-anchor=\"middle\" x=\"699.9254\" y=\"-858.6319\" font-family=\"Times,serif\" font-size=\"14.00\" fill=\"#000000\">True</text>\n",
       "</g>\n",
       "<!-- 16 -->\n",
       "<g id=\"node17\" class=\"node\">\n",
       "<title>16</title>\n",
       "<polygon fill=\"#e58139\" fill-opacity=\"0.788235\" stroke=\"#000000\" points=\"1123.5562,-850 1005.6948,-850 1005.6948,-786 1123.5562,-786 1123.5562,-850\"/>\n",
       "<text text-anchor=\"middle\" x=\"1064.6255\" y=\"-834.8\" font-family=\"Times,serif\" font-size=\"14.00\" fill=\"#000000\">LSTAT &lt;= 14.895</text>\n",
       "<text text-anchor=\"middle\" x=\"1064.6255\" y=\"-820.8\" font-family=\"Times,serif\" font-size=\"14.00\" fill=\"#000000\">samples = 207</text>\n",
       "<text text-anchor=\"middle\" x=\"1064.6255\" y=\"-806.8\" font-family=\"Times,serif\" font-size=\"14.00\" fill=\"#000000\">value = [171, 36]</text>\n",
       "<text text-anchor=\"middle\" x=\"1064.6255\" y=\"-792.8\" font-family=\"Times,serif\" font-size=\"14.00\" fill=\"#000000\">class = Low price</text>\n",
       "</g>\n",
       "<!-- 0&#45;&gt;16 -->\n",
       "<g id=\"edge16\" class=\"edge\">\n",
       "<title>0&#45;&gt;16</title>\n",
       "<path fill=\"none\" stroke=\"#000000\" d=\"M951.3846,-885.8089C967.6239,-876.0848 985.5897,-865.3268 1002.3364,-855.2989\"/>\n",
       "<polygon fill=\"#000000\" stroke=\"#000000\" points=\"1004.1858,-858.271 1010.9671,-850.1308 1000.5895,-852.2654 1004.1858,-858.271\"/>\n",
       "<text text-anchor=\"middle\" x=\"1004.8824\" y=\"-870.179\" font-family=\"Times,serif\" font-size=\"14.00\" fill=\"#000000\">False</text>\n",
       "</g>\n",
       "<!-- 2 -->\n",
       "<g id=\"node3\" class=\"node\">\n",
       "<title>2</title>\n",
       "<polygon fill=\"#e58139\" fill-opacity=\"0.352941\" stroke=\"#000000\" points=\"450.3767,-750 334.8742,-750 334.8742,-686 450.3767,-686 450.3767,-750\"/>\n",
       "<text text-anchor=\"middle\" x=\"392.6255\" y=\"-734.8\" font-family=\"Times,serif\" font-size=\"14.00\" fill=\"#000000\">DIS &lt;= 4.501</text>\n",
       "<text text-anchor=\"middle\" x=\"392.6255\" y=\"-720.8\" font-family=\"Times,serif\" font-size=\"14.00\" fill=\"#000000\">samples = 28</text>\n",
       "<text text-anchor=\"middle\" x=\"392.6255\" y=\"-706.8\" font-family=\"Times,serif\" font-size=\"14.00\" fill=\"#000000\">value = [17, 11]</text>\n",
       "<text text-anchor=\"middle\" x=\"392.6255\" y=\"-692.8\" font-family=\"Times,serif\" font-size=\"14.00\" fill=\"#000000\">class = Low price</text>\n",
       "</g>\n",
       "<!-- 1&#45;&gt;2 -->\n",
       "<g id=\"edge2\" class=\"edge\">\n",
       "<title>1&#45;&gt;2</title>\n",
       "<path fill=\"none\" stroke=\"#000000\" d=\"M571.794,-793.2809C537.8027,-778.9988 494.9233,-760.9823 459.6356,-746.1555\"/>\n",
       "<polygon fill=\"#000000\" stroke=\"#000000\" points=\"460.9442,-742.909 450.3692,-742.262 458.2326,-749.3625 460.9442,-742.909\"/>\n",
       "</g>\n",
       "<!-- 11 -->\n",
       "<g id=\"node12\" class=\"node\">\n",
       "<title>11</title>\n",
       "<polygon fill=\"#399de5\" fill-opacity=\"0.992157\" stroke=\"#000000\" points=\"694.4752,-750 566.7758,-750 566.7758,-686 694.4752,-686 694.4752,-750\"/>\n",
       "<text text-anchor=\"middle\" x=\"630.6255\" y=\"-734.8\" font-family=\"Times,serif\" font-size=\"14.00\" fill=\"#000000\">PTRATIO &lt;= 19.95</text>\n",
       "<text text-anchor=\"middle\" x=\"630.6255\" y=\"-720.8\" font-family=\"Times,serif\" font-size=\"14.00\" fill=\"#000000\">samples = 144</text>\n",
       "<text text-anchor=\"middle\" x=\"630.6255\" y=\"-706.8\" font-family=\"Times,serif\" font-size=\"14.00\" fill=\"#000000\">value = [1, 143]</text>\n",
       "<text text-anchor=\"middle\" x=\"630.6255\" y=\"-692.8\" font-family=\"Times,serif\" font-size=\"14.00\" fill=\"#000000\">class = High price</text>\n",
       "</g>\n",
       "<!-- 1&#45;&gt;11 -->\n",
       "<g id=\"edge11\" class=\"edge\">\n",
       "<title>1&#45;&gt;11</title>\n",
       "<path fill=\"none\" stroke=\"#000000\" d=\"M630.6255,-785.8089C630.6255,-777.6906 630.6255,-768.8517 630.6255,-760.3186\"/>\n",
       "<polygon fill=\"#000000\" stroke=\"#000000\" points=\"634.1256,-760.1307 630.6255,-750.1308 627.1256,-760.1308 634.1256,-760.1307\"/>\n",
       "</g>\n",
       "<!-- 3 -->\n",
       "<g id=\"node4\" class=\"node\">\n",
       "<title>3</title>\n",
       "<polygon fill=\"#399de5\" fill-opacity=\"0.874510\" stroke=\"#000000\" points=\"250.2151,-650 133.0359,-650 133.0359,-586 250.2151,-586 250.2151,-650\"/>\n",
       "<text text-anchor=\"middle\" x=\"191.6255\" y=\"-634.8\" font-family=\"Times,serif\" font-size=\"14.00\" fill=\"#000000\">CRIM &lt;= 0.067</text>\n",
       "<text text-anchor=\"middle\" x=\"191.6255\" y=\"-620.8\" font-family=\"Times,serif\" font-size=\"14.00\" fill=\"#000000\">samples = 9</text>\n",
       "<text text-anchor=\"middle\" x=\"191.6255\" y=\"-606.8\" font-family=\"Times,serif\" font-size=\"14.00\" fill=\"#000000\">value = [1, 8]</text>\n",
       "<text text-anchor=\"middle\" x=\"191.6255\" y=\"-592.8\" font-family=\"Times,serif\" font-size=\"14.00\" fill=\"#000000\">class = High price</text>\n",
       "</g>\n",
       "<!-- 2&#45;&gt;3 -->\n",
       "<g id=\"edge3\" class=\"edge\">\n",
       "<title>2&#45;&gt;3</title>\n",
       "<path fill=\"none\" stroke=\"#000000\" d=\"M334.7576,-689.21C311.3107,-677.5449 284.0634,-663.989 259.6729,-651.8545\"/>\n",
       "<polygon fill=\"#000000\" stroke=\"#000000\" points=\"260.991,-648.601 250.4788,-647.2803 257.873,-654.8682 260.991,-648.601\"/>\n",
       "</g>\n",
       "<!-- 6 -->\n",
       "<g id=\"node7\" class=\"node\">\n",
       "<title>6</title>\n",
       "<polygon fill=\"#e58139\" fill-opacity=\"0.811765\" stroke=\"#000000\" points=\"450.3767,-650 334.8742,-650 334.8742,-586 450.3767,-586 450.3767,-650\"/>\n",
       "<text text-anchor=\"middle\" x=\"392.6255\" y=\"-634.8\" font-family=\"Times,serif\" font-size=\"14.00\" fill=\"#000000\">AGE &lt;= 21.65</text>\n",
       "<text text-anchor=\"middle\" x=\"392.6255\" y=\"-620.8\" font-family=\"Times,serif\" font-size=\"14.00\" fill=\"#000000\">samples = 19</text>\n",
       "<text text-anchor=\"middle\" x=\"392.6255\" y=\"-606.8\" font-family=\"Times,serif\" font-size=\"14.00\" fill=\"#000000\">value = [16, 3]</text>\n",
       "<text text-anchor=\"middle\" x=\"392.6255\" y=\"-592.8\" font-family=\"Times,serif\" font-size=\"14.00\" fill=\"#000000\">class = Low price</text>\n",
       "</g>\n",
       "<!-- 2&#45;&gt;6 -->\n",
       "<g id=\"edge6\" class=\"edge\">\n",
       "<title>2&#45;&gt;6</title>\n",
       "<path fill=\"none\" stroke=\"#000000\" d=\"M392.6255,-685.8089C392.6255,-677.6906 392.6255,-668.8517 392.6255,-660.3186\"/>\n",
       "<polygon fill=\"#000000\" stroke=\"#000000\" points=\"396.1256,-660.1307 392.6255,-650.1308 389.1256,-660.1308 396.1256,-660.1307\"/>\n",
       "</g>\n",
       "<!-- 4 -->\n",
       "<g id=\"node5\" class=\"node\">\n",
       "<title>4</title>\n",
       "<polygon fill=\"#e58139\" stroke=\"#000000\" points=\"115.3767,-543 -.1258,-543 -.1258,-493 115.3767,-493 115.3767,-543\"/>\n",
       "<text text-anchor=\"middle\" x=\"57.6255\" y=\"-527.8\" font-family=\"Times,serif\" font-size=\"14.00\" fill=\"#000000\">samples = 1</text>\n",
       "<text text-anchor=\"middle\" x=\"57.6255\" y=\"-513.8\" font-family=\"Times,serif\" font-size=\"14.00\" fill=\"#000000\">value = [1, 0]</text>\n",
       "<text text-anchor=\"middle\" x=\"57.6255\" y=\"-499.8\" font-family=\"Times,serif\" font-size=\"14.00\" fill=\"#000000\">class = Low price</text>\n",
       "</g>\n",
       "<!-- 3&#45;&gt;4 -->\n",
       "<g id=\"edge4\" class=\"edge\">\n",
       "<title>3&#45;&gt;4</title>\n",
       "<path fill=\"none\" stroke=\"#000000\" d=\"M148.4894,-585.8089C132.8673,-574.1506 115.2541,-561.0064 99.7225,-549.4157\"/>\n",
       "<polygon fill=\"#000000\" stroke=\"#000000\" points=\"101.4416,-546.3314 91.3339,-543.1555 97.255,-551.9414 101.4416,-546.3314\"/>\n",
       "</g>\n",
       "<!-- 5 -->\n",
       "<g id=\"node6\" class=\"node\">\n",
       "<title>5</title>\n",
       "<polygon fill=\"#399de5\" stroke=\"#000000\" points=\"250.2151,-543 133.0359,-543 133.0359,-493 250.2151,-493 250.2151,-543\"/>\n",
       "<text text-anchor=\"middle\" x=\"191.6255\" y=\"-527.8\" font-family=\"Times,serif\" font-size=\"14.00\" fill=\"#000000\">samples = 8</text>\n",
       "<text text-anchor=\"middle\" x=\"191.6255\" y=\"-513.8\" font-family=\"Times,serif\" font-size=\"14.00\" fill=\"#000000\">value = [0, 8]</text>\n",
       "<text text-anchor=\"middle\" x=\"191.6255\" y=\"-499.8\" font-family=\"Times,serif\" font-size=\"14.00\" fill=\"#000000\">class = High price</text>\n",
       "</g>\n",
       "<!-- 3&#45;&gt;5 -->\n",
       "<g id=\"edge5\" class=\"edge\">\n",
       "<title>3&#45;&gt;5</title>\n",
       "<path fill=\"none\" stroke=\"#000000\" d=\"M191.6255,-585.8089C191.6255,-575.446 191.6255,-563.909 191.6255,-553.3327\"/>\n",
       "<polygon fill=\"#000000\" stroke=\"#000000\" points=\"195.1256,-553.1555 191.6255,-543.1555 188.1256,-553.1556 195.1256,-553.1555\"/>\n",
       "</g>\n",
       "<!-- 7 -->\n",
       "<g id=\"node8\" class=\"node\">\n",
       "<title>7</title>\n",
       "<polygon fill=\"#399de5\" fill-opacity=\"0.333333\" stroke=\"#000000\" points=\"386.2151,-550 269.0359,-550 269.0359,-486 386.2151,-486 386.2151,-550\"/>\n",
       "<text text-anchor=\"middle\" x=\"327.6255\" y=\"-534.8\" font-family=\"Times,serif\" font-size=\"14.00\" fill=\"#000000\">ZN &lt;= 50.5</text>\n",
       "<text text-anchor=\"middle\" x=\"327.6255\" y=\"-520.8\" font-family=\"Times,serif\" font-size=\"14.00\" fill=\"#000000\">samples = 5</text>\n",
       "<text text-anchor=\"middle\" x=\"327.6255\" y=\"-506.8\" font-family=\"Times,serif\" font-size=\"14.00\" fill=\"#000000\">value = [2, 3]</text>\n",
       "<text text-anchor=\"middle\" x=\"327.6255\" y=\"-492.8\" font-family=\"Times,serif\" font-size=\"14.00\" fill=\"#000000\">class = High price</text>\n",
       "</g>\n",
       "<!-- 6&#45;&gt;7 -->\n",
       "<g id=\"edge7\" class=\"edge\">\n",
       "<title>6&#45;&gt;7</title>\n",
       "<path fill=\"none\" stroke=\"#000000\" d=\"M371.7013,-585.8089C366.0764,-577.1553 359.9194,-567.683 354.0383,-558.635\"/>\n",
       "<polygon fill=\"#000000\" stroke=\"#000000\" points=\"356.895,-556.6077 348.5105,-550.1308 351.0259,-560.4227 356.895,-556.6077\"/>\n",
       "</g>\n",
       "<!-- 10 -->\n",
       "<g id=\"node11\" class=\"node\">\n",
       "<title>10</title>\n",
       "<polygon fill=\"#e58139\" stroke=\"#000000\" points=\"519.3767,-543 403.8742,-543 403.8742,-493 519.3767,-493 519.3767,-543\"/>\n",
       "<text text-anchor=\"middle\" x=\"461.6255\" y=\"-527.8\" font-family=\"Times,serif\" font-size=\"14.00\" fill=\"#000000\">samples = 14</text>\n",
       "<text text-anchor=\"middle\" x=\"461.6255\" y=\"-513.8\" font-family=\"Times,serif\" font-size=\"14.00\" fill=\"#000000\">value = [14, 0]</text>\n",
       "<text text-anchor=\"middle\" x=\"461.6255\" y=\"-499.8\" font-family=\"Times,serif\" font-size=\"14.00\" fill=\"#000000\">class = Low price</text>\n",
       "</g>\n",
       "<!-- 6&#45;&gt;10 -->\n",
       "<g id=\"edge10\" class=\"edge\">\n",
       "<title>6&#45;&gt;10</title>\n",
       "<path fill=\"none\" stroke=\"#000000\" d=\"M414.8373,-585.8089C422.3602,-574.9063 430.7797,-562.7041 438.3806,-551.6882\"/>\n",
       "<polygon fill=\"#000000\" stroke=\"#000000\" points=\"441.4697,-553.3741 444.2682,-543.1555 435.7081,-549.3986 441.4697,-553.3741\"/>\n",
       "</g>\n",
       "<!-- 8 -->\n",
       "<g id=\"node9\" class=\"node\">\n",
       "<title>8</title>\n",
       "<polygon fill=\"#399de5\" stroke=\"#000000\" points=\"319.2151,-443 202.0359,-443 202.0359,-393 319.2151,-393 319.2151,-443\"/>\n",
       "<text text-anchor=\"middle\" x=\"260.6255\" y=\"-427.8\" font-family=\"Times,serif\" font-size=\"14.00\" fill=\"#000000\">samples = 3</text>\n",
       "<text text-anchor=\"middle\" x=\"260.6255\" y=\"-413.8\" font-family=\"Times,serif\" font-size=\"14.00\" fill=\"#000000\">value = [0, 3]</text>\n",
       "<text text-anchor=\"middle\" x=\"260.6255\" y=\"-399.8\" font-family=\"Times,serif\" font-size=\"14.00\" fill=\"#000000\">class = High price</text>\n",
       "</g>\n",
       "<!-- 7&#45;&gt;8 -->\n",
       "<g id=\"edge8\" class=\"edge\">\n",
       "<title>7&#45;&gt;8</title>\n",
       "<path fill=\"none\" stroke=\"#000000\" d=\"M306.0575,-485.8089C298.7527,-474.9063 290.5772,-462.7041 283.1966,-451.6882\"/>\n",
       "<polygon fill=\"#000000\" stroke=\"#000000\" points=\"285.9536,-449.5151 277.4797,-443.1555 280.1382,-453.4114 285.9536,-449.5151\"/>\n",
       "</g>\n",
       "<!-- 9 -->\n",
       "<g id=\"node10\" class=\"node\">\n",
       "<title>9</title>\n",
       "<polygon fill=\"#e58139\" stroke=\"#000000\" points=\"452.3767,-443 336.8742,-443 336.8742,-393 452.3767,-393 452.3767,-443\"/>\n",
       "<text text-anchor=\"middle\" x=\"394.6255\" y=\"-427.8\" font-family=\"Times,serif\" font-size=\"14.00\" fill=\"#000000\">samples = 2</text>\n",
       "<text text-anchor=\"middle\" x=\"394.6255\" y=\"-413.8\" font-family=\"Times,serif\" font-size=\"14.00\" fill=\"#000000\">value = [2, 0]</text>\n",
       "<text text-anchor=\"middle\" x=\"394.6255\" y=\"-399.8\" font-family=\"Times,serif\" font-size=\"14.00\" fill=\"#000000\">class = Low price</text>\n",
       "</g>\n",
       "<!-- 7&#45;&gt;9 -->\n",
       "<g id=\"edge9\" class=\"edge\">\n",
       "<title>7&#45;&gt;9</title>\n",
       "<path fill=\"none\" stroke=\"#000000\" d=\"M349.1935,-485.8089C356.4983,-474.9063 364.6738,-462.7041 372.0544,-451.6882\"/>\n",
       "<polygon fill=\"#000000\" stroke=\"#000000\" points=\"375.1128,-453.4114 377.7713,-443.1555 369.2974,-449.5151 375.1128,-453.4114\"/>\n",
       "</g>\n",
       "<!-- 12 -->\n",
       "<g id=\"node13\" class=\"node\">\n",
       "<title>12</title>\n",
       "<polygon fill=\"#399de5\" stroke=\"#000000\" points=\"618.2151,-643 501.0359,-643 501.0359,-593 618.2151,-593 618.2151,-643\"/>\n",
       "<text text-anchor=\"middle\" x=\"559.6255\" y=\"-627.8\" font-family=\"Times,serif\" font-size=\"14.00\" fill=\"#000000\">samples = 133</text>\n",
       "<text text-anchor=\"middle\" x=\"559.6255\" y=\"-613.8\" font-family=\"Times,serif\" font-size=\"14.00\" fill=\"#000000\">value = [0, 133]</text>\n",
       "<text text-anchor=\"middle\" x=\"559.6255\" y=\"-599.8\" font-family=\"Times,serif\" font-size=\"14.00\" fill=\"#000000\">class = High price</text>\n",
       "</g>\n",
       "<!-- 11&#45;&gt;12 -->\n",
       "<g id=\"edge12\" class=\"edge\">\n",
       "<title>11&#45;&gt;12</title>\n",
       "<path fill=\"none\" stroke=\"#000000\" d=\"M607.7698,-685.8089C599.9523,-674.7983 591.1937,-662.4623 583.3121,-651.3614\"/>\n",
       "<polygon fill=\"#000000\" stroke=\"#000000\" points=\"586.129,-649.2831 577.4859,-643.1555 580.4213,-653.3356 586.129,-649.2831\"/>\n",
       "</g>\n",
       "<!-- 13 -->\n",
       "<g id=\"node14\" class=\"node\">\n",
       "<title>13</title>\n",
       "<polygon fill=\"#399de5\" fill-opacity=\"0.901961\" stroke=\"#000000\" points=\"754.2151,-650 637.0359,-650 637.0359,-586 754.2151,-586 754.2151,-650\"/>\n",
       "<text text-anchor=\"middle\" x=\"695.6255\" y=\"-634.8\" font-family=\"Times,serif\" font-size=\"14.00\" fill=\"#000000\">CRIM &lt;= 0.044</text>\n",
       "<text text-anchor=\"middle\" x=\"695.6255\" y=\"-620.8\" font-family=\"Times,serif\" font-size=\"14.00\" fill=\"#000000\">samples = 11</text>\n",
       "<text text-anchor=\"middle\" x=\"695.6255\" y=\"-606.8\" font-family=\"Times,serif\" font-size=\"14.00\" fill=\"#000000\">value = [1, 10]</text>\n",
       "<text text-anchor=\"middle\" x=\"695.6255\" y=\"-592.8\" font-family=\"Times,serif\" font-size=\"14.00\" fill=\"#000000\">class = High price</text>\n",
       "</g>\n",
       "<!-- 11&#45;&gt;13 -->\n",
       "<g id=\"edge13\" class=\"edge\">\n",
       "<title>11&#45;&gt;13</title>\n",
       "<path fill=\"none\" stroke=\"#000000\" d=\"M651.5497,-685.8089C657.1745,-677.1553 663.3315,-667.683 669.2127,-658.635\"/>\n",
       "<polygon fill=\"#000000\" stroke=\"#000000\" points=\"672.2251,-660.4227 674.7405,-650.1308 666.356,-656.6077 672.2251,-660.4227\"/>\n",
       "</g>\n",
       "<!-- 14 -->\n",
       "<g id=\"node15\" class=\"node\">\n",
       "<title>14</title>\n",
       "<polygon fill=\"#e58139\" stroke=\"#000000\" points=\"652.3767,-543 536.8742,-543 536.8742,-493 652.3767,-493 652.3767,-543\"/>\n",
       "<text text-anchor=\"middle\" x=\"594.6255\" y=\"-527.8\" font-family=\"Times,serif\" font-size=\"14.00\" fill=\"#000000\">samples = 1</text>\n",
       "<text text-anchor=\"middle\" x=\"594.6255\" y=\"-513.8\" font-family=\"Times,serif\" font-size=\"14.00\" fill=\"#000000\">value = [1, 0]</text>\n",
       "<text text-anchor=\"middle\" x=\"594.6255\" y=\"-499.8\" font-family=\"Times,serif\" font-size=\"14.00\" fill=\"#000000\">class = Low price</text>\n",
       "</g>\n",
       "<!-- 13&#45;&gt;14 -->\n",
       "<g id=\"edge14\" class=\"edge\">\n",
       "<title>13&#45;&gt;14</title>\n",
       "<path fill=\"none\" stroke=\"#000000\" d=\"M663.1125,-585.8089C651.6647,-574.4745 638.7984,-561.7355 627.3345,-550.3851\"/>\n",
       "<polygon fill=\"#000000\" stroke=\"#000000\" points=\"629.6013,-547.7042 620.0326,-543.1555 624.6762,-552.6785 629.6013,-547.7042\"/>\n",
       "</g>\n",
       "<!-- 15 -->\n",
       "<g id=\"node16\" class=\"node\">\n",
       "<title>15</title>\n",
       "<polygon fill=\"#399de5\" stroke=\"#000000\" points=\"787.2151,-543 670.0359,-543 670.0359,-493 787.2151,-493 787.2151,-543\"/>\n",
       "<text text-anchor=\"middle\" x=\"728.6255\" y=\"-527.8\" font-family=\"Times,serif\" font-size=\"14.00\" fill=\"#000000\">samples = 10</text>\n",
       "<text text-anchor=\"middle\" x=\"728.6255\" y=\"-513.8\" font-family=\"Times,serif\" font-size=\"14.00\" fill=\"#000000\">value = [0, 10]</text>\n",
       "<text text-anchor=\"middle\" x=\"728.6255\" y=\"-499.8\" font-family=\"Times,serif\" font-size=\"14.00\" fill=\"#000000\">class = High price</text>\n",
       "</g>\n",
       "<!-- 13&#45;&gt;15 -->\n",
       "<g id=\"edge15\" class=\"edge\">\n",
       "<title>13&#45;&gt;15</title>\n",
       "<path fill=\"none\" stroke=\"#000000\" d=\"M706.2485,-585.8089C709.7396,-575.2301 713.6343,-563.4278 717.1834,-552.6729\"/>\n",
       "<polygon fill=\"#000000\" stroke=\"#000000\" points=\"720.514,-553.7487 720.3242,-543.1555 713.8666,-551.555 720.514,-553.7487\"/>\n",
       "</g>\n",
       "<!-- 17 -->\n",
       "<g id=\"node18\" class=\"node\">\n",
       "<title>17</title>\n",
       "<polygon fill=\"#e58139\" fill-opacity=\"0.403922\" stroke=\"#000000\" points=\"1124.9752,-750 1004.2758,-750 1004.2758,-686 1124.9752,-686 1124.9752,-750\"/>\n",
       "<text text-anchor=\"middle\" x=\"1064.6255\" y=\"-734.8\" font-family=\"Times,serif\" font-size=\"14.00\" fill=\"#000000\">PTRATIO &lt;= 17.6</text>\n",
       "<text text-anchor=\"middle\" x=\"1064.6255\" y=\"-720.8\" font-family=\"Times,serif\" font-size=\"14.00\" fill=\"#000000\">samples = 83</text>\n",
       "<text text-anchor=\"middle\" x=\"1064.6255\" y=\"-706.8\" font-family=\"Times,serif\" font-size=\"14.00\" fill=\"#000000\">value = [52, 31]</text>\n",
       "<text text-anchor=\"middle\" x=\"1064.6255\" y=\"-692.8\" font-family=\"Times,serif\" font-size=\"14.00\" fill=\"#000000\">class = Low price</text>\n",
       "</g>\n",
       "<!-- 16&#45;&gt;17 -->\n",
       "<g id=\"edge17\" class=\"edge\">\n",
       "<title>16&#45;&gt;17</title>\n",
       "<path fill=\"none\" stroke=\"#000000\" d=\"M1064.6255,-785.8089C1064.6255,-777.6906 1064.6255,-768.8517 1064.6255,-760.3186\"/>\n",
       "<polygon fill=\"#000000\" stroke=\"#000000\" points=\"1068.1256,-760.1307 1064.6255,-750.1308 1061.1256,-760.1308 1068.1256,-760.1307\"/>\n",
       "</g>\n",
       "<!-- 50 -->\n",
       "<g id=\"node51\" class=\"node\">\n",
       "<title>50</title>\n",
       "<polygon fill=\"#e58139\" fill-opacity=\"0.956863\" stroke=\"#000000\" points=\"1491.3767,-750 1375.8742,-750 1375.8742,-686 1491.3767,-686 1491.3767,-750\"/>\n",
       "<text text-anchor=\"middle\" x=\"1433.6255\" y=\"-734.8\" font-family=\"Times,serif\" font-size=\"14.00\" fill=\"#000000\">AGE &lt;= 62.0</text>\n",
       "<text text-anchor=\"middle\" x=\"1433.6255\" y=\"-720.8\" font-family=\"Times,serif\" font-size=\"14.00\" fill=\"#000000\">samples = 124</text>\n",
       "<text text-anchor=\"middle\" x=\"1433.6255\" y=\"-706.8\" font-family=\"Times,serif\" font-size=\"14.00\" fill=\"#000000\">value = [119, 5]</text>\n",
       "<text text-anchor=\"middle\" x=\"1433.6255\" y=\"-692.8\" font-family=\"Times,serif\" font-size=\"14.00\" fill=\"#000000\">class = Low price</text>\n",
       "</g>\n",
       "<!-- 16&#45;&gt;50 -->\n",
       "<g id=\"edge50\" class=\"edge\">\n",
       "<title>16&#45;&gt;50</title>\n",
       "<path fill=\"none\" stroke=\"#000000\" d=\"M1123.9117,-801.9333C1189.9317,-784.0417 1296.4523,-755.1743 1365.757,-736.3926\"/>\n",
       "<polygon fill=\"#000000\" stroke=\"#000000\" points=\"1366.9666,-739.6911 1375.703,-733.6972 1365.1356,-732.9348 1366.9666,-739.6911\"/>\n",
       "</g>\n",
       "<!-- 18 -->\n",
       "<g id=\"node19\" class=\"node\">\n",
       "<title>18</title>\n",
       "<polygon fill=\"#399de5\" fill-opacity=\"0.537255\" stroke=\"#000000\" points=\"1055.2151,-650 938.0359,-650 938.0359,-586 1055.2151,-586 1055.2151,-650\"/>\n",
       "<text text-anchor=\"middle\" x=\"996.6255\" y=\"-634.8\" font-family=\"Times,serif\" font-size=\"14.00\" fill=\"#000000\">RM &lt;= 6.047</text>\n",
       "<text text-anchor=\"middle\" x=\"996.6255\" y=\"-620.8\" font-family=\"Times,serif\" font-size=\"14.00\" fill=\"#000000\">samples = 19</text>\n",
       "<text text-anchor=\"middle\" x=\"996.6255\" y=\"-606.8\" font-family=\"Times,serif\" font-size=\"14.00\" fill=\"#000000\">value = [6, 13]</text>\n",
       "<text text-anchor=\"middle\" x=\"996.6255\" y=\"-592.8\" font-family=\"Times,serif\" font-size=\"14.00\" fill=\"#000000\">class = High price</text>\n",
       "</g>\n",
       "<!-- 17&#45;&gt;18 -->\n",
       "<g id=\"edge18\" class=\"edge\">\n",
       "<title>17&#45;&gt;18</title>\n",
       "<path fill=\"none\" stroke=\"#000000\" d=\"M1042.7356,-685.8089C1036.8511,-677.1553 1030.4099,-667.683 1024.2573,-658.635\"/>\n",
       "<polygon fill=\"#000000\" stroke=\"#000000\" points=\"1026.9918,-656.4319 1018.4744,-650.1308 1021.2033,-660.3681 1026.9918,-656.4319\"/>\n",
       "</g>\n",
       "<!-- 27 -->\n",
       "<g id=\"node28\" class=\"node\">\n",
       "<title>27</title>\n",
       "<polygon fill=\"#e58139\" fill-opacity=\"0.607843\" stroke=\"#000000\" points=\"1190.3767,-650 1074.8742,-650 1074.8742,-586 1190.3767,-586 1190.3767,-650\"/>\n",
       "<text text-anchor=\"middle\" x=\"1132.6255\" y=\"-634.8\" font-family=\"Times,serif\" font-size=\"14.00\" fill=\"#000000\">TAX &lt;= 208.0</text>\n",
       "<text text-anchor=\"middle\" x=\"1132.6255\" y=\"-620.8\" font-family=\"Times,serif\" font-size=\"14.00\" fill=\"#000000\">samples = 64</text>\n",
       "<text text-anchor=\"middle\" x=\"1132.6255\" y=\"-606.8\" font-family=\"Times,serif\" font-size=\"14.00\" fill=\"#000000\">value = [46, 18]</text>\n",
       "<text text-anchor=\"middle\" x=\"1132.6255\" y=\"-592.8\" font-family=\"Times,serif\" font-size=\"14.00\" fill=\"#000000\">class = Low price</text>\n",
       "</g>\n",
       "<!-- 17&#45;&gt;27 -->\n",
       "<g id=\"edge27\" class=\"edge\">\n",
       "<title>17&#45;&gt;27</title>\n",
       "<path fill=\"none\" stroke=\"#000000\" d=\"M1086.5154,-685.8089C1092.3999,-677.1553 1098.841,-667.683 1104.9937,-658.635\"/>\n",
       "<polygon fill=\"#000000\" stroke=\"#000000\" points=\"1108.0477,-660.3681 1110.7766,-650.1308 1102.2592,-656.4319 1108.0477,-660.3681\"/>\n",
       "</g>\n",
       "<!-- 19 -->\n",
       "<g id=\"node20\" class=\"node\">\n",
       "<title>19</title>\n",
       "<polygon fill=\"transparent\" stroke=\"#000000\" points=\"920.3767,-550 804.8742,-550 804.8742,-486 920.3767,-486 920.3767,-550\"/>\n",
       "<text text-anchor=\"middle\" x=\"862.6255\" y=\"-534.8\" font-family=\"Times,serif\" font-size=\"14.00\" fill=\"#000000\">DIS &lt;= 5.865</text>\n",
       "<text text-anchor=\"middle\" x=\"862.6255\" y=\"-520.8\" font-family=\"Times,serif\" font-size=\"14.00\" fill=\"#000000\">samples = 12</text>\n",
       "<text text-anchor=\"middle\" x=\"862.6255\" y=\"-506.8\" font-family=\"Times,serif\" font-size=\"14.00\" fill=\"#000000\">value = [6, 6]</text>\n",
       "<text text-anchor=\"middle\" x=\"862.6255\" y=\"-492.8\" font-family=\"Times,serif\" font-size=\"14.00\" fill=\"#000000\">class = Low price</text>\n",
       "</g>\n",
       "<!-- 18&#45;&gt;19 -->\n",
       "<g id=\"edge19\" class=\"edge\">\n",
       "<title>18&#45;&gt;19</title>\n",
       "<path fill=\"none\" stroke=\"#000000\" d=\"M953.4894,-585.8089C940.8177,-576.3524 926.8359,-565.9182 913.7176,-556.1285\"/>\n",
       "<polygon fill=\"#000000\" stroke=\"#000000\" points=\"915.7884,-553.3066 905.6807,-550.1308 911.6017,-558.9167 915.7884,-553.3066\"/>\n",
       "</g>\n",
       "<!-- 26 -->\n",
       "<g id=\"node27\" class=\"node\">\n",
       "<title>26</title>\n",
       "<polygon fill=\"#399de5\" stroke=\"#000000\" points=\"1055.2151,-543 938.0359,-543 938.0359,-493 1055.2151,-493 1055.2151,-543\"/>\n",
       "<text text-anchor=\"middle\" x=\"996.6255\" y=\"-527.8\" font-family=\"Times,serif\" font-size=\"14.00\" fill=\"#000000\">samples = 7</text>\n",
       "<text text-anchor=\"middle\" x=\"996.6255\" y=\"-513.8\" font-family=\"Times,serif\" font-size=\"14.00\" fill=\"#000000\">value = [0, 7]</text>\n",
       "<text text-anchor=\"middle\" x=\"996.6255\" y=\"-499.8\" font-family=\"Times,serif\" font-size=\"14.00\" fill=\"#000000\">class = High price</text>\n",
       "</g>\n",
       "<!-- 18&#45;&gt;26 -->\n",
       "<g id=\"edge26\" class=\"edge\">\n",
       "<title>18&#45;&gt;26</title>\n",
       "<path fill=\"none\" stroke=\"#000000\" d=\"M996.6255,-585.8089C996.6255,-575.446 996.6255,-563.909 996.6255,-553.3327\"/>\n",
       "<polygon fill=\"#000000\" stroke=\"#000000\" points=\"1000.1256,-553.1555 996.6255,-543.1555 993.1256,-553.1556 1000.1256,-553.1555\"/>\n",
       "</g>\n",
       "<!-- 20 -->\n",
       "<g id=\"node21\" class=\"node\">\n",
       "<title>20</title>\n",
       "<polygon fill=\"#399de5\" fill-opacity=\"0.498039\" stroke=\"#000000\" points=\"789.2151,-450 672.0359,-450 672.0359,-386 789.2151,-386 789.2151,-450\"/>\n",
       "<text text-anchor=\"middle\" x=\"730.6255\" y=\"-434.8\" font-family=\"Times,serif\" font-size=\"14.00\" fill=\"#000000\">B &lt;= 367.84</text>\n",
       "<text text-anchor=\"middle\" x=\"730.6255\" y=\"-420.8\" font-family=\"Times,serif\" font-size=\"14.00\" fill=\"#000000\">samples = 9</text>\n",
       "<text text-anchor=\"middle\" x=\"730.6255\" y=\"-406.8\" font-family=\"Times,serif\" font-size=\"14.00\" fill=\"#000000\">value = [3, 6]</text>\n",
       "<text text-anchor=\"middle\" x=\"730.6255\" y=\"-392.8\" font-family=\"Times,serif\" font-size=\"14.00\" fill=\"#000000\">class = High price</text>\n",
       "</g>\n",
       "<!-- 19&#45;&gt;20 -->\n",
       "<g id=\"edge20\" class=\"edge\">\n",
       "<title>19&#45;&gt;20</title>\n",
       "<path fill=\"none\" stroke=\"#000000\" d=\"M820.1333,-485.8089C807.7684,-476.4416 794.1373,-466.115 781.321,-456.4057\"/>\n",
       "<polygon fill=\"#000000\" stroke=\"#000000\" points=\"783.1225,-453.3795 773.0381,-450.1308 778.8955,-458.9592 783.1225,-453.3795\"/>\n",
       "</g>\n",
       "<!-- 25 -->\n",
       "<g id=\"node26\" class=\"node\">\n",
       "<title>25</title>\n",
       "<polygon fill=\"#e58139\" stroke=\"#000000\" points=\"922.3767,-443 806.8742,-443 806.8742,-393 922.3767,-393 922.3767,-443\"/>\n",
       "<text text-anchor=\"middle\" x=\"864.6255\" y=\"-427.8\" font-family=\"Times,serif\" font-size=\"14.00\" fill=\"#000000\">samples = 3</text>\n",
       "<text text-anchor=\"middle\" x=\"864.6255\" y=\"-413.8\" font-family=\"Times,serif\" font-size=\"14.00\" fill=\"#000000\">value = [3, 0]</text>\n",
       "<text text-anchor=\"middle\" x=\"864.6255\" y=\"-399.8\" font-family=\"Times,serif\" font-size=\"14.00\" fill=\"#000000\">class = Low price</text>\n",
       "</g>\n",
       "<!-- 19&#45;&gt;25 -->\n",
       "<g id=\"edge25\" class=\"edge\">\n",
       "<title>19&#45;&gt;25</title>\n",
       "<path fill=\"none\" stroke=\"#000000\" d=\"M863.2693,-485.8089C863.4766,-475.446 863.7073,-463.909 863.9188,-453.3327\"/>\n",
       "<polygon fill=\"#000000\" stroke=\"#000000\" points=\"867.4216,-453.2236 864.1224,-443.1555 860.423,-453.0835 867.4216,-453.2236\"/>\n",
       "</g>\n",
       "<!-- 21 -->\n",
       "<g id=\"node22\" class=\"node\">\n",
       "<title>21</title>\n",
       "<polygon fill=\"#e58139\" fill-opacity=\"0.666667\" stroke=\"#000000\" points=\"722.3767,-350 606.8742,-350 606.8742,-286 722.3767,-286 722.3767,-350\"/>\n",
       "<text text-anchor=\"middle\" x=\"664.6255\" y=\"-334.8\" font-family=\"Times,serif\" font-size=\"14.00\" fill=\"#000000\">RM &lt;= 5.876</text>\n",
       "<text text-anchor=\"middle\" x=\"664.6255\" y=\"-320.8\" font-family=\"Times,serif\" font-size=\"14.00\" fill=\"#000000\">samples = 4</text>\n",
       "<text text-anchor=\"middle\" x=\"664.6255\" y=\"-306.8\" font-family=\"Times,serif\" font-size=\"14.00\" fill=\"#000000\">value = [3, 1]</text>\n",
       "<text text-anchor=\"middle\" x=\"664.6255\" y=\"-292.8\" font-family=\"Times,serif\" font-size=\"14.00\" fill=\"#000000\">class = Low price</text>\n",
       "</g>\n",
       "<!-- 20&#45;&gt;21 -->\n",
       "<g id=\"edge21\" class=\"edge\">\n",
       "<title>20&#45;&gt;21</title>\n",
       "<path fill=\"none\" stroke=\"#000000\" d=\"M709.3794,-385.8089C703.668,-377.1553 697.4163,-367.683 691.4446,-358.635\"/>\n",
       "<polygon fill=\"#000000\" stroke=\"#000000\" points=\"694.2614,-356.5489 685.8318,-350.1308 688.4191,-360.4048 694.2614,-356.5489\"/>\n",
       "</g>\n",
       "<!-- 24 -->\n",
       "<g id=\"node25\" class=\"node\">\n",
       "<title>24</title>\n",
       "<polygon fill=\"#399de5\" stroke=\"#000000\" points=\"857.2151,-343 740.0359,-343 740.0359,-293 857.2151,-293 857.2151,-343\"/>\n",
       "<text text-anchor=\"middle\" x=\"798.6255\" y=\"-327.8\" font-family=\"Times,serif\" font-size=\"14.00\" fill=\"#000000\">samples = 5</text>\n",
       "<text text-anchor=\"middle\" x=\"798.6255\" y=\"-313.8\" font-family=\"Times,serif\" font-size=\"14.00\" fill=\"#000000\">value = [0, 5]</text>\n",
       "<text text-anchor=\"middle\" x=\"798.6255\" y=\"-299.8\" font-family=\"Times,serif\" font-size=\"14.00\" fill=\"#000000\">class = High price</text>\n",
       "</g>\n",
       "<!-- 20&#45;&gt;24 -->\n",
       "<g id=\"edge24\" class=\"edge\">\n",
       "<title>20&#45;&gt;24</title>\n",
       "<path fill=\"none\" stroke=\"#000000\" d=\"M752.5154,-385.8089C759.9292,-374.9063 768.2267,-362.7041 775.7175,-351.6882\"/>\n",
       "<polygon fill=\"#000000\" stroke=\"#000000\" points=\"778.7908,-353.3929 781.5197,-343.1555 773.0023,-349.4567 778.7908,-353.3929\"/>\n",
       "</g>\n",
       "<!-- 22 -->\n",
       "<g id=\"node23\" class=\"node\">\n",
       "<title>22</title>\n",
       "<polygon fill=\"#e58139\" stroke=\"#000000\" points=\"720.3767,-243 604.8742,-243 604.8742,-193 720.3767,-193 720.3767,-243\"/>\n",
       "<text text-anchor=\"middle\" x=\"662.6255\" y=\"-227.8\" font-family=\"Times,serif\" font-size=\"14.00\" fill=\"#000000\">samples = 3</text>\n",
       "<text text-anchor=\"middle\" x=\"662.6255\" y=\"-213.8\" font-family=\"Times,serif\" font-size=\"14.00\" fill=\"#000000\">value = [3, 0]</text>\n",
       "<text text-anchor=\"middle\" x=\"662.6255\" y=\"-199.8\" font-family=\"Times,serif\" font-size=\"14.00\" fill=\"#000000\">class = Low price</text>\n",
       "</g>\n",
       "<!-- 21&#45;&gt;22 -->\n",
       "<g id=\"edge22\" class=\"edge\">\n",
       "<title>21&#45;&gt;22</title>\n",
       "<path fill=\"none\" stroke=\"#000000\" d=\"M663.9817,-285.8089C663.7744,-275.446 663.5437,-263.909 663.3321,-253.3327\"/>\n",
       "<polygon fill=\"#000000\" stroke=\"#000000\" points=\"666.828,-253.0835 663.1286,-243.1555 659.8294,-253.2236 666.828,-253.0835\"/>\n",
       "</g>\n",
       "<!-- 23 -->\n",
       "<g id=\"node24\" class=\"node\">\n",
       "<title>23</title>\n",
       "<polygon fill=\"#399de5\" stroke=\"#000000\" points=\"855.2151,-243 738.0359,-243 738.0359,-193 855.2151,-193 855.2151,-243\"/>\n",
       "<text text-anchor=\"middle\" x=\"796.6255\" y=\"-227.8\" font-family=\"Times,serif\" font-size=\"14.00\" fill=\"#000000\">samples = 1</text>\n",
       "<text text-anchor=\"middle\" x=\"796.6255\" y=\"-213.8\" font-family=\"Times,serif\" font-size=\"14.00\" fill=\"#000000\">value = [0, 1]</text>\n",
       "<text text-anchor=\"middle\" x=\"796.6255\" y=\"-199.8\" font-family=\"Times,serif\" font-size=\"14.00\" fill=\"#000000\">class = High price</text>\n",
       "</g>\n",
       "<!-- 21&#45;&gt;23 -->\n",
       "<g id=\"edge23\" class=\"edge\">\n",
       "<title>21&#45;&gt;23</title>\n",
       "<path fill=\"none\" stroke=\"#000000\" d=\"M707.1177,-285.8089C722.5067,-274.1506 739.857,-261.0064 755.1567,-249.4157\"/>\n",
       "<polygon fill=\"#000000\" stroke=\"#000000\" points=\"757.5627,-251.984 763.4202,-243.1555 753.3357,-246.4043 757.5627,-251.984\"/>\n",
       "</g>\n",
       "<!-- 28 -->\n",
       "<g id=\"node29\" class=\"node\">\n",
       "<title>28</title>\n",
       "<polygon fill=\"#399de5\" fill-opacity=\"0.749020\" stroke=\"#000000\" points=\"1191.2151,-550 1074.0359,-550 1074.0359,-486 1191.2151,-486 1191.2151,-550\"/>\n",
       "<text text-anchor=\"middle\" x=\"1132.6255\" y=\"-534.8\" font-family=\"Times,serif\" font-size=\"14.00\" fill=\"#000000\">B &lt;= 381.345</text>\n",
       "<text text-anchor=\"middle\" x=\"1132.6255\" y=\"-520.8\" font-family=\"Times,serif\" font-size=\"14.00\" fill=\"#000000\">samples = 5</text>\n",
       "<text text-anchor=\"middle\" x=\"1132.6255\" y=\"-506.8\" font-family=\"Times,serif\" font-size=\"14.00\" fill=\"#000000\">value = [1, 4]</text>\n",
       "<text text-anchor=\"middle\" x=\"1132.6255\" y=\"-492.8\" font-family=\"Times,serif\" font-size=\"14.00\" fill=\"#000000\">class = High price</text>\n",
       "</g>\n",
       "<!-- 27&#45;&gt;28 -->\n",
       "<g id=\"edge28\" class=\"edge\">\n",
       "<title>27&#45;&gt;28</title>\n",
       "<path fill=\"none\" stroke=\"#000000\" d=\"M1132.6255,-585.8089C1132.6255,-577.6906 1132.6255,-568.8517 1132.6255,-560.3186\"/>\n",
       "<polygon fill=\"#000000\" stroke=\"#000000\" points=\"1136.1256,-560.1307 1132.6255,-550.1308 1129.1256,-560.1308 1136.1256,-560.1307\"/>\n",
       "</g>\n",
       "<!-- 31 -->\n",
       "<g id=\"node32\" class=\"node\">\n",
       "<title>31</title>\n",
       "<polygon fill=\"#e58139\" fill-opacity=\"0.690196\" stroke=\"#000000\" points=\"1324.3767,-550 1208.8742,-550 1208.8742,-486 1324.3767,-486 1324.3767,-550\"/>\n",
       "<text text-anchor=\"middle\" x=\"1266.6255\" y=\"-534.8\" font-family=\"Times,serif\" font-size=\"14.00\" fill=\"#000000\">B &lt;= 389.74</text>\n",
       "<text text-anchor=\"middle\" x=\"1266.6255\" y=\"-520.8\" font-family=\"Times,serif\" font-size=\"14.00\" fill=\"#000000\">samples = 59</text>\n",
       "<text text-anchor=\"middle\" x=\"1266.6255\" y=\"-506.8\" font-family=\"Times,serif\" font-size=\"14.00\" fill=\"#000000\">value = [45, 14]</text>\n",
       "<text text-anchor=\"middle\" x=\"1266.6255\" y=\"-492.8\" font-family=\"Times,serif\" font-size=\"14.00\" fill=\"#000000\">class = Low price</text>\n",
       "</g>\n",
       "<!-- 27&#45;&gt;31 -->\n",
       "<g id=\"edge31\" class=\"edge\">\n",
       "<title>27&#45;&gt;31</title>\n",
       "<path fill=\"none\" stroke=\"#000000\" d=\"M1175.7615,-585.8089C1188.4333,-576.3524 1202.4151,-565.9182 1215.5333,-556.1285\"/>\n",
       "<polygon fill=\"#000000\" stroke=\"#000000\" points=\"1217.6492,-558.9167 1223.5703,-550.1308 1213.4626,-553.3066 1217.6492,-558.9167\"/>\n",
       "</g>\n",
       "<!-- 29 -->\n",
       "<g id=\"node30\" class=\"node\">\n",
       "<title>29</title>\n",
       "<polygon fill=\"#e58139\" stroke=\"#000000\" points=\"1056.3767,-443 940.8742,-443 940.8742,-393 1056.3767,-393 1056.3767,-443\"/>\n",
       "<text text-anchor=\"middle\" x=\"998.6255\" y=\"-427.8\" font-family=\"Times,serif\" font-size=\"14.00\" fill=\"#000000\">samples = 1</text>\n",
       "<text text-anchor=\"middle\" x=\"998.6255\" y=\"-413.8\" font-family=\"Times,serif\" font-size=\"14.00\" fill=\"#000000\">value = [1, 0]</text>\n",
       "<text text-anchor=\"middle\" x=\"998.6255\" y=\"-399.8\" font-family=\"Times,serif\" font-size=\"14.00\" fill=\"#000000\">class = Low price</text>\n",
       "</g>\n",
       "<!-- 28&#45;&gt;29 -->\n",
       "<g id=\"edge29\" class=\"edge\">\n",
       "<title>28&#45;&gt;29</title>\n",
       "<path fill=\"none\" stroke=\"#000000\" d=\"M1089.4894,-485.8089C1073.8673,-474.1506 1056.2541,-461.0064 1040.7225,-449.4157\"/>\n",
       "<polygon fill=\"#000000\" stroke=\"#000000\" points=\"1042.4416,-446.3314 1032.3339,-443.1555 1038.255,-451.9414 1042.4416,-446.3314\"/>\n",
       "</g>\n",
       "<!-- 30 -->\n",
       "<g id=\"node31\" class=\"node\">\n",
       "<title>30</title>\n",
       "<polygon fill=\"#399de5\" stroke=\"#000000\" points=\"1191.2151,-443 1074.0359,-443 1074.0359,-393 1191.2151,-393 1191.2151,-443\"/>\n",
       "<text text-anchor=\"middle\" x=\"1132.6255\" y=\"-427.8\" font-family=\"Times,serif\" font-size=\"14.00\" fill=\"#000000\">samples = 4</text>\n",
       "<text text-anchor=\"middle\" x=\"1132.6255\" y=\"-413.8\" font-family=\"Times,serif\" font-size=\"14.00\" fill=\"#000000\">value = [0, 4]</text>\n",
       "<text text-anchor=\"middle\" x=\"1132.6255\" y=\"-399.8\" font-family=\"Times,serif\" font-size=\"14.00\" fill=\"#000000\">class = High price</text>\n",
       "</g>\n",
       "<!-- 28&#45;&gt;30 -->\n",
       "<g id=\"edge30\" class=\"edge\">\n",
       "<title>28&#45;&gt;30</title>\n",
       "<path fill=\"none\" stroke=\"#000000\" d=\"M1132.6255,-485.8089C1132.6255,-475.446 1132.6255,-463.909 1132.6255,-453.3327\"/>\n",
       "<polygon fill=\"#000000\" stroke=\"#000000\" points=\"1136.1256,-453.1555 1132.6255,-443.1555 1129.1256,-453.1556 1136.1256,-453.1555\"/>\n",
       "</g>\n",
       "<!-- 32 -->\n",
       "<g id=\"node33\" class=\"node\">\n",
       "<title>32</title>\n",
       "<polygon fill=\"#e58139\" fill-opacity=\"0.913725\" stroke=\"#000000\" points=\"1324.3767,-450 1208.8742,-450 1208.8742,-386 1324.3767,-386 1324.3767,-450\"/>\n",
       "<text text-anchor=\"middle\" x=\"1266.6255\" y=\"-434.8\" font-family=\"Times,serif\" font-size=\"14.00\" fill=\"#000000\">RM &lt;= 6.827</text>\n",
       "<text text-anchor=\"middle\" x=\"1266.6255\" y=\"-420.8\" font-family=\"Times,serif\" font-size=\"14.00\" fill=\"#000000\">samples = 25</text>\n",
       "<text text-anchor=\"middle\" x=\"1266.6255\" y=\"-406.8\" font-family=\"Times,serif\" font-size=\"14.00\" fill=\"#000000\">value = [23, 2]</text>\n",
       "<text text-anchor=\"middle\" x=\"1266.6255\" y=\"-392.8\" font-family=\"Times,serif\" font-size=\"14.00\" fill=\"#000000\">class = Low price</text>\n",
       "</g>\n",
       "<!-- 31&#45;&gt;32 -->\n",
       "<g id=\"edge32\" class=\"edge\">\n",
       "<title>31&#45;&gt;32</title>\n",
       "<path fill=\"none\" stroke=\"#000000\" d=\"M1266.6255,-485.8089C1266.6255,-477.6906 1266.6255,-468.8517 1266.6255,-460.3186\"/>\n",
       "<polygon fill=\"#000000\" stroke=\"#000000\" points=\"1270.1256,-460.1307 1266.6255,-450.1308 1263.1256,-460.1308 1270.1256,-460.1307\"/>\n",
       "</g>\n",
       "<!-- 39 -->\n",
       "<g id=\"node40\" class=\"node\">\n",
       "<title>39</title>\n",
       "<polygon fill=\"#e58139\" fill-opacity=\"0.454902\" stroke=\"#000000\" points=\"1458.3767,-450 1342.8742,-450 1342.8742,-386 1458.3767,-386 1458.3767,-450\"/>\n",
       "<text text-anchor=\"middle\" x=\"1400.6255\" y=\"-434.8\" font-family=\"Times,serif\" font-size=\"14.00\" fill=\"#000000\">AGE &lt;= 57.0</text>\n",
       "<text text-anchor=\"middle\" x=\"1400.6255\" y=\"-420.8\" font-family=\"Times,serif\" font-size=\"14.00\" fill=\"#000000\">samples = 34</text>\n",
       "<text text-anchor=\"middle\" x=\"1400.6255\" y=\"-406.8\" font-family=\"Times,serif\" font-size=\"14.00\" fill=\"#000000\">value = [22, 12]</text>\n",
       "<text text-anchor=\"middle\" x=\"1400.6255\" y=\"-392.8\" font-family=\"Times,serif\" font-size=\"14.00\" fill=\"#000000\">class = Low price</text>\n",
       "</g>\n",
       "<!-- 31&#45;&gt;39 -->\n",
       "<g id=\"edge39\" class=\"edge\">\n",
       "<title>31&#45;&gt;39</title>\n",
       "<path fill=\"none\" stroke=\"#000000\" d=\"M1309.7615,-485.8089C1322.4333,-476.3524 1336.4151,-465.9182 1349.5333,-456.1285\"/>\n",
       "<polygon fill=\"#000000\" stroke=\"#000000\" points=\"1351.6492,-458.9167 1357.5703,-450.1308 1347.4626,-453.3066 1351.6492,-458.9167\"/>\n",
       "</g>\n",
       "<!-- 33 -->\n",
       "<g id=\"node34\" class=\"node\">\n",
       "<title>33</title>\n",
       "<polygon fill=\"#e58139\" fill-opacity=\"0.956863\" stroke=\"#000000\" points=\"1188.3767,-350 1072.8742,-350 1072.8742,-286 1188.3767,-286 1188.3767,-350\"/>\n",
       "<text text-anchor=\"middle\" x=\"1130.6255\" y=\"-334.8\" font-family=\"Times,serif\" font-size=\"14.00\" fill=\"#000000\">CRIM &lt;= 13.191</text>\n",
       "<text text-anchor=\"middle\" x=\"1130.6255\" y=\"-320.8\" font-family=\"Times,serif\" font-size=\"14.00\" fill=\"#000000\">samples = 24</text>\n",
       "<text text-anchor=\"middle\" x=\"1130.6255\" y=\"-306.8\" font-family=\"Times,serif\" font-size=\"14.00\" fill=\"#000000\">value = [23, 1]</text>\n",
       "<text text-anchor=\"middle\" x=\"1130.6255\" y=\"-292.8\" font-family=\"Times,serif\" font-size=\"14.00\" fill=\"#000000\">class = Low price</text>\n",
       "</g>\n",
       "<!-- 32&#45;&gt;33 -->\n",
       "<g id=\"edge33\" class=\"edge\">\n",
       "<title>32&#45;&gt;33</title>\n",
       "<path fill=\"none\" stroke=\"#000000\" d=\"M1222.8456,-385.8089C1209.9847,-376.3524 1195.7943,-365.9182 1182.4802,-356.1285\"/>\n",
       "<polygon fill=\"#000000\" stroke=\"#000000\" points=\"1184.4532,-353.2349 1174.3233,-350.1308 1180.3065,-358.8745 1184.4532,-353.2349\"/>\n",
       "</g>\n",
       "<!-- 38 -->\n",
       "<g id=\"node39\" class=\"node\">\n",
       "<title>38</title>\n",
       "<polygon fill=\"#399de5\" stroke=\"#000000\" points=\"1323.2151,-343 1206.0359,-343 1206.0359,-293 1323.2151,-293 1323.2151,-343\"/>\n",
       "<text text-anchor=\"middle\" x=\"1264.6255\" y=\"-327.8\" font-family=\"Times,serif\" font-size=\"14.00\" fill=\"#000000\">samples = 1</text>\n",
       "<text text-anchor=\"middle\" x=\"1264.6255\" y=\"-313.8\" font-family=\"Times,serif\" font-size=\"14.00\" fill=\"#000000\">value = [0, 1]</text>\n",
       "<text text-anchor=\"middle\" x=\"1264.6255\" y=\"-299.8\" font-family=\"Times,serif\" font-size=\"14.00\" fill=\"#000000\">class = High price</text>\n",
       "</g>\n",
       "<!-- 32&#45;&gt;38 -->\n",
       "<g id=\"edge38\" class=\"edge\">\n",
       "<title>32&#45;&gt;38</title>\n",
       "<path fill=\"none\" stroke=\"#000000\" d=\"M1265.9817,-385.8089C1265.7744,-375.446 1265.5437,-363.909 1265.3321,-353.3327\"/>\n",
       "<polygon fill=\"#000000\" stroke=\"#000000\" points=\"1268.828,-353.0835 1265.1286,-343.1555 1261.8294,-353.2236 1268.828,-353.0835\"/>\n",
       "</g>\n",
       "<!-- 34 -->\n",
       "<g id=\"node35\" class=\"node\">\n",
       "<title>34</title>\n",
       "<polygon fill=\"#e58139\" stroke=\"#000000\" points=\"1054.3767,-243 938.8742,-243 938.8742,-193 1054.3767,-193 1054.3767,-243\"/>\n",
       "<text text-anchor=\"middle\" x=\"996.6255\" y=\"-227.8\" font-family=\"Times,serif\" font-size=\"14.00\" fill=\"#000000\">samples = 22</text>\n",
       "<text text-anchor=\"middle\" x=\"996.6255\" y=\"-213.8\" font-family=\"Times,serif\" font-size=\"14.00\" fill=\"#000000\">value = [22, 0]</text>\n",
       "<text text-anchor=\"middle\" x=\"996.6255\" y=\"-199.8\" font-family=\"Times,serif\" font-size=\"14.00\" fill=\"#000000\">class = Low price</text>\n",
       "</g>\n",
       "<!-- 33&#45;&gt;34 -->\n",
       "<g id=\"edge34\" class=\"edge\">\n",
       "<title>33&#45;&gt;34</title>\n",
       "<path fill=\"none\" stroke=\"#000000\" d=\"M1087.4894,-285.8089C1071.8673,-274.1506 1054.2541,-261.0064 1038.7225,-249.4157\"/>\n",
       "<polygon fill=\"#000000\" stroke=\"#000000\" points=\"1040.4416,-246.3314 1030.3339,-243.1555 1036.255,-251.9414 1040.4416,-246.3314\"/>\n",
       "</g>\n",
       "<!-- 35 -->\n",
       "<g id=\"node36\" class=\"node\">\n",
       "<title>35</title>\n",
       "<polygon fill=\"transparent\" stroke=\"#000000\" points=\"1190.5562,-250 1072.6948,-250 1072.6948,-186 1190.5562,-186 1190.5562,-250\"/>\n",
       "<text text-anchor=\"middle\" x=\"1131.6255\" y=\"-234.8\" font-family=\"Times,serif\" font-size=\"14.00\" fill=\"#000000\">LSTAT &lt;= 13.815</text>\n",
       "<text text-anchor=\"middle\" x=\"1131.6255\" y=\"-220.8\" font-family=\"Times,serif\" font-size=\"14.00\" fill=\"#000000\">samples = 2</text>\n",
       "<text text-anchor=\"middle\" x=\"1131.6255\" y=\"-206.8\" font-family=\"Times,serif\" font-size=\"14.00\" fill=\"#000000\">value = [1, 1]</text>\n",
       "<text text-anchor=\"middle\" x=\"1131.6255\" y=\"-192.8\" font-family=\"Times,serif\" font-size=\"14.00\" fill=\"#000000\">class = Low price</text>\n",
       "</g>\n",
       "<!-- 33&#45;&gt;35 -->\n",
       "<g id=\"edge35\" class=\"edge\">\n",
       "<title>33&#45;&gt;35</title>\n",
       "<path fill=\"none\" stroke=\"#000000\" d=\"M1130.9474,-285.8089C1131.0286,-277.6906 1131.117,-268.8517 1131.2023,-260.3186\"/>\n",
       "<polygon fill=\"#000000\" stroke=\"#000000\" points=\"1134.7039,-260.1653 1131.3042,-250.1308 1127.7043,-260.0952 1134.7039,-260.1653\"/>\n",
       "</g>\n",
       "<!-- 36 -->\n",
       "<g id=\"node37\" class=\"node\">\n",
       "<title>36</title>\n",
       "<polygon fill=\"#399de5\" stroke=\"#000000\" points=\"1123.2151,-143 1006.0359,-143 1006.0359,-93 1123.2151,-93 1123.2151,-143\"/>\n",
       "<text text-anchor=\"middle\" x=\"1064.6255\" y=\"-127.8\" font-family=\"Times,serif\" font-size=\"14.00\" fill=\"#000000\">samples = 1</text>\n",
       "<text text-anchor=\"middle\" x=\"1064.6255\" y=\"-113.8\" font-family=\"Times,serif\" font-size=\"14.00\" fill=\"#000000\">value = [0, 1]</text>\n",
       "<text text-anchor=\"middle\" x=\"1064.6255\" y=\"-99.8\" font-family=\"Times,serif\" font-size=\"14.00\" fill=\"#000000\">class = High price</text>\n",
       "</g>\n",
       "<!-- 35&#45;&gt;36 -->\n",
       "<g id=\"edge36\" class=\"edge\">\n",
       "<title>35&#45;&gt;36</title>\n",
       "<path fill=\"none\" stroke=\"#000000\" d=\"M1110.0575,-185.8089C1102.7527,-174.9063 1094.5772,-162.7041 1087.1966,-151.6882\"/>\n",
       "<polygon fill=\"#000000\" stroke=\"#000000\" points=\"1089.9536,-149.5151 1081.4797,-143.1555 1084.1382,-153.4114 1089.9536,-149.5151\"/>\n",
       "</g>\n",
       "<!-- 37 -->\n",
       "<g id=\"node38\" class=\"node\">\n",
       "<title>37</title>\n",
       "<polygon fill=\"#e58139\" stroke=\"#000000\" points=\"1256.3767,-143 1140.8742,-143 1140.8742,-93 1256.3767,-93 1256.3767,-143\"/>\n",
       "<text text-anchor=\"middle\" x=\"1198.6255\" y=\"-127.8\" font-family=\"Times,serif\" font-size=\"14.00\" fill=\"#000000\">samples = 1</text>\n",
       "<text text-anchor=\"middle\" x=\"1198.6255\" y=\"-113.8\" font-family=\"Times,serif\" font-size=\"14.00\" fill=\"#000000\">value = [1, 0]</text>\n",
       "<text text-anchor=\"middle\" x=\"1198.6255\" y=\"-99.8\" font-family=\"Times,serif\" font-size=\"14.00\" fill=\"#000000\">class = Low price</text>\n",
       "</g>\n",
       "<!-- 35&#45;&gt;37 -->\n",
       "<g id=\"edge37\" class=\"edge\">\n",
       "<title>35&#45;&gt;37</title>\n",
       "<path fill=\"none\" stroke=\"#000000\" d=\"M1153.1935,-185.8089C1160.4983,-174.9063 1168.6738,-162.7041 1176.0544,-151.6882\"/>\n",
       "<polygon fill=\"#000000\" stroke=\"#000000\" points=\"1179.1128,-153.4114 1181.7713,-143.1555 1173.2974,-149.5151 1179.1128,-153.4114\"/>\n",
       "</g>\n",
       "<!-- 40 -->\n",
       "<g id=\"node41\" class=\"node\">\n",
       "<title>40</title>\n",
       "<polygon fill=\"#399de5\" fill-opacity=\"0.831373\" stroke=\"#000000\" points=\"1459.2151,-350 1342.0359,-350 1342.0359,-286 1459.2151,-286 1459.2151,-350\"/>\n",
       "<text text-anchor=\"middle\" x=\"1400.6255\" y=\"-334.8\" font-family=\"Times,serif\" font-size=\"14.00\" fill=\"#000000\">DIS &lt;= 5.957</text>\n",
       "<text text-anchor=\"middle\" x=\"1400.6255\" y=\"-320.8\" font-family=\"Times,serif\" font-size=\"14.00\" fill=\"#000000\">samples = 7</text>\n",
       "<text text-anchor=\"middle\" x=\"1400.6255\" y=\"-306.8\" font-family=\"Times,serif\" font-size=\"14.00\" fill=\"#000000\">value = [1, 6]</text>\n",
       "<text text-anchor=\"middle\" x=\"1400.6255\" y=\"-292.8\" font-family=\"Times,serif\" font-size=\"14.00\" fill=\"#000000\">class = High price</text>\n",
       "</g>\n",
       "<!-- 39&#45;&gt;40 -->\n",
       "<g id=\"edge40\" class=\"edge\">\n",
       "<title>39&#45;&gt;40</title>\n",
       "<path fill=\"none\" stroke=\"#000000\" d=\"M1400.6255,-385.8089C1400.6255,-377.6906 1400.6255,-368.8517 1400.6255,-360.3186\"/>\n",
       "<polygon fill=\"#000000\" stroke=\"#000000\" points=\"1404.1256,-360.1307 1400.6255,-350.1308 1397.1256,-360.1308 1404.1256,-360.1307\"/>\n",
       "</g>\n",
       "<!-- 43 -->\n",
       "<g id=\"node44\" class=\"node\">\n",
       "<title>43</title>\n",
       "<polygon fill=\"#e58139\" fill-opacity=\"0.713725\" stroke=\"#000000\" points=\"1592.3767,-350 1476.8742,-350 1476.8742,-286 1592.3767,-286 1592.3767,-350\"/>\n",
       "<text text-anchor=\"middle\" x=\"1534.6255\" y=\"-334.8\" font-family=\"Times,serif\" font-size=\"14.00\" fill=\"#000000\">NOX &lt;= 0.742</text>\n",
       "<text text-anchor=\"middle\" x=\"1534.6255\" y=\"-320.8\" font-family=\"Times,serif\" font-size=\"14.00\" fill=\"#000000\">samples = 27</text>\n",
       "<text text-anchor=\"middle\" x=\"1534.6255\" y=\"-306.8\" font-family=\"Times,serif\" font-size=\"14.00\" fill=\"#000000\">value = [21, 6]</text>\n",
       "<text text-anchor=\"middle\" x=\"1534.6255\" y=\"-292.8\" font-family=\"Times,serif\" font-size=\"14.00\" fill=\"#000000\">class = Low price</text>\n",
       "</g>\n",
       "<!-- 39&#45;&gt;43 -->\n",
       "<g id=\"edge43\" class=\"edge\">\n",
       "<title>39&#45;&gt;43</title>\n",
       "<path fill=\"none\" stroke=\"#000000\" d=\"M1443.7615,-385.8089C1456.4333,-376.3524 1470.4151,-365.9182 1483.5333,-356.1285\"/>\n",
       "<polygon fill=\"#000000\" stroke=\"#000000\" points=\"1485.6492,-358.9167 1491.5703,-350.1308 1481.4626,-353.3066 1485.6492,-358.9167\"/>\n",
       "</g>\n",
       "<!-- 41 -->\n",
       "<g id=\"node42\" class=\"node\">\n",
       "<title>41</title>\n",
       "<polygon fill=\"#399de5\" stroke=\"#000000\" points=\"1326.2151,-243 1209.0359,-243 1209.0359,-193 1326.2151,-193 1326.2151,-243\"/>\n",
       "<text text-anchor=\"middle\" x=\"1267.6255\" y=\"-227.8\" font-family=\"Times,serif\" font-size=\"14.00\" fill=\"#000000\">samples = 6</text>\n",
       "<text text-anchor=\"middle\" x=\"1267.6255\" y=\"-213.8\" font-family=\"Times,serif\" font-size=\"14.00\" fill=\"#000000\">value = [0, 6]</text>\n",
       "<text text-anchor=\"middle\" x=\"1267.6255\" y=\"-199.8\" font-family=\"Times,serif\" font-size=\"14.00\" fill=\"#000000\">class = High price</text>\n",
       "</g>\n",
       "<!-- 40&#45;&gt;41 -->\n",
       "<g id=\"edge41\" class=\"edge\">\n",
       "<title>40&#45;&gt;41</title>\n",
       "<path fill=\"none\" stroke=\"#000000\" d=\"M1357.8114,-285.8089C1342.3058,-274.1506 1324.8241,-261.0064 1309.4084,-249.4157\"/>\n",
       "<polygon fill=\"#000000\" stroke=\"#000000\" points=\"1311.1785,-246.3677 1301.0824,-243.1555 1306.9718,-251.9627 1311.1785,-246.3677\"/>\n",
       "</g>\n",
       "<!-- 42 -->\n",
       "<g id=\"node43\" class=\"node\">\n",
       "<title>42</title>\n",
       "<polygon fill=\"#e58139\" stroke=\"#000000\" points=\"1459.3767,-243 1343.8742,-243 1343.8742,-193 1459.3767,-193 1459.3767,-243\"/>\n",
       "<text text-anchor=\"middle\" x=\"1401.6255\" y=\"-227.8\" font-family=\"Times,serif\" font-size=\"14.00\" fill=\"#000000\">samples = 1</text>\n",
       "<text text-anchor=\"middle\" x=\"1401.6255\" y=\"-213.8\" font-family=\"Times,serif\" font-size=\"14.00\" fill=\"#000000\">value = [1, 0]</text>\n",
       "<text text-anchor=\"middle\" x=\"1401.6255\" y=\"-199.8\" font-family=\"Times,serif\" font-size=\"14.00\" fill=\"#000000\">class = Low price</text>\n",
       "</g>\n",
       "<!-- 40&#45;&gt;42 -->\n",
       "<g id=\"edge42\" class=\"edge\">\n",
       "<title>40&#45;&gt;42</title>\n",
       "<path fill=\"none\" stroke=\"#000000\" d=\"M1400.9474,-285.8089C1401.051,-275.446 1401.1664,-263.909 1401.2722,-253.3327\"/>\n",
       "<polygon fill=\"#000000\" stroke=\"#000000\" points=\"1404.7737,-253.1901 1401.3739,-243.1555 1397.774,-253.12 1404.7737,-253.1901\"/>\n",
       "</g>\n",
       "<!-- 44 -->\n",
       "<g id=\"node45\" class=\"node\">\n",
       "<title>44</title>\n",
       "<polygon fill=\"#e58139\" fill-opacity=\"0.858824\" stroke=\"#000000\" points=\"1592.3767,-250 1476.8742,-250 1476.8742,-186 1592.3767,-186 1592.3767,-250\"/>\n",
       "<text text-anchor=\"middle\" x=\"1534.6255\" y=\"-234.8\" font-family=\"Times,serif\" font-size=\"14.00\" fill=\"#000000\">AGE &lt;= 76.15</text>\n",
       "<text text-anchor=\"middle\" x=\"1534.6255\" y=\"-220.8\" font-family=\"Times,serif\" font-size=\"14.00\" fill=\"#000000\">samples = 24</text>\n",
       "<text text-anchor=\"middle\" x=\"1534.6255\" y=\"-206.8\" font-family=\"Times,serif\" font-size=\"14.00\" fill=\"#000000\">value = [21, 3]</text>\n",
       "<text text-anchor=\"middle\" x=\"1534.6255\" y=\"-192.8\" font-family=\"Times,serif\" font-size=\"14.00\" fill=\"#000000\">class = Low price</text>\n",
       "</g>\n",
       "<!-- 43&#45;&gt;44 -->\n",
       "<g id=\"edge44\" class=\"edge\">\n",
       "<title>43&#45;&gt;44</title>\n",
       "<path fill=\"none\" stroke=\"#000000\" d=\"M1534.6255,-285.8089C1534.6255,-277.6906 1534.6255,-268.8517 1534.6255,-260.3186\"/>\n",
       "<polygon fill=\"#000000\" stroke=\"#000000\" points=\"1538.1256,-260.1307 1534.6255,-250.1308 1531.1256,-260.1308 1538.1256,-260.1307\"/>\n",
       "</g>\n",
       "<!-- 49 -->\n",
       "<g id=\"node50\" class=\"node\">\n",
       "<title>49</title>\n",
       "<polygon fill=\"#399de5\" stroke=\"#000000\" points=\"1727.2151,-243 1610.0359,-243 1610.0359,-193 1727.2151,-193 1727.2151,-243\"/>\n",
       "<text text-anchor=\"middle\" x=\"1668.6255\" y=\"-227.8\" font-family=\"Times,serif\" font-size=\"14.00\" fill=\"#000000\">samples = 3</text>\n",
       "<text text-anchor=\"middle\" x=\"1668.6255\" y=\"-213.8\" font-family=\"Times,serif\" font-size=\"14.00\" fill=\"#000000\">value = [0, 3]</text>\n",
       "<text text-anchor=\"middle\" x=\"1668.6255\" y=\"-199.8\" font-family=\"Times,serif\" font-size=\"14.00\" fill=\"#000000\">class = High price</text>\n",
       "</g>\n",
       "<!-- 43&#45;&gt;49 -->\n",
       "<g id=\"edge49\" class=\"edge\">\n",
       "<title>43&#45;&gt;49</title>\n",
       "<path fill=\"none\" stroke=\"#000000\" d=\"M1577.7615,-285.8089C1593.3837,-274.1506 1610.9969,-261.0064 1626.5284,-249.4157\"/>\n",
       "<polygon fill=\"#000000\" stroke=\"#000000\" points=\"1628.996,-251.9414 1634.9171,-243.1555 1624.8094,-246.3314 1628.996,-251.9414\"/>\n",
       "</g>\n",
       "<!-- 45 -->\n",
       "<g id=\"node46\" class=\"node\">\n",
       "<title>45</title>\n",
       "<polygon fill=\"#e58139\" fill-opacity=\"0.498039\" stroke=\"#000000\" points=\"1525.3767,-150 1409.8742,-150 1409.8742,-86 1525.3767,-86 1525.3767,-150\"/>\n",
       "<text text-anchor=\"middle\" x=\"1467.6255\" y=\"-134.8\" font-family=\"Times,serif\" font-size=\"14.00\" fill=\"#000000\">RM &lt;= 6.193</text>\n",
       "<text text-anchor=\"middle\" x=\"1467.6255\" y=\"-120.8\" font-family=\"Times,serif\" font-size=\"14.00\" fill=\"#000000\">samples = 9</text>\n",
       "<text text-anchor=\"middle\" x=\"1467.6255\" y=\"-106.8\" font-family=\"Times,serif\" font-size=\"14.00\" fill=\"#000000\">value = [6, 3]</text>\n",
       "<text text-anchor=\"middle\" x=\"1467.6255\" y=\"-92.8\" font-family=\"Times,serif\" font-size=\"14.00\" fill=\"#000000\">class = Low price</text>\n",
       "</g>\n",
       "<!-- 44&#45;&gt;45 -->\n",
       "<g id=\"edge45\" class=\"edge\">\n",
       "<title>44&#45;&gt;45</title>\n",
       "<path fill=\"none\" stroke=\"#000000\" d=\"M1513.0575,-185.8089C1507.2595,-177.1553 1500.9131,-167.683 1494.851,-158.635\"/>\n",
       "<polygon fill=\"#000000\" stroke=\"#000000\" points=\"1497.627,-156.4903 1489.1531,-150.1308 1491.8116,-160.3866 1497.627,-156.4903\"/>\n",
       "</g>\n",
       "<!-- 48 -->\n",
       "<g id=\"node49\" class=\"node\">\n",
       "<title>48</title>\n",
       "<polygon fill=\"#e58139\" stroke=\"#000000\" points=\"1658.3767,-143 1542.8742,-143 1542.8742,-93 1658.3767,-93 1658.3767,-143\"/>\n",
       "<text text-anchor=\"middle\" x=\"1600.6255\" y=\"-127.8\" font-family=\"Times,serif\" font-size=\"14.00\" fill=\"#000000\">samples = 15</text>\n",
       "<text text-anchor=\"middle\" x=\"1600.6255\" y=\"-113.8\" font-family=\"Times,serif\" font-size=\"14.00\" fill=\"#000000\">value = [15, 0]</text>\n",
       "<text text-anchor=\"middle\" x=\"1600.6255\" y=\"-99.8\" font-family=\"Times,serif\" font-size=\"14.00\" fill=\"#000000\">class = Low price</text>\n",
       "</g>\n",
       "<!-- 44&#45;&gt;48 -->\n",
       "<g id=\"edge48\" class=\"edge\">\n",
       "<title>44&#45;&gt;48</title>\n",
       "<path fill=\"none\" stroke=\"#000000\" d=\"M1555.8716,-185.8089C1563.0674,-174.9063 1571.1208,-162.7041 1578.3913,-151.6882\"/>\n",
       "<polygon fill=\"#000000\" stroke=\"#000000\" points=\"1581.4355,-153.4296 1584.0228,-143.1555 1575.5932,-149.5737 1581.4355,-153.4296\"/>\n",
       "</g>\n",
       "<!-- 46 -->\n",
       "<g id=\"node47\" class=\"node\">\n",
       "<title>46</title>\n",
       "<polygon fill=\"#e58139\" stroke=\"#000000\" points=\"1458.3767,-50 1342.8742,-50 1342.8742,0 1458.3767,0 1458.3767,-50\"/>\n",
       "<text text-anchor=\"middle\" x=\"1400.6255\" y=\"-34.8\" font-family=\"Times,serif\" font-size=\"14.00\" fill=\"#000000\">samples = 6</text>\n",
       "<text text-anchor=\"middle\" x=\"1400.6255\" y=\"-20.8\" font-family=\"Times,serif\" font-size=\"14.00\" fill=\"#000000\">value = [6, 0]</text>\n",
       "<text text-anchor=\"middle\" x=\"1400.6255\" y=\"-6.8\" font-family=\"Times,serif\" font-size=\"14.00\" fill=\"#000000\">class = Low price</text>\n",
       "</g>\n",
       "<!-- 45&#45;&gt;46 -->\n",
       "<g id=\"edge46\" class=\"edge\">\n",
       "<title>45&#45;&gt;46</title>\n",
       "<path fill=\"none\" stroke=\"#000000\" d=\"M1444.5679,-85.9947C1438.1424,-77.0756 1431.1473,-67.3661 1424.6667,-58.3706\"/>\n",
       "<polygon fill=\"#000000\" stroke=\"#000000\" points=\"1427.3315,-56.0819 1418.6463,-50.014 1421.6519,-60.1736 1427.3315,-56.0819\"/>\n",
       "</g>\n",
       "<!-- 47 -->\n",
       "<g id=\"node48\" class=\"node\">\n",
       "<title>47</title>\n",
       "<polygon fill=\"#399de5\" stroke=\"#000000\" points=\"1593.2151,-50 1476.0359,-50 1476.0359,0 1593.2151,0 1593.2151,-50\"/>\n",
       "<text text-anchor=\"middle\" x=\"1534.6255\" y=\"-34.8\" font-family=\"Times,serif\" font-size=\"14.00\" fill=\"#000000\">samples = 3</text>\n",
       "<text text-anchor=\"middle\" x=\"1534.6255\" y=\"-20.8\" font-family=\"Times,serif\" font-size=\"14.00\" fill=\"#000000\">value = [0, 3]</text>\n",
       "<text text-anchor=\"middle\" x=\"1534.6255\" y=\"-6.8\" font-family=\"Times,serif\" font-size=\"14.00\" fill=\"#000000\">class = High price</text>\n",
       "</g>\n",
       "<!-- 45&#45;&gt;47 -->\n",
       "<g id=\"edge47\" class=\"edge\">\n",
       "<title>45&#45;&gt;47</title>\n",
       "<path fill=\"none\" stroke=\"#000000\" d=\"M1490.6831,-85.9947C1497.1086,-77.0756 1504.1037,-67.3661 1510.5843,-58.3706\"/>\n",
       "<polygon fill=\"#000000\" stroke=\"#000000\" points=\"1513.599,-60.1736 1516.6046,-50.014 1507.9194,-56.0819 1513.599,-60.1736\"/>\n",
       "</g>\n",
       "<!-- 51 -->\n",
       "<g id=\"node52\" class=\"node\">\n",
       "<title>51</title>\n",
       "<polygon fill=\"#399de5\" stroke=\"#000000\" points=\"1492.2151,-643 1375.0359,-643 1375.0359,-593 1492.2151,-593 1492.2151,-643\"/>\n",
       "<text text-anchor=\"middle\" x=\"1433.6255\" y=\"-627.8\" font-family=\"Times,serif\" font-size=\"14.00\" fill=\"#000000\">samples = 2</text>\n",
       "<text text-anchor=\"middle\" x=\"1433.6255\" y=\"-613.8\" font-family=\"Times,serif\" font-size=\"14.00\" fill=\"#000000\">value = [0, 2]</text>\n",
       "<text text-anchor=\"middle\" x=\"1433.6255\" y=\"-599.8\" font-family=\"Times,serif\" font-size=\"14.00\" fill=\"#000000\">class = High price</text>\n",
       "</g>\n",
       "<!-- 50&#45;&gt;51 -->\n",
       "<g id=\"edge51\" class=\"edge\">\n",
       "<title>50&#45;&gt;51</title>\n",
       "<path fill=\"none\" stroke=\"#000000\" d=\"M1433.6255,-685.8089C1433.6255,-675.446 1433.6255,-663.909 1433.6255,-653.3327\"/>\n",
       "<polygon fill=\"#000000\" stroke=\"#000000\" points=\"1437.1256,-653.1555 1433.6255,-643.1555 1430.1256,-653.1556 1437.1256,-653.1555\"/>\n",
       "</g>\n",
       "<!-- 52 -->\n",
       "<g id=\"node53\" class=\"node\">\n",
       "<title>52</title>\n",
       "<polygon fill=\"#e58139\" fill-opacity=\"0.976471\" stroke=\"#000000\" points=\"1791.3767,-650 1675.8742,-650 1675.8742,-586 1791.3767,-586 1791.3767,-650\"/>\n",
       "<text text-anchor=\"middle\" x=\"1733.6255\" y=\"-634.8\" font-family=\"Times,serif\" font-size=\"14.00\" fill=\"#000000\">CHAS &lt;= 0.5</text>\n",
       "<text text-anchor=\"middle\" x=\"1733.6255\" y=\"-620.8\" font-family=\"Times,serif\" font-size=\"14.00\" fill=\"#000000\">samples = 122</text>\n",
       "<text text-anchor=\"middle\" x=\"1733.6255\" y=\"-606.8\" font-family=\"Times,serif\" font-size=\"14.00\" fill=\"#000000\">value = [119, 3]</text>\n",
       "<text text-anchor=\"middle\" x=\"1733.6255\" y=\"-592.8\" font-family=\"Times,serif\" font-size=\"14.00\" fill=\"#000000\">class = Low price</text>\n",
       "</g>\n",
       "<!-- 50&#45;&gt;52 -->\n",
       "<g id=\"edge52\" class=\"edge\">\n",
       "<title>50&#45;&gt;52</title>\n",
       "<path fill=\"none\" stroke=\"#000000\" d=\"M1491.4685,-698.719C1541.479,-682.0488 1613.8036,-657.9406 1666.3821,-640.4145\"/>\n",
       "<polygon fill=\"#000000\" stroke=\"#000000\" points=\"1667.58,-643.7046 1675.96,-637.2218 1665.3664,-637.0638 1667.58,-643.7046\"/>\n",
       "</g>\n",
       "<!-- 53 -->\n",
       "<g id=\"node54\" class=\"node\">\n",
       "<title>53</title>\n",
       "<polygon fill=\"#e58139\" fill-opacity=\"0.992157\" stroke=\"#000000\" points=\"1791.3767,-550 1675.8742,-550 1675.8742,-486 1791.3767,-486 1791.3767,-550\"/>\n",
       "<text text-anchor=\"middle\" x=\"1733.6255\" y=\"-534.8\" font-family=\"Times,serif\" font-size=\"14.00\" fill=\"#000000\">NOX &lt;= 0.504</text>\n",
       "<text text-anchor=\"middle\" x=\"1733.6255\" y=\"-520.8\" font-family=\"Times,serif\" font-size=\"14.00\" fill=\"#000000\">samples = 116</text>\n",
       "<text text-anchor=\"middle\" x=\"1733.6255\" y=\"-506.8\" font-family=\"Times,serif\" font-size=\"14.00\" fill=\"#000000\">value = [115, 1]</text>\n",
       "<text text-anchor=\"middle\" x=\"1733.6255\" y=\"-492.8\" font-family=\"Times,serif\" font-size=\"14.00\" fill=\"#000000\">class = Low price</text>\n",
       "</g>\n",
       "<!-- 52&#45;&gt;53 -->\n",
       "<g id=\"edge53\" class=\"edge\">\n",
       "<title>52&#45;&gt;53</title>\n",
       "<path fill=\"none\" stroke=\"#000000\" d=\"M1733.6255,-585.8089C1733.6255,-577.6906 1733.6255,-568.8517 1733.6255,-560.3186\"/>\n",
       "<polygon fill=\"#000000\" stroke=\"#000000\" points=\"1737.1256,-560.1307 1733.6255,-550.1308 1730.1256,-560.1308 1737.1256,-560.1307\"/>\n",
       "</g>\n",
       "<!-- 58 -->\n",
       "<g id=\"node59\" class=\"node\">\n",
       "<title>58</title>\n",
       "<polygon fill=\"#e58139\" fill-opacity=\"0.498039\" stroke=\"#000000\" points=\"1993.3767,-550 1877.8742,-550 1877.8742,-486 1993.3767,-486 1993.3767,-550\"/>\n",
       "<text text-anchor=\"middle\" x=\"1935.6255\" y=\"-534.8\" font-family=\"Times,serif\" font-size=\"14.00\" fill=\"#000000\">AGE &lt;= 95.6</text>\n",
       "<text text-anchor=\"middle\" x=\"1935.6255\" y=\"-520.8\" font-family=\"Times,serif\" font-size=\"14.00\" fill=\"#000000\">samples = 6</text>\n",
       "<text text-anchor=\"middle\" x=\"1935.6255\" y=\"-506.8\" font-family=\"Times,serif\" font-size=\"14.00\" fill=\"#000000\">value = [4, 2]</text>\n",
       "<text text-anchor=\"middle\" x=\"1935.6255\" y=\"-492.8\" font-family=\"Times,serif\" font-size=\"14.00\" fill=\"#000000\">class = Low price</text>\n",
       "</g>\n",
       "<!-- 52&#45;&gt;58 -->\n",
       "<g id=\"edge58\" class=\"edge\">\n",
       "<title>52&#45;&gt;58</title>\n",
       "<path fill=\"none\" stroke=\"#000000\" d=\"M1791.5106,-589.344C1815.5996,-577.4188 1843.7168,-563.4993 1868.6878,-551.1375\"/>\n",
       "<polygon fill=\"#000000\" stroke=\"#000000\" points=\"1870.3228,-554.2335 1877.7319,-546.6602 1867.2172,-547.9601 1870.3228,-554.2335\"/>\n",
       "</g>\n",
       "<!-- 54 -->\n",
       "<g id=\"node55\" class=\"node\">\n",
       "<title>54</title>\n",
       "<polygon fill=\"#e58139\" fill-opacity=\"0.666667\" stroke=\"#000000\" points=\"1725.3767,-450 1609.8742,-450 1609.8742,-386 1725.3767,-386 1725.3767,-450\"/>\n",
       "<text text-anchor=\"middle\" x=\"1667.6255\" y=\"-434.8\" font-family=\"Times,serif\" font-size=\"14.00\" fill=\"#000000\">INDUS &lt;= 8.75</text>\n",
       "<text text-anchor=\"middle\" x=\"1667.6255\" y=\"-420.8\" font-family=\"Times,serif\" font-size=\"14.00\" fill=\"#000000\">samples = 4</text>\n",
       "<text text-anchor=\"middle\" x=\"1667.6255\" y=\"-406.8\" font-family=\"Times,serif\" font-size=\"14.00\" fill=\"#000000\">value = [3, 1]</text>\n",
       "<text text-anchor=\"middle\" x=\"1667.6255\" y=\"-392.8\" font-family=\"Times,serif\" font-size=\"14.00\" fill=\"#000000\">class = Low price</text>\n",
       "</g>\n",
       "<!-- 53&#45;&gt;54 -->\n",
       "<g id=\"edge54\" class=\"edge\">\n",
       "<title>53&#45;&gt;54</title>\n",
       "<path fill=\"none\" stroke=\"#000000\" d=\"M1712.3794,-485.8089C1706.668,-477.1553 1700.4163,-467.683 1694.4446,-458.635\"/>\n",
       "<polygon fill=\"#000000\" stroke=\"#000000\" points=\"1697.2614,-456.5489 1688.8318,-450.1308 1691.4191,-460.4048 1697.2614,-456.5489\"/>\n",
       "</g>\n",
       "<!-- 57 -->\n",
       "<g id=\"node58\" class=\"node\">\n",
       "<title>57</title>\n",
       "<polygon fill=\"#e58139\" stroke=\"#000000\" points=\"1858.3767,-443 1742.8742,-443 1742.8742,-393 1858.3767,-393 1858.3767,-443\"/>\n",
       "<text text-anchor=\"middle\" x=\"1800.6255\" y=\"-427.8\" font-family=\"Times,serif\" font-size=\"14.00\" fill=\"#000000\">samples = 112</text>\n",
       "<text text-anchor=\"middle\" x=\"1800.6255\" y=\"-413.8\" font-family=\"Times,serif\" font-size=\"14.00\" fill=\"#000000\">value = [112, 0]</text>\n",
       "<text text-anchor=\"middle\" x=\"1800.6255\" y=\"-399.8\" font-family=\"Times,serif\" font-size=\"14.00\" fill=\"#000000\">class = Low price</text>\n",
       "</g>\n",
       "<!-- 53&#45;&gt;57 -->\n",
       "<g id=\"edge57\" class=\"edge\">\n",
       "<title>53&#45;&gt;57</title>\n",
       "<path fill=\"none\" stroke=\"#000000\" d=\"M1755.1935,-485.8089C1762.4983,-474.9063 1770.6738,-462.7041 1778.0544,-451.6882\"/>\n",
       "<polygon fill=\"#000000\" stroke=\"#000000\" points=\"1781.1128,-453.4114 1783.7713,-443.1555 1775.2974,-449.5151 1781.1128,-453.4114\"/>\n",
       "</g>\n",
       "<!-- 55 -->\n",
       "<g id=\"node56\" class=\"node\">\n",
       "<title>55</title>\n",
       "<polygon fill=\"#e58139\" stroke=\"#000000\" points=\"1725.3767,-343 1609.8742,-343 1609.8742,-293 1725.3767,-293 1725.3767,-343\"/>\n",
       "<text text-anchor=\"middle\" x=\"1667.6255\" y=\"-327.8\" font-family=\"Times,serif\" font-size=\"14.00\" fill=\"#000000\">samples = 3</text>\n",
       "<text text-anchor=\"middle\" x=\"1667.6255\" y=\"-313.8\" font-family=\"Times,serif\" font-size=\"14.00\" fill=\"#000000\">value = [3, 0]</text>\n",
       "<text text-anchor=\"middle\" x=\"1667.6255\" y=\"-299.8\" font-family=\"Times,serif\" font-size=\"14.00\" fill=\"#000000\">class = Low price</text>\n",
       "</g>\n",
       "<!-- 54&#45;&gt;55 -->\n",
       "<g id=\"edge55\" class=\"edge\">\n",
       "<title>54&#45;&gt;55</title>\n",
       "<path fill=\"none\" stroke=\"#000000\" d=\"M1667.6255,-385.8089C1667.6255,-375.446 1667.6255,-363.909 1667.6255,-353.3327\"/>\n",
       "<polygon fill=\"#000000\" stroke=\"#000000\" points=\"1671.1256,-353.1555 1667.6255,-343.1555 1664.1256,-353.1556 1671.1256,-353.1555\"/>\n",
       "</g>\n",
       "<!-- 56 -->\n",
       "<g id=\"node57\" class=\"node\">\n",
       "<title>56</title>\n",
       "<polygon fill=\"#399de5\" stroke=\"#000000\" points=\"1860.2151,-343 1743.0359,-343 1743.0359,-293 1860.2151,-293 1860.2151,-343\"/>\n",
       "<text text-anchor=\"middle\" x=\"1801.6255\" y=\"-327.8\" font-family=\"Times,serif\" font-size=\"14.00\" fill=\"#000000\">samples = 1</text>\n",
       "<text text-anchor=\"middle\" x=\"1801.6255\" y=\"-313.8\" font-family=\"Times,serif\" font-size=\"14.00\" fill=\"#000000\">value = [0, 1]</text>\n",
       "<text text-anchor=\"middle\" x=\"1801.6255\" y=\"-299.8\" font-family=\"Times,serif\" font-size=\"14.00\" fill=\"#000000\">class = High price</text>\n",
       "</g>\n",
       "<!-- 54&#45;&gt;56 -->\n",
       "<g id=\"edge56\" class=\"edge\">\n",
       "<title>54&#45;&gt;56</title>\n",
       "<path fill=\"none\" stroke=\"#000000\" d=\"M1710.7615,-385.8089C1726.3837,-374.1506 1743.9969,-361.0064 1759.5284,-349.4157\"/>\n",
       "<polygon fill=\"#000000\" stroke=\"#000000\" points=\"1761.996,-351.9414 1767.9171,-343.1555 1757.8094,-346.3314 1761.996,-351.9414\"/>\n",
       "</g>\n",
       "<!-- 59 -->\n",
       "<g id=\"node60\" class=\"node\">\n",
       "<title>59</title>\n",
       "<polygon fill=\"#399de5\" fill-opacity=\"0.498039\" stroke=\"#000000\" points=\"1994.2151,-450 1877.0359,-450 1877.0359,-386 1994.2151,-386 1994.2151,-450\"/>\n",
       "<text text-anchor=\"middle\" x=\"1935.6255\" y=\"-434.8\" font-family=\"Times,serif\" font-size=\"14.00\" fill=\"#000000\">AGE &lt;= 89.95</text>\n",
       "<text text-anchor=\"middle\" x=\"1935.6255\" y=\"-420.8\" font-family=\"Times,serif\" font-size=\"14.00\" fill=\"#000000\">samples = 3</text>\n",
       "<text text-anchor=\"middle\" x=\"1935.6255\" y=\"-406.8\" font-family=\"Times,serif\" font-size=\"14.00\" fill=\"#000000\">value = [1, 2]</text>\n",
       "<text text-anchor=\"middle\" x=\"1935.6255\" y=\"-392.8\" font-family=\"Times,serif\" font-size=\"14.00\" fill=\"#000000\">class = High price</text>\n",
       "</g>\n",
       "<!-- 58&#45;&gt;59 -->\n",
       "<g id=\"edge59\" class=\"edge\">\n",
       "<title>58&#45;&gt;59</title>\n",
       "<path fill=\"none\" stroke=\"#000000\" d=\"M1935.6255,-485.8089C1935.6255,-477.6906 1935.6255,-468.8517 1935.6255,-460.3186\"/>\n",
       "<polygon fill=\"#000000\" stroke=\"#000000\" points=\"1939.1256,-460.1307 1935.6255,-450.1308 1932.1256,-460.1308 1939.1256,-460.1307\"/>\n",
       "</g>\n",
       "<!-- 62 -->\n",
       "<g id=\"node63\" class=\"node\">\n",
       "<title>62</title>\n",
       "<polygon fill=\"#e58139\" stroke=\"#000000\" points=\"2127.3767,-443 2011.8742,-443 2011.8742,-393 2127.3767,-393 2127.3767,-443\"/>\n",
       "<text text-anchor=\"middle\" x=\"2069.6255\" y=\"-427.8\" font-family=\"Times,serif\" font-size=\"14.00\" fill=\"#000000\">samples = 3</text>\n",
       "<text text-anchor=\"middle\" x=\"2069.6255\" y=\"-413.8\" font-family=\"Times,serif\" font-size=\"14.00\" fill=\"#000000\">value = [3, 0]</text>\n",
       "<text text-anchor=\"middle\" x=\"2069.6255\" y=\"-399.8\" font-family=\"Times,serif\" font-size=\"14.00\" fill=\"#000000\">class = Low price</text>\n",
       "</g>\n",
       "<!-- 58&#45;&gt;62 -->\n",
       "<g id=\"edge62\" class=\"edge\">\n",
       "<title>58&#45;&gt;62</title>\n",
       "<path fill=\"none\" stroke=\"#000000\" d=\"M1978.7615,-485.8089C1994.3837,-474.1506 2011.9969,-461.0064 2027.5284,-449.4157\"/>\n",
       "<polygon fill=\"#000000\" stroke=\"#000000\" points=\"2029.996,-451.9414 2035.9171,-443.1555 2025.8094,-446.3314 2029.996,-451.9414\"/>\n",
       "</g>\n",
       "<!-- 60 -->\n",
       "<g id=\"node61\" class=\"node\">\n",
       "<title>60</title>\n",
       "<polygon fill=\"#e58139\" stroke=\"#000000\" points=\"1993.3767,-343 1877.8742,-343 1877.8742,-293 1993.3767,-293 1993.3767,-343\"/>\n",
       "<text text-anchor=\"middle\" x=\"1935.6255\" y=\"-327.8\" font-family=\"Times,serif\" font-size=\"14.00\" fill=\"#000000\">samples = 1</text>\n",
       "<text text-anchor=\"middle\" x=\"1935.6255\" y=\"-313.8\" font-family=\"Times,serif\" font-size=\"14.00\" fill=\"#000000\">value = [1, 0]</text>\n",
       "<text text-anchor=\"middle\" x=\"1935.6255\" y=\"-299.8\" font-family=\"Times,serif\" font-size=\"14.00\" fill=\"#000000\">class = Low price</text>\n",
       "</g>\n",
       "<!-- 59&#45;&gt;60 -->\n",
       "<g id=\"edge60\" class=\"edge\">\n",
       "<title>59&#45;&gt;60</title>\n",
       "<path fill=\"none\" stroke=\"#000000\" d=\"M1935.6255,-385.8089C1935.6255,-375.446 1935.6255,-363.909 1935.6255,-353.3327\"/>\n",
       "<polygon fill=\"#000000\" stroke=\"#000000\" points=\"1939.1256,-353.1555 1935.6255,-343.1555 1932.1256,-353.1556 1939.1256,-353.1555\"/>\n",
       "</g>\n",
       "<!-- 61 -->\n",
       "<g id=\"node62\" class=\"node\">\n",
       "<title>61</title>\n",
       "<polygon fill=\"#399de5\" stroke=\"#000000\" points=\"2128.2151,-343 2011.0359,-343 2011.0359,-293 2128.2151,-293 2128.2151,-343\"/>\n",
       "<text text-anchor=\"middle\" x=\"2069.6255\" y=\"-327.8\" font-family=\"Times,serif\" font-size=\"14.00\" fill=\"#000000\">samples = 2</text>\n",
       "<text text-anchor=\"middle\" x=\"2069.6255\" y=\"-313.8\" font-family=\"Times,serif\" font-size=\"14.00\" fill=\"#000000\">value = [0, 2]</text>\n",
       "<text text-anchor=\"middle\" x=\"2069.6255\" y=\"-299.8\" font-family=\"Times,serif\" font-size=\"14.00\" fill=\"#000000\">class = High price</text>\n",
       "</g>\n",
       "<!-- 59&#45;&gt;61 -->\n",
       "<g id=\"edge61\" class=\"edge\">\n",
       "<title>59&#45;&gt;61</title>\n",
       "<path fill=\"none\" stroke=\"#000000\" d=\"M1978.7615,-385.8089C1994.3837,-374.1506 2011.9969,-361.0064 2027.5284,-349.4157\"/>\n",
       "<polygon fill=\"#000000\" stroke=\"#000000\" points=\"2029.996,-351.9414 2035.9171,-343.1555 2025.8094,-346.3314 2029.996,-351.9414\"/>\n",
       "</g>\n",
       "</g>\n",
       "</svg>\n"
      ],
      "text/plain": [
       "<graphviz.files.Source at 0x11a8480f0>"
      ]
     },
     "metadata": {},
     "output_type": "display_data"
    }
   ],
   "source": [
    "from sklearn.tree import export_graphviz\n",
    "import graphviz\n",
    "def displayTree(tree):\n",
    "    export_graphviz(tree, out_file=\"tree2.dot\", \n",
    "                    class_names=[\"Low price\", \"High price\"],\n",
    "                    feature_names=data.feature_names, \n",
    "                    impurity=False, filled=True)\n",
    "    \n",
    "    with open(\"tree2.dot\") as f:\n",
    "        dot_graph = f.read()\n",
    "    display(graphviz.Source(dot_graph))\n",
    "displayTree(tree)\n"
   ]
  },
  {
   "cell_type": "markdown",
   "metadata": {},
   "source": [
    "##### Feature importance\n",
    "So, what is the most important features when trying to determine the target of the classification ? Well, as seen above, the first node in the tree is LSTAT, which according to the documentation is \"% lower status of the population\", which describes \"social status\". It is not defined further what this means, but it seems reasonable to presume, this covers socioeconomic status, based on a mix of fx. income, education, occupation etc. Also, it seems reasonable, that this measure should have a large impact on the target variable of below or above median housing prices. \n",
    "\n",
    "Below, the features and their importance in the decisiontree is plotted:"
   ]
  },
  {
   "cell_type": "code",
   "execution_count": 266,
   "metadata": {},
   "outputs": [
    {
     "data": {
      "image/png": "[encoded data removed]",
      "text/plain": [
       "<matplotlib.figure.Figure at 0x1141d0cf8>"
      ]
     },
     "metadata": {},
     "output_type": "display_data"
    }
   ],
   "source": [
    "important_features_dict = {}\n",
    "for x,i in enumerate(tree.feature_importances_):\n",
    "    important_features_dict[data.feature_names[x]]=i\n",
    "\n",
    "plt.bar(range(len(important_features_dict)), \n",
    "        list(important_features_dict.values()), \n",
    "        align='center', color='red')\n",
    "\n",
    "plt.xticks(range(len(important_features_dict)), \n",
    "           list(important_features_dict.keys()), \n",
    "           rotation='vertical')\n",
    "plt.show()"
   ]
  },
  {
   "cell_type": "code",
   "execution_count": 267,
   "metadata": {},
   "outputs": [
    {
     "name": "stdout",
     "output_type": "stream",
     "text": [
      "Feature importances:\n",
      "[ 0.0238135   0.012665    0.00791562  0.00634851  0.02409564  0.13912057\n",
      "  0.07807657  0.05404269  0.          0.01540416  0.02599372  0.0329634\n",
      "  0.57956063]\n"
     ]
    }
   ],
   "source": [
    "print(\"Feature importances:\\n{}\".format(tree.feature_importances_))"
   ]
  },
  {
   "cell_type": "markdown",
   "metadata": {},
   "source": [
    "#### Feature importance in the tree\n",
    "Lets look at the most important features and see, how they are represented in the tree:\n",
    "##### Most important:\n",
    "\n",
    "As can be seen above, the most important feature is by far the LSTAT measure. This corresponds to the fact, that the very first split in the tree is is done on this feature. If we follow the \"Low price\" leg of the first split, it is seen, that the very same feature is used in the next split. Thus, it seems reasonable, that this is the most important feature.\n",
    "\n",
    "\n",
    "#### Second-most important\n",
    "Following the \"High price\" leg, the RM (rooms pr. dwelling) feature is used for the next split, which supports the fact, that this is the second-most important feature in the model. This split finds, that if the number of rooms pr. dwelling is below 7 (actually, below 6.118, but number of rooms must be integers), then we move into an area, where most prices are in the \"Low\" category.\n"
   ]
  },
  {
   "cell_type": "markdown",
   "metadata": {},
   "source": [
    "### Model complexity\n",
    "* Try controlling the complexity of the learned decision tree by adjusting the parameters max\\_depth, min\\_samples\\_split, min\\_samples\\_leaf\n",
    "* Investigate the effect when changing these parameters:\n",
    "    - Visualize (some of) the trees\n",
    "    - Evaluate the performance of the models on both the training data and the test data\n",
    "* By designating part of the data as *validation data*, try to automatically find good values for the parameters controlling the size of the tree. How does the obtained parameters match your manual investigation?\n",
    "* Instead of using a validation set, try to find good parameter values using cross-validation. How does the results compare to those that you found above?"
   ]
  },
  {
   "cell_type": "markdown",
   "metadata": {},
   "source": [
    "#### Playing with depth parameter\n",
    "Lets play around with the depth parameter, to find the optimal depth. The way we define optimal depth is the depth that results in the greatest accuracy of the model when scored on a test set, that has not been part of the model training. We´ll will try depth of 2 to 15 levels to illustrate. To avoid doing this \"by hand\", we loop over individual depths, and capture the optimal one. The individual accuracies are measured on a validation set, that is taken out of the trainingset. This way, we still have an \"un-touched\" test set to use for testing the final model, when we have found the optimal parameters.<br><br> \n",
    "\n",
    "Note, that this is one (quite cumbersome) way of finding the optimal parameters - there is another more standardized way (Grid Search Cross Validation), but just for illustration purposes, lets code the loop to show the principle - later on, we´ll will be using the Grid Search approach instead."
   ]
  },
  {
   "cell_type": "code",
   "execution_count": 268,
   "metadata": {},
   "outputs": [],
   "source": [
    "# We need to split the trainingset into train- and validation subsets, \n",
    "# so that we do the final testing on an independent dataset that has \n",
    "# not been used in either training or finding the optimal parameters\n",
    "X_train, X_validation, c_train, c_validation = train_test_split(X_train, \n",
    "                                                                c_train, \n",
    "                                                                random_state=0)"
   ]
  },
  {
   "cell_type": "code",
   "execution_count": 269,
   "metadata": {},
   "outputs": [
    {
     "data": {
      "image/png": "[encoded data removed]",
      "text/plain": [
       "<matplotlib.figure.Figure at 0x1199d2198>"
      ]
     },
     "metadata": {},
     "output_type": "display_data"
    },
    {
     "name": "stdout",
     "output_type": "stream",
     "text": [
      "Trainingset size: 284\n",
      "Optimal depth: 6\n",
      "Best accuracy on validation set: 0.894736842105\n",
      "Accuracy on test set: 0.7637795275590551 \n"
     ]
    }
   ],
   "source": [
    "depths = [2, 3, 4,5,6,7,8,9,10,11,12,13,14,15]\n",
    "depthDict={}\n",
    "optimalDepth = 0\n",
    "bestAccuracy = 0\n",
    "\n",
    "for depth in depths:\n",
    "    tree2 = DecisionTreeClassifier(random_state=42, max_depth=depth)\n",
    "    tree2.fit(X_train, c_train)\n",
    "    depthDict[depth] = tree2.score(X_validation, c_validation)\n",
    "    if tree2.score(X_validation, c_validation) > bestAccuracy:\n",
    "        optimalDepth = depth\n",
    "    bestAccuracy = max(bestAccuracy, tree2.score(X_validation, c_validation))\n",
    "    \n",
    "plt.plot(range(len(depthDict)), \n",
    "         list(depthDict.values()), \n",
    "         color='red')\n",
    "\n",
    "plt.xticks(range(len(depthDict)), \n",
    "           list(depthDict.keys()), \n",
    "           rotation='vertical')\n",
    "\n",
    "plt.show()\n",
    "print(\"Trainingset size: {}\".format(X_train.shape[0]))\n",
    "print(\"Optimal depth: \" + str(optimalDepth))\n",
    "print(\"Best accuracy on validation set: \" + str(bestAccuracy))\n",
    "\n",
    "tree3 = DecisionTreeClassifier(random_state=42, \n",
    "                               max_depth=optimalDepth).fit(X_train, \n",
    "                                                           c_train)\n",
    "\n",
    "print(\"Accuracy on test set: {} \".format(tree3.score(X_test, \n",
    "                                                     c_test))) \n",
    "\n"
   ]
  },
  {
   "cell_type": "markdown",
   "metadata": {},
   "source": [
    "Now, it seems that the optimal depth in this case is 6 levels. Lets expand the loop to include \n",
    "* max_depth\n",
    "* min_samples_split\n",
    "* min_samples_leaf\n",
    "\n",
    "As mentioned earlier, since this is a greedy algorithm seeking local optima when doing the splits, there might be other optima that are better than the one we´ve just captured. However, we could also play with the seed for the random numbers generator, that determines where the algorithm starts looking for optimas. Instead, we will give it the same seed as above, so that the results are comparable:"
   ]
  },
  {
   "cell_type": "code",
   "execution_count": 270,
   "metadata": {},
   "outputs": [
    {
     "name": "stdout",
     "output_type": "stream",
     "text": [
      "Done depth 1 of 15 in 3 secs\n",
      "Done depth 2 of 15 in 4 secs\n",
      "Done depth 3 of 15 in 4 secs\n",
      "Done depth 4 of 15 in 5 secs\n",
      "Done depth 5 of 15 in 5 secs\n",
      "Done depth 6 of 15 in 5 secs\n",
      "Done depth 7 of 15 in 5 secs\n",
      "Done depth 8 of 15 in 5 secs\n",
      "Done depth 9 of 15 in 5 secs\n",
      "Done depth 10 of 15 in 5 secs\n",
      "Done depth 11 of 15 in 5 secs\n",
      "Done depth 12 of 15 in 5 secs\n",
      "Done depth 13 of 15 in 5 secs\n",
      "Done depth 14 of 15 in 5 secs\n",
      "Optimal depth / min_samples_split / min_samples_leaf : 14 / 21 / 4\n",
      "Best accuracy optained (on validationset): 0.831578947368\n",
      "Accuracy on testset: \n"
     ]
    },
    {
     "data": {
      "text/plain": [
       "0.82677165354330706"
      ]
     },
     "execution_count": 270,
     "metadata": {},
     "output_type": "execute_result"
    }
   ],
   "source": [
    "# Setting lists of random_state and depth parameters to test\n",
    "import datetime\n",
    "minSamplesSplits = list(range(2,100))\n",
    "depths = list(range(1,15))\n",
    "minSamplesLeafs = list(range(1,50))\n",
    "\n",
    "# Set variables to capture optimal values\n",
    "optimalDepth = 0\n",
    "optimalMinSamplesSplit = 0\n",
    "bestAccuracy = 0\n",
    "# Loop through the lists of parameters and capture optimal values\n",
    "for depth in depths:\n",
    "    start=datetime.datetime.now()\n",
    "    for minSamplesSplit in minSamplesSplits:\n",
    "        for minSamplesLeaf in minSamplesLeafs:\n",
    "            tree2 = DecisionTreeClassifier(random_state = 42, \n",
    "                                           min_samples_split=minSamplesSplit, \n",
    "                                           max_depth=depth, \n",
    "                                           min_samples_leaf = minSamplesLeaf)\n",
    "            tree2.fit(X_train, c_train)\n",
    "            if tree2.score(X_validation, c_validation) > bestAccuracy:\n",
    "                optimalParameters = ({'max_depth':depth, \n",
    "                                      'min_samples_split': minSamplesSplit, \n",
    "                                      'min_samples_leaf':minSamplesLeaf})\n",
    "                optimalDepth = depth\n",
    "                optimalMinSamplesSplit = minSamplesSplit\n",
    "        bestAccuracy = max(bestAccuracy, tree2.score(X_validation, \n",
    "                                                     c_validation))\n",
    "    \n",
    "    print(\"Done depth \"+str(depth)+\" of 15 \"+\"in \"+\n",
    "          str((datetime.datetime.now()-start).seconds)+\n",
    "          \" secs\")\n",
    "    \n",
    "print(\"Optimal depth / min_samples_split / min_samples_leaf : \" \n",
    "      + str(optimalParameters.get('max_depth')) + \" / \" \n",
    "      + str(optimalParameters.get('min_samples_split'))+ \" / \" \n",
    "      + str(optimalParameters.get('min_samples_leaf')))\n",
    "print(\"Best accuracy optained (on validationset): \" + str(bestAccuracy))\n",
    "\n",
    "# Having found the optimal parameters, lets do a validation of the model \n",
    "# to get a measure of the accuracy:\n",
    "tree3 = DecisionTreeClassifier(**optimalParameters)\n",
    "tree3.fit(X_train, c_train)\n",
    "print(\"Accuracy on testset: \")\n",
    "tree3.score(X_test, c_test)\n"
   ]
  },
  {
   "cell_type": "markdown",
   "metadata": {},
   "source": [
    "As seen above, this actually helped us improve the model by a few points. <br>It seems that the optimal parameters in this case are: 14 / 21 / 4 (Optimal depth / min_samples_split / min_samles_leaf).<br><br>\n",
    "Now, as mentioned, there is another more standardized way of doing this sort of thing, and that is called Grid Search Cross Validation. Basically, it does the same thing (looping over parameter combinations), but instead of checking accuracy of the individual parameter combinations by testing on a validation set, it does cross validation instead. This means splitting the training data into \"folds\", training on n-1 folds and testing on the last fold. The default number of folds i scikit´s GridSearchCV is 3 - lets try looking for some of the other parameters (min_samples_split, max_depth and min_samples_leaf) as mentioned in the exercise text.<br><br>\n",
    "Note, that when doing cross validation, we don´t neeed the validation set, so we´ll do the original split again:"
   ]
  },
  {
   "cell_type": "code",
   "execution_count": 272,
   "metadata": {},
   "outputs": [
    {
     "name": "stdout",
     "output_type": "stream",
     "text": [
      "Started at: 2018-03-28 20:26:38.731413\n",
      "Fitting 3 folds for each of 67228 candidates, totalling 201684 fits\n"
     ]
    },
    {
     "name": "stderr",
     "output_type": "stream",
     "text": [
      "[Parallel(n_jobs=1)]: Done 201684 out of 201684 | elapsed:  7.4min finished\n"
     ]
    },
    {
     "name": "stdout",
     "output_type": "stream",
     "text": [
      "Training took 448 seconds \n",
      "Optimal parameters are: {'min_samples_split': 2, 'max_depth': 4, 'min_samples_leaf': 9}\n"
     ]
    }
   ],
   "source": [
    "# Note: takes about 9 minutes\n",
    "X_train, X_test, c_train, c_test = train_test_split(data['data'], c, \n",
    "                                                    random_state=0)\n",
    "\n",
    "from sklearn.model_selection import GridSearchCV\n",
    "import datetime\n",
    "params = {'min_samples_split':list(range(2,100)), \n",
    "          'max_depth': list(range(1,15)), \n",
    "          'min_samples_leaf':list(range(1,50))}\n",
    "start=datetime.datetime.now()\n",
    "print(\"Started at: \"+str(start))\n",
    "gs=GridSearchCV(DecisionTreeClassifier(),params, verbose=1)\n",
    "gs.fit(X_train, c_train)\n",
    "print(\"Training took {} seconds \".format((datetime.datetime.now()-\n",
    "                                          start).seconds))\n",
    "\n",
    "print(\"Optimal parameters are: \"+str(gs.best_params_))"
   ]
  },
  {
   "cell_type": "code",
   "execution_count": 273,
   "metadata": {},
   "outputs": [
    {
     "name": "stdout",
     "output_type": "stream",
     "text": [
      "Optimal parameters are: {'min_samples_split': 2, 'max_depth': 4, 'min_samples_leaf': 9}\n",
      "Accuracy on test set: 0.7716535433070866 \n"
     ]
    }
   ],
   "source": [
    "print(\"Optimal parameters are: \"+str(gs.best_params_))\n",
    "\n",
    "print(\"Accuracy on test set: {} \".format(gs.score(X_test, \n",
    "                                                  c_test)))"
   ]
  },
  {
   "cell_type": "markdown",
   "metadata": {},
   "source": [
    "So, we got quite a different result, than when using the validationset, so which should we trust ? Well, since the cross-validation method has found parameters and estimated accuracies on much more \"unseen\" data, we should towards trusting the latter version. The cross validation technique ensures, that all trainingdata is used for parameter optimization, instead of just 25% when using the validation set technique. <br><br>\n",
    "Lets visualize the resulting tree:"
   ]
  },
  {
   "cell_type": "code",
   "execution_count": 274,
   "metadata": {},
   "outputs": [
    {
     "data": {
      "image/svg+xml": [
       "<?xml version=\"1.0\" encoding=\"UTF-8\" standalone=\"no\"?>\n",
       "<!DOCTYPE svg PUBLIC \"-//W3C//DTD SVG 1.1//EN\"\n",
       " \"http://www.w3.org/Graphics/SVG/1.1/DTD/svg11.dtd\">\n",
       "<!-- Generated by graphviz version 2.40.1 (20161225.0304)\n",
       " -->\n",
       "<!-- Title: Tree Pages: 1 -->\n",
       "<svg width=\"1129pt\" height=\"458pt\"\n",
       " viewBox=\"0.00 0.00 1129.42 458.00\" xmlns=\"http://www.w3.org/2000/svg\" xmlns:xlink=\"http://www.w3.org/1999/xlink\">\n",
       "<g id=\"graph0\" class=\"graph\" transform=\"scale(1 1) rotate(0) translate(4 454)\">\n",
       "<title>Tree</title>\n",
       "<polygon fill=\"#ffffff\" stroke=\"transparent\" points=\"-4,4 -4,-454 1125.4199,-454 1125.4199,4 -4,4\"/>\n",
       "<!-- 0 -->\n",
       "<g id=\"node1\" class=\"node\">\n",
       "<title>0</title>\n",
       "<polygon fill=\"#e58139\" fill-opacity=\"0.105882\" stroke=\"#000000\" points=\"553.5457,-450 438.0432,-450 438.0432,-386 553.5457,-386 553.5457,-450\"/>\n",
       "<text text-anchor=\"middle\" x=\"495.7944\" y=\"-434.8\" font-family=\"Times,serif\" font-size=\"14.00\" fill=\"#000000\">LSTAT &lt;= 11.81</text>\n",
       "<text text-anchor=\"middle\" x=\"495.7944\" y=\"-420.8\" font-family=\"Times,serif\" font-size=\"14.00\" fill=\"#000000\">samples = 127</text>\n",
       "<text text-anchor=\"middle\" x=\"495.7944\" y=\"-406.8\" font-family=\"Times,serif\" font-size=\"14.00\" fill=\"#000000\">value = [67, 60]</text>\n",
       "<text text-anchor=\"middle\" x=\"495.7944\" y=\"-392.8\" font-family=\"Times,serif\" font-size=\"14.00\" fill=\"#000000\">class = Low price</text>\n",
       "</g>\n",
       "<!-- 1 -->\n",
       "<g id=\"node2\" class=\"node\">\n",
       "<title>1</title>\n",
       "<polygon fill=\"#399de5\" fill-opacity=\"0.713725\" stroke=\"#000000\" points=\"486.384,-350 369.2049,-350 369.2049,-286 486.384,-286 486.384,-350\"/>\n",
       "<text text-anchor=\"middle\" x=\"427.7944\" y=\"-334.8\" font-family=\"Times,serif\" font-size=\"14.00\" fill=\"#000000\">RM &lt;= 6.234</text>\n",
       "<text text-anchor=\"middle\" x=\"427.7944\" y=\"-320.8\" font-family=\"Times,serif\" font-size=\"14.00\" fill=\"#000000\">samples = 63</text>\n",
       "<text text-anchor=\"middle\" x=\"427.7944\" y=\"-306.8\" font-family=\"Times,serif\" font-size=\"14.00\" fill=\"#000000\">value = [14, 49]</text>\n",
       "<text text-anchor=\"middle\" x=\"427.7944\" y=\"-292.8\" font-family=\"Times,serif\" font-size=\"14.00\" fill=\"#000000\">class = High price</text>\n",
       "</g>\n",
       "<!-- 0&#45;&gt;1 -->\n",
       "<g id=\"edge1\" class=\"edge\">\n",
       "<title>0&#45;&gt;1</title>\n",
       "<path fill=\"none\" stroke=\"#000000\" d=\"M473.9045,-385.8089C468.02,-377.1553 461.5789,-367.683 455.4263,-358.635\"/>\n",
       "<polygon fill=\"#000000\" stroke=\"#000000\" points=\"458.1607,-356.4319 449.6433,-350.1308 452.3722,-360.3681 458.1607,-356.4319\"/>\n",
       "<text text-anchor=\"middle\" x=\"444.9655\" y=\"-370.4892\" font-family=\"Times,serif\" font-size=\"14.00\" fill=\"#000000\">True</text>\n",
       "</g>\n",
       "<!-- 8 -->\n",
       "<g id=\"node9\" class=\"node\">\n",
       "<title>8</title>\n",
       "<polygon fill=\"#e58139\" fill-opacity=\"0.792157\" stroke=\"#000000\" points=\"688.5457,-350 573.0432,-350 573.0432,-286 688.5457,-286 688.5457,-350\"/>\n",
       "<text text-anchor=\"middle\" x=\"630.7944\" y=\"-334.8\" font-family=\"Times,serif\" font-size=\"14.00\" fill=\"#000000\">CRIM &lt;= 0.184</text>\n",
       "<text text-anchor=\"middle\" x=\"630.7944\" y=\"-320.8\" font-family=\"Times,serif\" font-size=\"14.00\" fill=\"#000000\">samples = 64</text>\n",
       "<text text-anchor=\"middle\" x=\"630.7944\" y=\"-306.8\" font-family=\"Times,serif\" font-size=\"14.00\" fill=\"#000000\">value = [53, 11]</text>\n",
       "<text text-anchor=\"middle\" x=\"630.7944\" y=\"-292.8\" font-family=\"Times,serif\" font-size=\"14.00\" fill=\"#000000\">class = Low price</text>\n",
       "</g>\n",
       "<!-- 0&#45;&gt;8 -->\n",
       "<g id=\"edge8\" class=\"edge\">\n",
       "<title>0&#45;&gt;8</title>\n",
       "<path fill=\"none\" stroke=\"#000000\" d=\"M539.2524,-385.8089C552.0187,-376.3524 566.1048,-365.9182 579.321,-356.1285\"/>\n",
       "<polygon fill=\"#000000\" stroke=\"#000000\" points=\"581.4656,-358.8955 587.4179,-350.1308 577.299,-353.2706 581.4656,-358.8955\"/>\n",
       "<text text-anchor=\"middle\" x=\"583.7351\" y=\"-370.658\" font-family=\"Times,serif\" font-size=\"14.00\" fill=\"#000000\">False</text>\n",
       "</g>\n",
       "<!-- 2 -->\n",
       "<g id=\"node3\" class=\"node\">\n",
       "<title>2</title>\n",
       "<polygon fill=\"#e58139\" fill-opacity=\"0.250980\" stroke=\"#000000\" points=\"250.5457,-250 135.0432,-250 135.0432,-186 250.5457,-186 250.5457,-250\"/>\n",
       "<text text-anchor=\"middle\" x=\"192.7944\" y=\"-234.8\" font-family=\"Times,serif\" font-size=\"14.00\" fill=\"#000000\">NOX &lt;= 0.51</text>\n",
       "<text text-anchor=\"middle\" x=\"192.7944\" y=\"-220.8\" font-family=\"Times,serif\" font-size=\"14.00\" fill=\"#000000\">samples = 21</text>\n",
       "<text text-anchor=\"middle\" x=\"192.7944\" y=\"-206.8\" font-family=\"Times,serif\" font-size=\"14.00\" fill=\"#000000\">value = [12, 9]</text>\n",
       "<text text-anchor=\"middle\" x=\"192.7944\" y=\"-192.8\" font-family=\"Times,serif\" font-size=\"14.00\" fill=\"#000000\">class = Low price</text>\n",
       "</g>\n",
       "<!-- 1&#45;&gt;2 -->\n",
       "<g id=\"edge2\" class=\"edge\">\n",
       "<title>1&#45;&gt;2</title>\n",
       "<path fill=\"none\" stroke=\"#000000\" d=\"M369.1002,-293.0237C336.0457,-278.958 294.6258,-261.3325 260.2399,-246.7002\"/>\n",
       "<polygon fill=\"#000000\" stroke=\"#000000\" points=\"261.3126,-243.353 250.7406,-242.6579 258.5717,-249.7941 261.3126,-243.353\"/>\n",
       "</g>\n",
       "<!-- 5 -->\n",
       "<g id=\"node6\" class=\"node\">\n",
       "<title>5</title>\n",
       "<polygon fill=\"#399de5\" fill-opacity=\"0.949020\" stroke=\"#000000\" points=\"486.384,-250 369.2049,-250 369.2049,-186 486.384,-186 486.384,-250\"/>\n",
       "<text text-anchor=\"middle\" x=\"427.7944\" y=\"-234.8\" font-family=\"Times,serif\" font-size=\"14.00\" fill=\"#000000\">NOX &lt;= 0.514</text>\n",
       "<text text-anchor=\"middle\" x=\"427.7944\" y=\"-220.8\" font-family=\"Times,serif\" font-size=\"14.00\" fill=\"#000000\">samples = 42</text>\n",
       "<text text-anchor=\"middle\" x=\"427.7944\" y=\"-206.8\" font-family=\"Times,serif\" font-size=\"14.00\" fill=\"#000000\">value = [2, 40]</text>\n",
       "<text text-anchor=\"middle\" x=\"427.7944\" y=\"-192.8\" font-family=\"Times,serif\" font-size=\"14.00\" fill=\"#000000\">class = High price</text>\n",
       "</g>\n",
       "<!-- 1&#45;&gt;5 -->\n",
       "<g id=\"edge5\" class=\"edge\">\n",
       "<title>1&#45;&gt;5</title>\n",
       "<path fill=\"none\" stroke=\"#000000\" d=\"M427.7944,-285.8089C427.7944,-277.6906 427.7944,-268.8517 427.7944,-260.3186\"/>\n",
       "<polygon fill=\"#000000\" stroke=\"#000000\" points=\"431.2945,-260.1307 427.7944,-250.1308 424.2945,-260.1308 431.2945,-260.1307\"/>\n",
       "</g>\n",
       "<!-- 3 -->\n",
       "<g id=\"node4\" class=\"node\">\n",
       "<title>3</title>\n",
       "<polygon fill=\"#399de5\" fill-opacity=\"0.286275\" stroke=\"#000000\" points=\"117.384,-143 .2049,-143 .2049,-93 117.384,-93 117.384,-143\"/>\n",
       "<text text-anchor=\"middle\" x=\"58.7944\" y=\"-127.8\" font-family=\"Times,serif\" font-size=\"14.00\" fill=\"#000000\">samples = 12</text>\n",
       "<text text-anchor=\"middle\" x=\"58.7944\" y=\"-113.8\" font-family=\"Times,serif\" font-size=\"14.00\" fill=\"#000000\">value = [5, 7]</text>\n",
       "<text text-anchor=\"middle\" x=\"58.7944\" y=\"-99.8\" font-family=\"Times,serif\" font-size=\"14.00\" fill=\"#000000\">class = High price</text>\n",
       "</g>\n",
       "<!-- 2&#45;&gt;3 -->\n",
       "<g id=\"edge3\" class=\"edge\">\n",
       "<title>2&#45;&gt;3</title>\n",
       "<path fill=\"none\" stroke=\"#000000\" d=\"M149.6584,-185.8089C134.0363,-174.1506 116.4231,-161.0064 100.8915,-149.4157\"/>\n",
       "<polygon fill=\"#000000\" stroke=\"#000000\" points=\"102.6105,-146.3314 92.5029,-143.1555 98.4239,-151.9414 102.6105,-146.3314\"/>\n",
       "</g>\n",
       "<!-- 4 -->\n",
       "<g id=\"node5\" class=\"node\">\n",
       "<title>4</title>\n",
       "<polygon fill=\"#e58139\" fill-opacity=\"0.713725\" stroke=\"#000000\" points=\"250.5457,-143 135.0432,-143 135.0432,-93 250.5457,-93 250.5457,-143\"/>\n",
       "<text text-anchor=\"middle\" x=\"192.7944\" y=\"-127.8\" font-family=\"Times,serif\" font-size=\"14.00\" fill=\"#000000\">samples = 9</text>\n",
       "<text text-anchor=\"middle\" x=\"192.7944\" y=\"-113.8\" font-family=\"Times,serif\" font-size=\"14.00\" fill=\"#000000\">value = [7, 2]</text>\n",
       "<text text-anchor=\"middle\" x=\"192.7944\" y=\"-99.8\" font-family=\"Times,serif\" font-size=\"14.00\" fill=\"#000000\">class = Low price</text>\n",
       "</g>\n",
       "<!-- 2&#45;&gt;4 -->\n",
       "<g id=\"edge4\" class=\"edge\">\n",
       "<title>2&#45;&gt;4</title>\n",
       "<path fill=\"none\" stroke=\"#000000\" d=\"M192.7944,-185.8089C192.7944,-175.446 192.7944,-163.909 192.7944,-153.3327\"/>\n",
       "<polygon fill=\"#000000\" stroke=\"#000000\" points=\"196.2945,-153.1555 192.7944,-143.1555 189.2945,-153.1556 196.2945,-153.1555\"/>\n",
       "</g>\n",
       "<!-- 6 -->\n",
       "<g id=\"node7\" class=\"node\">\n",
       "<title>6</title>\n",
       "<polygon fill=\"#399de5\" stroke=\"#000000\" points=\"385.384,-143 268.2049,-143 268.2049,-93 385.384,-93 385.384,-143\"/>\n",
       "<text text-anchor=\"middle\" x=\"326.7944\" y=\"-127.8\" font-family=\"Times,serif\" font-size=\"14.00\" fill=\"#000000\">samples = 32</text>\n",
       "<text text-anchor=\"middle\" x=\"326.7944\" y=\"-113.8\" font-family=\"Times,serif\" font-size=\"14.00\" fill=\"#000000\">value = [0, 32]</text>\n",
       "<text text-anchor=\"middle\" x=\"326.7944\" y=\"-99.8\" font-family=\"Times,serif\" font-size=\"14.00\" fill=\"#000000\">class = High price</text>\n",
       "</g>\n",
       "<!-- 5&#45;&gt;6 -->\n",
       "<g id=\"edge6\" class=\"edge\">\n",
       "<title>5&#45;&gt;6</title>\n",
       "<path fill=\"none\" stroke=\"#000000\" d=\"M395.2814,-185.8089C383.8336,-174.4745 370.9673,-161.7355 359.5034,-150.3851\"/>\n",
       "<polygon fill=\"#000000\" stroke=\"#000000\" points=\"361.7703,-147.7042 352.2015,-143.1555 356.8452,-152.6785 361.7703,-147.7042\"/>\n",
       "</g>\n",
       "<!-- 7 -->\n",
       "<g id=\"node8\" class=\"node\">\n",
       "<title>7</title>\n",
       "<polygon fill=\"#399de5\" fill-opacity=\"0.749020\" stroke=\"#000000\" points=\"521.384,-143 404.2049,-143 404.2049,-93 521.384,-93 521.384,-143\"/>\n",
       "<text text-anchor=\"middle\" x=\"462.7944\" y=\"-127.8\" font-family=\"Times,serif\" font-size=\"14.00\" fill=\"#000000\">samples = 10</text>\n",
       "<text text-anchor=\"middle\" x=\"462.7944\" y=\"-113.8\" font-family=\"Times,serif\" font-size=\"14.00\" fill=\"#000000\">value = [2, 8]</text>\n",
       "<text text-anchor=\"middle\" x=\"462.7944\" y=\"-99.8\" font-family=\"Times,serif\" font-size=\"14.00\" fill=\"#000000\">class = High price</text>\n",
       "</g>\n",
       "<!-- 5&#45;&gt;7 -->\n",
       "<g id=\"edge7\" class=\"edge\">\n",
       "<title>5&#45;&gt;7</title>\n",
       "<path fill=\"none\" stroke=\"#000000\" d=\"M439.0613,-185.8089C442.7639,-175.2301 446.8947,-163.4278 450.6589,-152.6729\"/>\n",
       "<polygon fill=\"#000000\" stroke=\"#000000\" points=\"453.9899,-153.7504 453.99,-143.1555 447.3829,-151.4379 453.9899,-153.7504\"/>\n",
       "</g>\n",
       "<!-- 9 -->\n",
       "<g id=\"node10\" class=\"node\">\n",
       "<title>9</title>\n",
       "<polygon fill=\"#e58139\" fill-opacity=\"0.498039\" stroke=\"#000000\" points=\"689.7251,-250 571.8637,-250 571.8637,-186 689.7251,-186 689.7251,-250\"/>\n",
       "<text text-anchor=\"middle\" x=\"630.7944\" y=\"-234.8\" font-family=\"Times,serif\" font-size=\"14.00\" fill=\"#000000\">LSTAT &lt;= 14.375</text>\n",
       "<text text-anchor=\"middle\" x=\"630.7944\" y=\"-220.8\" font-family=\"Times,serif\" font-size=\"14.00\" fill=\"#000000\">samples = 18</text>\n",
       "<text text-anchor=\"middle\" x=\"630.7944\" y=\"-206.8\" font-family=\"Times,serif\" font-size=\"14.00\" fill=\"#000000\">value = [12, 6]</text>\n",
       "<text text-anchor=\"middle\" x=\"630.7944\" y=\"-192.8\" font-family=\"Times,serif\" font-size=\"14.00\" fill=\"#000000\">class = Low price</text>\n",
       "</g>\n",
       "<!-- 8&#45;&gt;9 -->\n",
       "<g id=\"edge9\" class=\"edge\">\n",
       "<title>8&#45;&gt;9</title>\n",
       "<path fill=\"none\" stroke=\"#000000\" d=\"M630.7944,-285.8089C630.7944,-277.6906 630.7944,-268.8517 630.7944,-260.3186\"/>\n",
       "<polygon fill=\"#000000\" stroke=\"#000000\" points=\"634.2945,-260.1307 630.7944,-250.1308 627.2945,-260.1308 634.2945,-260.1307\"/>\n",
       "</g>\n",
       "<!-- 12 -->\n",
       "<g id=\"node13\" class=\"node\">\n",
       "<title>12</title>\n",
       "<polygon fill=\"#e58139\" fill-opacity=\"0.878431\" stroke=\"#000000\" points=\"922.5457,-250 807.0432,-250 807.0432,-186 922.5457,-186 922.5457,-250\"/>\n",
       "<text text-anchor=\"middle\" x=\"864.7944\" y=\"-234.8\" font-family=\"Times,serif\" font-size=\"14.00\" fill=\"#000000\">DIS &lt;= 1.53</text>\n",
       "<text text-anchor=\"middle\" x=\"864.7944\" y=\"-220.8\" font-family=\"Times,serif\" font-size=\"14.00\" fill=\"#000000\">samples = 46</text>\n",
       "<text text-anchor=\"middle\" x=\"864.7944\" y=\"-206.8\" font-family=\"Times,serif\" font-size=\"14.00\" fill=\"#000000\">value = [41, 5]</text>\n",
       "<text text-anchor=\"middle\" x=\"864.7944\" y=\"-192.8\" font-family=\"Times,serif\" font-size=\"14.00\" fill=\"#000000\">class = Low price</text>\n",
       "</g>\n",
       "<!-- 8&#45;&gt;12 -->\n",
       "<g id=\"edge12\" class=\"edge\">\n",
       "<title>8&#45;&gt;12</title>\n",
       "<path fill=\"none\" stroke=\"#000000\" d=\"M688.6371,-293.2809C721.5438,-279.2182 762.9229,-261.5349 797.3065,-246.841\"/>\n",
       "<polygon fill=\"#000000\" stroke=\"#000000\" points=\"798.9861,-249.9295 806.8062,-242.7813 796.2352,-243.4926 798.9861,-249.9295\"/>\n",
       "</g>\n",
       "<!-- 10 -->\n",
       "<g id=\"node11\" class=\"node\">\n",
       "<title>10</title>\n",
       "<polygon fill=\"#e58139\" fill-opacity=\"0.874510\" stroke=\"#000000\" points=\"654.5457,-143 539.0432,-143 539.0432,-93 654.5457,-93 654.5457,-143\"/>\n",
       "<text text-anchor=\"middle\" x=\"596.7944\" y=\"-127.8\" font-family=\"Times,serif\" font-size=\"14.00\" fill=\"#000000\">samples = 9</text>\n",
       "<text text-anchor=\"middle\" x=\"596.7944\" y=\"-113.8\" font-family=\"Times,serif\" font-size=\"14.00\" fill=\"#000000\">value = [8, 1]</text>\n",
       "<text text-anchor=\"middle\" x=\"596.7944\" y=\"-99.8\" font-family=\"Times,serif\" font-size=\"14.00\" fill=\"#000000\">class = Low price</text>\n",
       "</g>\n",
       "<!-- 9&#45;&gt;10 -->\n",
       "<g id=\"edge10\" class=\"edge\">\n",
       "<title>9&#45;&gt;10</title>\n",
       "<path fill=\"none\" stroke=\"#000000\" d=\"M619.8495,-185.8089C616.2527,-175.2301 612.2399,-163.4278 608.5832,-152.6729\"/>\n",
       "<polygon fill=\"#000000\" stroke=\"#000000\" points=\"611.8801,-151.4966 605.3473,-143.1555 605.2527,-153.75 611.8801,-151.4966\"/>\n",
       "</g>\n",
       "<!-- 11 -->\n",
       "<g id=\"node12\" class=\"node\">\n",
       "<title>11</title>\n",
       "<polygon fill=\"#399de5\" fill-opacity=\"0.200000\" stroke=\"#000000\" points=\"789.384,-143 672.2049,-143 672.2049,-93 789.384,-93 789.384,-143\"/>\n",
       "<text text-anchor=\"middle\" x=\"730.7944\" y=\"-127.8\" font-family=\"Times,serif\" font-size=\"14.00\" fill=\"#000000\">samples = 9</text>\n",
       "<text text-anchor=\"middle\" x=\"730.7944\" y=\"-113.8\" font-family=\"Times,serif\" font-size=\"14.00\" fill=\"#000000\">value = [4, 5]</text>\n",
       "<text text-anchor=\"middle\" x=\"730.7944\" y=\"-99.8\" font-family=\"Times,serif\" font-size=\"14.00\" fill=\"#000000\">class = High price</text>\n",
       "</g>\n",
       "<!-- 9&#45;&gt;11 -->\n",
       "<g id=\"edge11\" class=\"edge\">\n",
       "<title>9&#45;&gt;11</title>\n",
       "<path fill=\"none\" stroke=\"#000000\" d=\"M662.9855,-185.8089C674.32,-174.4745 687.0589,-161.7355 698.4093,-150.3851\"/>\n",
       "<polygon fill=\"#000000\" stroke=\"#000000\" points=\"701.0427,-152.7015 705.6389,-143.1555 696.0929,-147.7518 701.0427,-152.7015\"/>\n",
       "</g>\n",
       "<!-- 13 -->\n",
       "<g id=\"node14\" class=\"node\">\n",
       "<title>13</title>\n",
       "<polygon fill=\"#e58139\" fill-opacity=\"0.498039\" stroke=\"#000000\" points=\"922.5457,-143 807.0432,-143 807.0432,-93 922.5457,-93 922.5457,-143\"/>\n",
       "<text text-anchor=\"middle\" x=\"864.7944\" y=\"-127.8\" font-family=\"Times,serif\" font-size=\"14.00\" fill=\"#000000\">samples = 9</text>\n",
       "<text text-anchor=\"middle\" x=\"864.7944\" y=\"-113.8\" font-family=\"Times,serif\" font-size=\"14.00\" fill=\"#000000\">value = [6, 3]</text>\n",
       "<text text-anchor=\"middle\" x=\"864.7944\" y=\"-99.8\" font-family=\"Times,serif\" font-size=\"14.00\" fill=\"#000000\">class = Low price</text>\n",
       "</g>\n",
       "<!-- 12&#45;&gt;13 -->\n",
       "<g id=\"edge13\" class=\"edge\">\n",
       "<title>12&#45;&gt;13</title>\n",
       "<path fill=\"none\" stroke=\"#000000\" d=\"M864.7944,-185.8089C864.7944,-175.446 864.7944,-163.909 864.7944,-153.3327\"/>\n",
       "<polygon fill=\"#000000\" stroke=\"#000000\" points=\"868.2945,-153.1555 864.7944,-143.1555 861.2945,-153.1556 868.2945,-153.1555\"/>\n",
       "</g>\n",
       "<!-- 14 -->\n",
       "<g id=\"node15\" class=\"node\">\n",
       "<title>14</title>\n",
       "<polygon fill=\"#e58139\" fill-opacity=\"0.941176\" stroke=\"#000000\" points=\"1055.5457,-150 940.0432,-150 940.0432,-86 1055.5457,-86 1055.5457,-150\"/>\n",
       "<text text-anchor=\"middle\" x=\"997.7944\" y=\"-134.8\" font-family=\"Times,serif\" font-size=\"14.00\" fill=\"#000000\">NOX &lt;= 0.697</text>\n",
       "<text text-anchor=\"middle\" x=\"997.7944\" y=\"-120.8\" font-family=\"Times,serif\" font-size=\"14.00\" fill=\"#000000\">samples = 37</text>\n",
       "<text text-anchor=\"middle\" x=\"997.7944\" y=\"-106.8\" font-family=\"Times,serif\" font-size=\"14.00\" fill=\"#000000\">value = [35, 2]</text>\n",
       "<text text-anchor=\"middle\" x=\"997.7944\" y=\"-92.8\" font-family=\"Times,serif\" font-size=\"14.00\" fill=\"#000000\">class = Low price</text>\n",
       "</g>\n",
       "<!-- 12&#45;&gt;14 -->\n",
       "<g id=\"edge14\" class=\"edge\">\n",
       "<title>12&#45;&gt;14</title>\n",
       "<path fill=\"none\" stroke=\"#000000\" d=\"M907.6086,-185.8089C920.0671,-176.4416 933.8015,-166.115 946.7148,-156.4057\"/>\n",
       "<polygon fill=\"#000000\" stroke=\"#000000\" points=\"949.1711,-158.9379 955.0605,-150.1308 944.9643,-153.3429 949.1711,-158.9379\"/>\n",
       "</g>\n",
       "<!-- 15 -->\n",
       "<g id=\"node16\" class=\"node\">\n",
       "<title>15</title>\n",
       "<polygon fill=\"#e58139\" stroke=\"#000000\" points=\"988.5457,-50 873.0432,-50 873.0432,0 988.5457,0 988.5457,-50\"/>\n",
       "<text text-anchor=\"middle\" x=\"930.7944\" y=\"-34.8\" font-family=\"Times,serif\" font-size=\"14.00\" fill=\"#000000\">samples = 23</text>\n",
       "<text text-anchor=\"middle\" x=\"930.7944\" y=\"-20.8\" font-family=\"Times,serif\" font-size=\"14.00\" fill=\"#000000\">value = [23, 0]</text>\n",
       "<text text-anchor=\"middle\" x=\"930.7944\" y=\"-6.8\" font-family=\"Times,serif\" font-size=\"14.00\" fill=\"#000000\">class = Low price</text>\n",
       "</g>\n",
       "<!-- 14&#45;&gt;15 -->\n",
       "<g id=\"edge15\" class=\"edge\">\n",
       "<title>14&#45;&gt;15</title>\n",
       "<path fill=\"none\" stroke=\"#000000\" d=\"M974.7368,-85.9947C968.3113,-77.0756 961.3163,-67.3661 954.8357,-58.3706\"/>\n",
       "<polygon fill=\"#000000\" stroke=\"#000000\" points=\"957.5005,-56.0819 948.8153,-50.014 951.8209,-60.1736 957.5005,-56.0819\"/>\n",
       "</g>\n",
       "<!-- 16 -->\n",
       "<g id=\"node17\" class=\"node\">\n",
       "<title>16</title>\n",
       "<polygon fill=\"#e58139\" fill-opacity=\"0.831373\" stroke=\"#000000\" points=\"1121.5457,-50 1006.0432,-50 1006.0432,0 1121.5457,0 1121.5457,-50\"/>\n",
       "<text text-anchor=\"middle\" x=\"1063.7944\" y=\"-34.8\" font-family=\"Times,serif\" font-size=\"14.00\" fill=\"#000000\">samples = 14</text>\n",
       "<text text-anchor=\"middle\" x=\"1063.7944\" y=\"-20.8\" font-family=\"Times,serif\" font-size=\"14.00\" fill=\"#000000\">value = [12, 2]</text>\n",
       "<text text-anchor=\"middle\" x=\"1063.7944\" y=\"-6.8\" font-family=\"Times,serif\" font-size=\"14.00\" fill=\"#000000\">class = Low price</text>\n",
       "</g>\n",
       "<!-- 14&#45;&gt;16 -->\n",
       "<g id=\"edge16\" class=\"edge\">\n",
       "<title>14&#45;&gt;16</title>\n",
       "<path fill=\"none\" stroke=\"#000000\" d=\"M1020.5079,-85.9947C1026.8375,-77.0756 1033.7282,-67.3661 1040.112,-58.3706\"/>\n",
       "<polygon fill=\"#000000\" stroke=\"#000000\" points=\"1043.1093,-60.1947 1046.0425,-50.014 1037.4007,-56.1435 1043.1093,-60.1947\"/>\n",
       "</g>\n",
       "</g>\n",
       "</svg>\n"
      ],
      "text/plain": [
       "<graphviz.files.Source at 0x11af61198>"
      ]
     },
     "metadata": {},
     "output_type": "display_data"
    }
   ],
   "source": [
    "tree4=DecisionTreeClassifier(**gs.best_params_).fit(X_test, c_test)\n",
    "displayTree(tree4)"
   ]
  },
  {
   "cell_type": "markdown",
   "metadata": {},
   "source": [
    "# Data models and analyses techniques: Exercise sheet 2"
   ]
  },
  {
   "cell_type": "markdown",
   "metadata": {},
   "source": [
    "#### *Your name: Jan Pedersbæk"
   ]
  },
  {
   "cell_type": "markdown",
   "metadata": {},
   "source": [
    "## Exercises"
   ]
  },
  {
   "cell_type": "markdown",
   "metadata": {},
   "source": [
    "In this exercise we shall expore and compare the k-nearest neighbor classifier and the naive Bayes model. The analysis will be based on the *California housing* data set."
   ]
  },
  {
   "cell_type": "code",
   "execution_count": 277,
   "metadata": {},
   "outputs": [],
   "source": [
    "from sklearn.datasets import fetch_california_housing\n",
    "data = fetch_california_housing()"
   ]
  },
  {
   "cell_type": "code",
   "execution_count": 278,
   "metadata": {},
   "outputs": [],
   "source": [
    "import numpy as np\n",
    "from sklearn.model_selection import train_test_split\n",
    "c = np.array([1 if y > np.median(data['target']) \n",
    "              else 0 for y in data['target']])\n",
    "\n",
    "X_train, X_test, c_train, c_test = train_test_split(data['data'],c,random_state=0)"
   ]
  },
  {
   "cell_type": "markdown",
   "metadata": {},
   "source": [
    "Lets look at data in a pandas dataframe to get a sense of the data. <br>We´ll print the first row, just to get an idea:"
   ]
  },
  {
   "cell_type": "code",
   "execution_count": 279,
   "metadata": {},
   "outputs": [
    {
     "name": "stdout",
     "output_type": "stream",
     "text": [
      "California housing dataset.\n",
      "\n",
      "The original database is available from StatLib\n",
      "\n",
      "    http://lib.stat.cmu.edu/datasets/\n",
      "\n",
      "The data contains 20,640 observations on 9 variables.\n",
      "\n",
      "This dataset contains the average house value as target variable\n",
      "and the following input variables (features): average income,\n",
      "housing average age, average rooms, average bedrooms, population,\n",
      "average occupation, latitude, and longitude in that order.\n",
      "\n",
      "References\n",
      "----------\n",
      "\n",
      "Pace, R. Kelley and Ronald Barry, Sparse Spatial Autoregressions,\n",
      "Statistics and Probability Letters, 33 (1997) 291-297.\n",
      "\n",
      "\n"
     ]
    },
    {
     "data": {
      "text/html": [
       "<div>\n",
       "<style scoped>\n",
       "    .dataframe tbody tr th:only-of-type {\n",
       "        vertical-align: middle;\n",
       "    }\n",
       "\n",
       "    .dataframe tbody tr th {\n",
       "        vertical-align: top;\n",
       "    }\n",
       "\n",
       "    .dataframe thead th {\n",
       "        text-align: right;\n",
       "    }\n",
       "</style>\n",
       "<table border=\"1\" class=\"dataframe\">\n",
       "  <thead>\n",
       "    <tr style=\"text-align: right;\">\n",
       "      <th></th>\n",
       "      <th>MedInc</th>\n",
       "      <th>HouseAge</th>\n",
       "      <th>AveRooms</th>\n",
       "      <th>AveBedrms</th>\n",
       "      <th>Population</th>\n",
       "      <th>AveOccup</th>\n",
       "      <th>Latitude</th>\n",
       "      <th>Longitude</th>\n",
       "    </tr>\n",
       "  </thead>\n",
       "  <tbody>\n",
       "    <tr>\n",
       "      <th>0</th>\n",
       "      <td>7.3003</td>\n",
       "      <td>19.0</td>\n",
       "      <td>7.9616</td>\n",
       "      <td>1.1376</td>\n",
       "      <td>1926.0</td>\n",
       "      <td>3.0816</td>\n",
       "      <td>38.46</td>\n",
       "      <td>-122.68</td>\n",
       "    </tr>\n",
       "  </tbody>\n",
       "</table>\n",
       "</div>"
      ],
      "text/plain": [
       "   MedInc  HouseAge  AveRooms  AveBedrms  Population  AveOccup  Latitude  \\\n",
       "0  7.3003      19.0    7.9616     1.1376      1926.0    3.0816     38.46   \n",
       "\n",
       "   Longitude  \n",
       "0    -122.68  "
      ]
     },
     "execution_count": 279,
     "metadata": {},
     "output_type": "execute_result"
    }
   ],
   "source": [
    "import pandas as pd\n",
    "print(data['DESCR'][:3000])\n",
    "pd.DataFrame([X_train[0,:]], columns=data.feature_names)"
   ]
  },
  {
   "cell_type": "markdown",
   "metadata": {},
   "source": [
    "### K-nearest neighbor\n",
    "* Classify the instances in the test set using default settings for the k-NN classifier.\n",
    "* Try experimenting with different values for 'k'. How do the values affect the classification results? Feel free to try to automate this process using the methods explored in the previous exercise sheet. \n",
    "* Try to get some more insight into the data by generating descriptive statistics and by plotting the data. \n",
    "* Based on your understanding of the data and the properties of the k-NN classifier, does it seem reasonable to try to manipulate the data (e.g. through normalization) or work with different distance metrics in order to improve the performance of the classifier? How does such changes affect classification accuracy?"
   ]
  },
  {
   "cell_type": "markdown",
   "metadata": {},
   "source": [
    "##### Classifying using KNN (K=5)\n",
    "The KNN algorithm works on distance measures - eg. Euclidian distance or Manhattan distances, which both calculate absolute distances. Therefor, it would be sensible to scale the input data before training the model. This way, we can avoid that the features that have big scale migt be considered to be far away, eventhough they might be (relatively) close by. So, lets scale the train_vector, so that all input values are between 0-1 but keep their relative variance. We do this using the MinMaxScaler, but first, lets try without scaling:<br><br>\n",
    "Instanciate the classifier and train it:"
   ]
  },
  {
   "cell_type": "code",
   "execution_count": 280,
   "metadata": {},
   "outputs": [
    {
     "name": "stdout",
     "output_type": "stream",
     "text": [
      "Accuracy on test set: 0.6145348837209302 \n"
     ]
    }
   ],
   "source": [
    "from sklearn.neighbors import KNeighborsClassifier\n",
    "knn = KNeighborsClassifier(n_neighbors=5)\n",
    "knn.fit(X_train, c_train)\n",
    "# Predict the testset\n",
    "predictions = knn.predict(X_test)\n",
    "predictions\n",
    "\n",
    "print(\"Accuracy on test set: {} \".format(knn.score(X_test,c_test)))"
   ]
  },
  {
   "cell_type": "markdown",
   "metadata": {},
   "source": [
    "Now, lets scale the input so that all features are between 0-1, thus \"weighing\" all features equally"
   ]
  },
  {
   "cell_type": "code",
   "execution_count": 281,
   "metadata": {},
   "outputs": [
    {
     "name": "stdout",
     "output_type": "stream",
     "text": [
      "Accuracy on test set: 0.8220930232558139 \n"
     ]
    }
   ],
   "source": [
    "from sklearn.preprocessing import MinMaxScaler\n",
    "min_max_scaler = MinMaxScaler()\n",
    "X_train_scaled = min_max_scaler.fit_transform(X_train)\n",
    "X_test_scaled = min_max_scaler.fit_transform(X_test)\n",
    "knn = KNeighborsClassifier(n_neighbors=5)\n",
    "knn.fit(X_train_scaled, c_train)\n",
    "print(\"Accuracy on test set: {} \".format(knn.score(X_test_scaled, c_test)))"
   ]
  },
  {
   "cell_type": "markdown",
   "metadata": {},
   "source": [
    "That had quite an impact, improving the accuracy dramatically !"
   ]
  },
  {
   "cell_type": "markdown",
   "metadata": {},
   "source": [
    "#### Lets search for the optimal K value semi-manually.\n",
    "Just as the above example, we´ll search for the best parameter - this time the k-value. However, we´ll do the looping manually but still do the cross validation, because this method gives us the benefits of the cross validation, but also allows us to capture the accuracy for each k-value and plotting them.<br>\n",
    "Lastly we will - ofcourse - evaluate accuracy on the test-set"
   ]
  },
  {
   "cell_type": "code",
   "execution_count": 241,
   "metadata": {},
   "outputs": [
    {
     "name": "stdout",
     "output_type": "stream",
     "text": [
      "Best (mean) acc on found in the cross-val : 0.8406970945963931 \n",
      "Best-value: 7 \n"
     ]
    },
    {
     "data": {
      "image/png": "[encoded data removed]",
      "text/plain": [
       "<matplotlib.figure.Figure at 0x11e795048>"
      ]
     },
     "metadata": {},
     "output_type": "display_data"
    },
    {
     "name": "stdout",
     "output_type": "stream",
     "text": [
      "Accuracy on test set: 0.8201550387596899 \n"
     ]
    }
   ],
   "source": [
    "import matplotlib.pyplot as plt\n",
    "from sklearn.model_selection import cross_val_score\n",
    "\n",
    "bestAccuracy = 0\n",
    "bestKvalue = 0\n",
    "kValues = list(range(2,11))\n",
    "accuracies={}\n",
    "for kValue in kValues:\n",
    "    clf = KNeighborsClassifier(n_neighbors=kValue)\n",
    "    # Cross validation if 3-fold by default.\n",
    "    # Therefore, three accuracies are returned, and we use the mean to evaluate the model performance\n",
    "    acc = cross_val_score(clf, X_train_scaled, c_train).mean()\n",
    "    if acc > bestAccuracy:\n",
    "        bestAccuracy = acc\n",
    "        bestKvalue = kValue\n",
    "    accuracies[kValue] = acc\n",
    "print(\"Best (mean) acc on found in the cross-val : {} \".format(bestAccuracy)) \n",
    "print(\"Best-value: {} \".format(bestKvalue))\n",
    "\n",
    "plt.plot(range(len(accuracies)), list(accuracies.values()))\n",
    "plt.xticks(range(len(accuracies)), list(accuracies.keys()))\n",
    "plt.suptitle('Mean accuracy from crossvalidation pr. k-value', fontsize=16)\n",
    "plt.show()\n",
    "\n",
    "# Evaluating the accuracy on the test-set\n",
    "clf = KNeighborsClassifier(n_neighbors=bestKvalue)\n",
    "clf.fit(X_train_scaled, c_train)\n",
    "print(\"Accuracy on test set: {} \".format(clf.score(X_test_scaled,c_test))) \n",
    "\n"
   ]
  },
  {
   "cell_type": "markdown",
   "metadata": {},
   "source": [
    "Looks like a k-value of 7 is the optimal choice.<br>\n",
    "Just for fun, lets see if sklearn´s GridSearchCV class gives the same result, double checking that our semi-manual logic works."
   ]
  },
  {
   "cell_type": "code",
   "execution_count": 131,
   "metadata": {},
   "outputs": [
    {
     "name": "stdout",
     "output_type": "stream",
     "text": [
      "Accuracy on test set: 0.8201550387596899 \n",
      "Best parameters: {'n_neighbors': 7} \n"
     ]
    }
   ],
   "source": [
    "from sklearn.model_selection import GridSearchCV\n",
    "params = {'n_neighbors':list(range(2,11))}\n",
    "gs=GridSearchCV(KNeighborsClassifier(),params)\n",
    "gs.fit(X_train_scaled, c_train)\n",
    "print(\"Accuracy on test set: {} \".format(gs.score(X_test_scaled,c_test))) \n",
    "print(\"Best parameters: {} \".format(gs.best_params_))"
   ]
  },
  {
   "cell_type": "markdown",
   "metadata": {},
   "source": [
    "The KNN algorithm works on calculating distances, which can be done in several ways. Lets just try two different distance metrics<br>\n",
    "* \"Euclidean\" : (sqrt(sum((x - y)^2))) and \n",
    "* \"Manhattan\" : (sum(|x - y|)) \n",
    "\n",
    "along with the standard one \n",
    "* \"Minkowski\" : (sum(|x - y|^p)^(1/p))"
   ]
  },
  {
   "cell_type": "code",
   "execution_count": 132,
   "metadata": {},
   "outputs": [
    {
     "name": "stdout",
     "output_type": "stream",
     "text": [
      "Fitting 3 folds for each of 27 candidates, totalling 81 fits\n"
     ]
    },
    {
     "name": "stderr",
     "output_type": "stream",
     "text": [
      "[Parallel(n_jobs=1)]: Done  81 out of  81 | elapsed:   30.7s finished\n"
     ]
    },
    {
     "name": "stdout",
     "output_type": "stream",
     "text": [
      "Accuracy on test set: 0.8271317829457364 \n",
      "Best parameters: {'metric': 'manhattan', 'n_neighbors': 9} \n"
     ]
    }
   ],
   "source": [
    "from sklearn.model_selection import GridSearchCV\n",
    "params = {'n_neighbors':list(range(2,11)), 'metric':['euclidean',\n",
    "                                                     'manhattan',\n",
    "                                                     'minkowski']}\n",
    "\n",
    "gs=GridSearchCV(KNeighborsClassifier(),params, verbose=1)\n",
    "gs.fit(X_train_scaled, c_train)\n",
    "\n",
    "print(\"Accuracy on test set: {} \".format(gs.score(X_test_scaled,c_test))) \n",
    "print(\"Best parameters: {} \".format(gs.best_params_))"
   ]
  },
  {
   "cell_type": "markdown",
   "metadata": {},
   "source": [
    "So, it seems that we can get a little higher accuracy, by using the Manhattan distance metric for the KNN algorithm"
   ]
  },
  {
   "cell_type": "markdown",
   "metadata": {},
   "source": [
    "### Visualizing a bit...\n",
    "Lets do some further visualizations to get a sense of data, before building more models. Since the next model - the Naive Bayes - presumes that features are independent, we´ll do a scatterplot of feature combinations to see, if any of them look correlated<br><br>\n",
    "For this, lets build a Pandas Dataframe, since Pandas have a nice scatterplot function:"
   ]
  },
  {
   "cell_type": "code",
   "execution_count": 242,
   "metadata": {},
   "outputs": [
    {
     "data": {
      "image/png": "[encoded data removed]",
      "text/plain": [
       "<matplotlib.figure.Figure at 0x11dc66f28>"
      ]
     },
     "metadata": {},
     "output_type": "display_data"
    }
   ],
   "source": [
    "# Just playing around with some colors - these are \"Tableau\" colors as RGB codes\n",
    "tableau20 = [(31, 119, 180), (174, 199, 232), (255, 127, 14), (255, 187, 120),\n",
    "             (44, 160, 44), (152, 223, 138), (214, 39, 40), (255, 152, 150),\n",
    "             (148, 103, 189), (197, 176, 213), (140, 86, 75), (196, 156, 148),\n",
    "             (227, 119, 194), (247, 182, 210), (127, 127, 127), (199, 199, 199),\n",
    "             (188, 189, 34), (219, 219, 141), (23, 190, 207), (158, 218, 229)]\n",
    "# Scale the RGB values to the [0, 1] range, which is the format matplotlib accepts.\n",
    "for i in range(len(tableau20)):\n",
    "    r, g, b = tableau20[i]\n",
    "    tableau20[i] = (r / 255., g / 255., b / 255.)\n",
    "\n",
    "from pandas.plotting import scatter_matrix\n",
    "housingDataPD = pd.DataFrame(X_train, columns=data.feature_names)\n",
    "myScatterplot = pd.plotting.scatter_matrix(housingDataPD, \n",
    "                                           figsize=(10,10), \n",
    "                                           c=tableau20[8], \n",
    "                                           alpha=0.75)\n",
    "plt.show()"
   ]
  },
  {
   "cell_type": "markdown",
   "metadata": {},
   "source": [
    "Looks like AveBedrms and AveRooms are strongly correlated - lets look a little bit into this, by plotting them by them selves and finding a more trusworthy indicator of correlation, that just eyesight - the pearson correlation coefficient:"
   ]
  },
  {
   "cell_type": "code",
   "execution_count": 134,
   "metadata": {},
   "outputs": [
    {
     "data": {
      "image/png": "[encoded data removed]",
      "text/plain": [
       "<matplotlib.figure.Figure at 0x1155e0278>"
      ]
     },
     "metadata": {},
     "output_type": "display_data"
    },
    {
     "name": "stdout",
     "output_type": "stream",
     "text": [
      "Correlation coefficient (pearsons): 0.8552026590798474 \n"
     ]
    }
   ],
   "source": [
    "import numpy\n",
    "plot = housingDataPD.plot(x='AveBedrms', y='AveRooms', style='o')\n",
    "plot.plot()\n",
    "plt.show()\n",
    "\n",
    "correlation = housingDataPD['AveBedrms'].corr(housingDataPD['AveRooms'])\n",
    "print(\"Correlation coefficient (pearsons): {} \".format(correlation))"
   ]
  },
  {
   "cell_type": "markdown",
   "metadata": {},
   "source": [
    "Actually, it does look like these two variables are correlated, and we should look deeper into wether or not this affects the performance of the model. Howeever, we will let that be for now, because we will revisit the issue in just a moment."
   ]
  },
  {
   "cell_type": "markdown",
   "metadata": {},
   "source": [
    "### Naive Bayes\n",
    "\n",
    "* Classify the instances in the test set using the naive Bayes model.\n",
    "* The naive Bayes classifier makes the strong assumption that the attributes are conditionally independent given the class variable. Can you identify any pairs of attributes that do not adhere to this assumption, and how does it affect the performance of the classifier if one of the attributes are removed?"
   ]
  },
  {
   "cell_type": "markdown",
   "metadata": {},
   "source": [
    "Lets train the mode and see how good an accuracy we will get"
   ]
  },
  {
   "cell_type": "code",
   "execution_count": 135,
   "metadata": {},
   "outputs": [
    {
     "name": "stdout",
     "output_type": "stream",
     "text": [
      "Accuracy score: 0.743798449612403\n"
     ]
    }
   ],
   "source": [
    "# Classifying using the Naive Bayes\n",
    "from sklearn.naive_bayes import GaussianNB\n",
    "nb = GaussianNB()\n",
    "nb.fit(X_train, c_train)\n",
    "print(\"Accuracy score: {}\".format(nb.score(X_test, c_test)))"
   ]
  },
  {
   "cell_type": "markdown",
   "metadata": {},
   "source": [
    "It looks like the Naive Bayes algorithm performs worse than the KNN with scaled input, getting a accuracy of .74<br>\n",
    "Now, back to the correlation issue:"
   ]
  },
  {
   "cell_type": "code",
   "execution_count": 282,
   "metadata": {},
   "outputs": [
    {
     "data": {
      "text/html": [
       "<div>\n",
       "<style scoped>\n",
       "    .dataframe tbody tr th:only-of-type {\n",
       "        vertical-align: middle;\n",
       "    }\n",
       "\n",
       "    .dataframe tbody tr th {\n",
       "        vertical-align: top;\n",
       "    }\n",
       "\n",
       "    .dataframe thead th {\n",
       "        text-align: right;\n",
       "    }\n",
       "</style>\n",
       "<table border=\"1\" class=\"dataframe\">\n",
       "  <thead>\n",
       "    <tr style=\"text-align: right;\">\n",
       "      <th></th>\n",
       "      <th>MedInc</th>\n",
       "      <th>HouseAge</th>\n",
       "      <th>AveRooms</th>\n",
       "      <th>AveBedrms</th>\n",
       "      <th>Population</th>\n",
       "      <th>AveOccup</th>\n",
       "      <th>Latitude</th>\n",
       "      <th>Longitude</th>\n",
       "    </tr>\n",
       "  </thead>\n",
       "  <tbody>\n",
       "    <tr>\n",
       "      <th>MedInc</th>\n",
       "      <td>1.000000</td>\n",
       "      <td>0.121218</td>\n",
       "      <td>0.318344</td>\n",
       "      <td>0.060920</td>\n",
       "      <td>0.007218</td>\n",
       "      <td>0.001713</td>\n",
       "      <td>0.085855</td>\n",
       "      <td>0.010443</td>\n",
       "    </tr>\n",
       "    <tr>\n",
       "      <th>HouseAge</th>\n",
       "      <td>0.121218</td>\n",
       "      <td>1.000000</td>\n",
       "      <td>0.145134</td>\n",
       "      <td>0.069198</td>\n",
       "      <td>0.298695</td>\n",
       "      <td>0.012809</td>\n",
       "      <td>0.017404</td>\n",
       "      <td>0.113763</td>\n",
       "    </tr>\n",
       "    <tr>\n",
       "      <th>AveRooms</th>\n",
       "      <td>0.318344</td>\n",
       "      <td>0.145134</td>\n",
       "      <td>1.000000</td>\n",
       "      <td>0.855203</td>\n",
       "      <td>0.067163</td>\n",
       "      <td>0.003653</td>\n",
       "      <td>0.097989</td>\n",
       "      <td>0.021817</td>\n",
       "    </tr>\n",
       "    <tr>\n",
       "      <th>AveBedrms</th>\n",
       "      <td>0.060920</td>\n",
       "      <td>0.069198</td>\n",
       "      <td>0.855203</td>\n",
       "      <td>1.000000</td>\n",
       "      <td>0.060250</td>\n",
       "      <td>0.003184</td>\n",
       "      <td>0.065765</td>\n",
       "      <td>0.013538</td>\n",
       "    </tr>\n",
       "    <tr>\n",
       "      <th>Population</th>\n",
       "      <td>0.007218</td>\n",
       "      <td>0.298695</td>\n",
       "      <td>0.067163</td>\n",
       "      <td>0.060250</td>\n",
       "      <td>1.000000</td>\n",
       "      <td>0.073333</td>\n",
       "      <td>0.116536</td>\n",
       "      <td>0.106268</td>\n",
       "    </tr>\n",
       "    <tr>\n",
       "      <th>AveOccup</th>\n",
       "      <td>0.001713</td>\n",
       "      <td>0.012809</td>\n",
       "      <td>0.003653</td>\n",
       "      <td>0.003184</td>\n",
       "      <td>0.073333</td>\n",
       "      <td>1.000000</td>\n",
       "      <td>0.004018</td>\n",
       "      <td>0.013045</td>\n",
       "    </tr>\n",
       "    <tr>\n",
       "      <th>Latitude</th>\n",
       "      <td>0.085855</td>\n",
       "      <td>0.017404</td>\n",
       "      <td>0.097989</td>\n",
       "      <td>0.065765</td>\n",
       "      <td>0.116536</td>\n",
       "      <td>0.004018</td>\n",
       "      <td>1.000000</td>\n",
       "      <td>0.925081</td>\n",
       "    </tr>\n",
       "    <tr>\n",
       "      <th>Longitude</th>\n",
       "      <td>0.010443</td>\n",
       "      <td>0.113763</td>\n",
       "      <td>0.021817</td>\n",
       "      <td>0.013538</td>\n",
       "      <td>0.106268</td>\n",
       "      <td>0.013045</td>\n",
       "      <td>0.925081</td>\n",
       "      <td>1.000000</td>\n",
       "    </tr>\n",
       "  </tbody>\n",
       "</table>\n",
       "</div>"
      ],
      "text/plain": [
       "              MedInc  HouseAge  AveRooms  AveBedrms  Population  AveOccup  \\\n",
       "MedInc      1.000000  0.121218  0.318344   0.060920    0.007218  0.001713   \n",
       "HouseAge    0.121218  1.000000  0.145134   0.069198    0.298695  0.012809   \n",
       "AveRooms    0.318344  0.145134  1.000000   0.855203    0.067163  0.003653   \n",
       "AveBedrms   0.060920  0.069198  0.855203   1.000000    0.060250  0.003184   \n",
       "Population  0.007218  0.298695  0.067163   0.060250    1.000000  0.073333   \n",
       "AveOccup    0.001713  0.012809  0.003653   0.003184    0.073333  1.000000   \n",
       "Latitude    0.085855  0.017404  0.097989   0.065765    0.116536  0.004018   \n",
       "Longitude   0.010443  0.113763  0.021817   0.013538    0.106268  0.013045   \n",
       "\n",
       "            Latitude  Longitude  \n",
       "MedInc      0.085855   0.010443  \n",
       "HouseAge    0.017404   0.113763  \n",
       "AveRooms    0.097989   0.021817  \n",
       "AveBedrms   0.065765   0.013538  \n",
       "Population  0.116536   0.106268  \n",
       "AveOccup    0.004018   0.013045  \n",
       "Latitude    1.000000   0.925081  \n",
       "Longitude   0.925081   1.000000  "
      ]
     },
     "execution_count": 282,
     "metadata": {},
     "output_type": "execute_result"
    }
   ],
   "source": [
    "#Lets check the correlation between features in the dataset\n",
    "housingDataPD.corr().abs()"
   ]
  },
  {
   "cell_type": "markdown",
   "metadata": {},
   "source": [
    "Looking at the above correlation matrix, we can see, that AveRooms and AveBedrooms are relativly strongly correlated (corr.coef = 0.86). However, a matrix of numbers is not that friendly to look at, so lets turn this into a heatmap and look for relationships in the darker colors, which indicates correlations coefficients close to 1 or minus 1. Since we don´t care if the coefficient is positive or negative in this case, lets look at absolute values only and cut away one side of the heatmap."
   ]
  },
  {
   "cell_type": "code",
   "execution_count": 244,
   "metadata": {},
   "outputs": [
    {
     "data": {
      "image/png": "[encoded data removed]",
      "text/plain": [
       "<matplotlib.figure.Figure at 0x1167b5e80>"
      ]
     },
     "metadata": {},
     "output_type": "display_data"
    }
   ],
   "source": [
    "import numpy as np; np.random.seed(0)\n",
    "import seaborn as sns; sns.set()\n",
    "# Set the mask to turn the top side into white\n",
    "mask = np.zeros_like(housingDataPD.corr())\n",
    "mask[np.triu_indices_from(mask)] = True\n",
    "# Plot the heatmap\n",
    "with sns.axes_style(\"white\"):\n",
    "    ax = sns.heatmap(housingDataPD.corr().abs(), \n",
    "                     mask=mask, \n",
    "                     vmin=0, \n",
    "                     vmax=1, \n",
    "                     center = 0, \n",
    "                     cmap=\"YlGnBu\")\n",
    "    \n",
    "    ax.set_title('Correlation coefficients btw. all features')\n",
    "plt.show()\n",
    "    \n",
    "    "
   ]
  },
  {
   "cell_type": "markdown",
   "metadata": {},
   "source": [
    "It looks like there are two pairs of variables, that are closely correlated:\n",
    "Longitude/lattitude and AveRooms/AveBedrooms. The first relationship must mean, that the housing area must have a shape that is somewhat diagonal to parallels and meridians. Lets just plot them against eachother:"
   ]
  },
  {
   "cell_type": "code",
   "execution_count": 245,
   "metadata": {},
   "outputs": [
    {
     "data": {
      "image/png": "[encoded data removed]",
      "text/plain": [
       "<matplotlib.figure.Figure at 0x11d996438>"
      ]
     },
     "metadata": {},
     "output_type": "display_data"
    }
   ],
   "source": [
    "housingDataPD.plot(kind=\"scatter\", \n",
    "                   x=\"Longitude\", \n",
    "                   y=\"Latitude\", \n",
    "                   alpha=0.4, \n",
    "                   figsize=(10,7),)\n",
    "\n",
    "plt.legend()\n",
    "plt.show()\n"
   ]
  },
  {
   "cell_type": "markdown",
   "metadata": {},
   "source": [
    "Actually, if you think about it, this dataset describes housing in California, and if you look at a map of the USA, you will find, that California actually has this exact shape across the lines (lat/long)<br><br>\n",
    "Since the Naive Bayes model asumes independent variables, lets remove one of the variables in the two identified pairs (Latitude and AveBedrms) and see, if this has any impact on model performance:"
   ]
  },
  {
   "cell_type": "code",
   "execution_count": 246,
   "metadata": {},
   "outputs": [
    {
     "data": {
      "text/html": [
       "<div>\n",
       "<style scoped>\n",
       "    .dataframe tbody tr th:only-of-type {\n",
       "        vertical-align: middle;\n",
       "    }\n",
       "\n",
       "    .dataframe tbody tr th {\n",
       "        vertical-align: top;\n",
       "    }\n",
       "\n",
       "    .dataframe thead th {\n",
       "        text-align: right;\n",
       "    }\n",
       "</style>\n",
       "<table border=\"1\" class=\"dataframe\">\n",
       "  <thead>\n",
       "    <tr style=\"text-align: right;\">\n",
       "      <th></th>\n",
       "      <th>MedInc</th>\n",
       "      <th>HouseAge</th>\n",
       "      <th>AveRooms</th>\n",
       "      <th>Population</th>\n",
       "      <th>AveOccup</th>\n",
       "      <th>Longitude</th>\n",
       "    </tr>\n",
       "  </thead>\n",
       "  <tbody>\n",
       "    <tr>\n",
       "      <th>0</th>\n",
       "      <td>7.3003</td>\n",
       "      <td>19.0</td>\n",
       "      <td>7.961600</td>\n",
       "      <td>1926.0</td>\n",
       "      <td>3.081600</td>\n",
       "      <td>-122.68</td>\n",
       "    </tr>\n",
       "    <tr>\n",
       "      <th>1</th>\n",
       "      <td>5.9547</td>\n",
       "      <td>18.0</td>\n",
       "      <td>6.547325</td>\n",
       "      <td>547.0</td>\n",
       "      <td>2.251029</td>\n",
       "      <td>-117.24</td>\n",
       "    </tr>\n",
       "    <tr>\n",
       "      <th>2</th>\n",
       "      <td>3.2125</td>\n",
       "      <td>19.0</td>\n",
       "      <td>5.207547</td>\n",
       "      <td>314.0</td>\n",
       "      <td>2.962264</td>\n",
       "      <td>-118.27</td>\n",
       "    </tr>\n",
       "    <tr>\n",
       "      <th>3</th>\n",
       "      <td>6.9930</td>\n",
       "      <td>13.0</td>\n",
       "      <td>6.428571</td>\n",
       "      <td>120.0</td>\n",
       "      <td>2.857143</td>\n",
       "      <td>-117.18</td>\n",
       "    </tr>\n",
       "  </tbody>\n",
       "</table>\n",
       "</div>"
      ],
      "text/plain": [
       "   MedInc  HouseAge  AveRooms  Population  AveOccup  Longitude\n",
       "0  7.3003      19.0  7.961600      1926.0  3.081600    -122.68\n",
       "1  5.9547      18.0  6.547325       547.0  2.251029    -117.24\n",
       "2  3.2125      19.0  5.207547       314.0  2.962264    -118.27\n",
       "3  6.9930      13.0  6.428571       120.0  2.857143    -117.18"
      ]
     },
     "execution_count": 246,
     "metadata": {},
     "output_type": "execute_result"
    }
   ],
   "source": [
    "housingDataPDNew = housingDataPD.drop(['Latitude','AveBedrms'],axis=1)\n",
    "# Printing out the dataset to see the new \"shape\"\n",
    "housingDataPDNew[:4]\n"
   ]
  },
  {
   "cell_type": "code",
   "execution_count": 143,
   "metadata": {},
   "outputs": [
    {
     "name": "stdout",
     "output_type": "stream",
     "text": [
      "Accuracy score before removal: 0.743798449612403\n",
      "Accuracy score after removal : 0.7483850129198967\n"
     ]
    }
   ],
   "source": [
    "# Fitting from the new \"slimmer\" dataset\n",
    "nbNew=GaussianNB().fit(housingDataPDNew, c_train)\n",
    "print(\"Accuracy score before removal: {}\".format(nb.score(X_test,c_test)))\n",
    "print(\"Accuracy score after removal : {}\".format(nbNew.score(housingDataPDNew,c_train)))\n"
   ]
  },
  {
   "cell_type": "markdown",
   "metadata": {},
   "source": [
    "As seen above, it doesn´t make that much difference, but in fact the model performance did improve a little bit. \n",
    "0.7437->.7483\n"
   ]
  },
  {
   "cell_type": "markdown",
   "metadata": {},
   "source": [
    "### Model comparison\n",
    "\n",
    "* Using the results obtained above, classify the instances in the test set using the k-NN classifier, the naive Bayes classifier, and decision trees.\n",
    "* Based on your intuitive understanding of the classifiers, can you explain their relative performance? "
   ]
  },
  {
   "cell_type": "markdown",
   "metadata": {},
   "source": [
    "So, we already classified the instances in the test-set using the kNN and the Bayes. Let´s try searching for a decision tree:"
   ]
  },
  {
   "cell_type": "code",
   "execution_count": 144,
   "metadata": {},
   "outputs": [
    {
     "data": {
      "text/plain": [
       "GridSearchCV(cv=None, error_score='raise',\n",
       "       estimator=DecisionTreeClassifier(class_weight=None, criterion='gini', max_depth=None,\n",
       "            max_features=None, max_leaf_nodes=None,\n",
       "            min_impurity_decrease=0.0, min_impurity_split=None,\n",
       "            min_samples_leaf=1, min_samples_split=2,\n",
       "            min_weight_fraction_leaf=0.0, presort=False, random_state=None,\n",
       "            splitter='best'),\n",
       "       fit_params=None, iid=True, n_jobs=1,\n",
       "       param_grid={'min_samples_split': [2, 3, 4, 5, 6, 7, 8, 9, 10, 11, 12, 13, 14, 15, 16, 17, 18, 19, 20, 21, 22, 23, 24, 25, 26, 27, 28, 29, 30, 31, 32, 33, 34, 35, 36, 37, 38, 39, 40, 41, 42, 43, 44, 45, 46, 47, 48, 49], 'max_depth': [1, 2, 3, 4, 5, 6, 7, 8, 9], 'min_samples_leaf': [1, 2, 3, 4, 5, 6, 7, 8, 9, 10, 11, 12, 13, 14, 15, 16, 17, 18, 19, 20, 21, 22, 23, 24, 25, 26, 27, 28, 29, 30, 31, 32, 33, 34, 35, 36, 37, 38, 39, 40, 41, 42, 43, 44, 45, 46, 47, 48, 49]},\n",
       "       pre_dispatch='2*n_jobs', refit=True, return_train_score='warn',\n",
       "       scoring=None, verbose=0)"
      ]
     },
     "execution_count": 144,
     "metadata": {},
     "output_type": "execute_result"
    }
   ],
   "source": [
    "from sklearn.tree import DecisionTreeClassifier\n",
    "params = {'min_samples_split':list(range(2,50)), \n",
    "          'max_depth': list(range(1,10)), \n",
    "          'min_samples_leaf':list(range(1,50))}\n",
    "gsTree=GridSearchCV(DecisionTreeClassifier(),params)\n",
    "gsTree.fit(X_train, c_train)"
   ]
  },
  {
   "cell_type": "code",
   "execution_count": 247,
   "metadata": {},
   "outputs": [
    {
     "name": "stdout",
     "output_type": "stream",
     "text": [
      "Accuracy score KNN          : 0.8271317829457364 \n",
      "Accuracy score NB           : 0.7483850129198967\n",
      "Accuracy score DecisionTree : 0.8810723514211887\n"
     ]
    }
   ],
   "source": [
    "print(\"Accuracy score KNN          : {} \".format(gs.score(X_test_scaled, c_test))) \n",
    "print(\"Accuracy score NB           : {}\".format(nbNew.score(housingDataPDNew, c_train)))\n",
    "print(\"Accuracy score DecisionTree : {}\".format(gsTree.score(X_train, c_train)))"
   ]
  },
  {
   "cell_type": "markdown",
   "metadata": {},
   "source": [
    "### Comparing the three algorithms for this particular problem: <br>\n",
    "#### K Nearest Neighbor\n",
    "The K-Nearest Neighbor classifier does what it sais on the box - it classifies a unknown instance on the basis of the closest neighbors in the multi dimensional space. That also means, that all variables have the same weight in the classification (provided that features are scaled), eg. location is just as important as the age of the housing. This is contracdictory to the common \"Location, location, location\" saying, which basically means, that location is the most important factor for price. <br><br> Lets play around with this saying for a moment. Lets try eliminating all other predictive variables than location (lat/long) and see if this can improve the KNN model - lets only look at the real-life \"nearest neighbors\" :-)\n",
    "\n",
    "Scaling should probably be used, since lat and long are not on the same scale.\n"
   ]
  },
  {
   "cell_type": "code",
   "execution_count": 354,
   "metadata": {},
   "outputs": [
    {
     "name": "stdout",
     "output_type": "stream",
     "text": [
      "Accuracy on test set: 0.8893410852713178 \n"
     ]
    }
   ],
   "source": [
    "housingDataJustLatitudeLongitude = housingDataPD[['Latitude','Longitude']]\n",
    "\n",
    "# Printing out the dataset to see the new \"shape\"\n",
    "housingDataJustLatitudeLongitude[:4]\n",
    "X_test_lat_long = X_test[:,[data.feature_names.index('Latitude'),\n",
    "                            data.feature_names.index('Longitude')]]\n",
    "\n",
    "params = {'n_neighbors':list(range(2,11))}\n",
    "gs=GridSearchCV(KNeighborsClassifier(),params)\n",
    "gs.fit(housingDataJustLatitudeLongitude, c_train)\n",
    "\n",
    "print(\"Accuracy on test set: {} \".format(gs.score(X_test_lat_long, c_test))) "
   ]
  },
  {
   "cell_type": "markdown",
   "metadata": {},
   "source": [
    "This increases the performance dramatically, and underlines the fact, that variables without real predictive power actually just becomes noise in the algorithm<br>\n",
    "#### (Gaussian) Naive Bayes \n",
    "So, the KNN just beat all other algorithms when isolating the location variables. Funny enough, we tried removing one of these variables when playing around with the NB algorithm. We did that, because they seemed to be very strictly co-related, and it did help the result a little bit. With the hypothesis of \"location, location, location\" it seems strange, that it improved the result, since the \"problem\" with using co-related variables in the NB algorithm is, that too much weight would be put on the \"location\" variable. However, it seems, that another fact comes into play here, and that is the assumption of \"normal\" (or \"Gaussian\") distributed variables. Lets take a closer look at the variable distributions:"
   ]
  },
  {
   "cell_type": "code",
   "execution_count": 348,
   "metadata": {},
   "outputs": [
    {
     "data": {
      "image/png": "[encoded data removed]",
      "text/plain": [
       "<matplotlib.figure.Figure at 0x130e68c88>"
      ]
     },
     "metadata": {},
     "output_type": "display_data"
    }
   ],
   "source": [
    "import pandas as pd\n",
    "import numpy as np\n",
    "import matplotlib.pyplot as plt\n",
    "%matplotlib inline  \n",
    "\n",
    "def draw_histograms(df, variables, n_rows, n_cols):\n",
    "    fig=plt.figure()\n",
    "    for i, var_name in enumerate(variables):\n",
    "        ax=fig.add_subplot(n_rows,n_cols,i+1)\n",
    "        df[var_name].hist(bins=100,ax=ax)\n",
    "        ax.set_title(var_name+\" Distribution\")\n",
    "    fig.tight_layout()  # Improves appearance a bit.\n",
    "    plt.show()\n",
    "\n",
    "draw_histograms(housingDataPD, data.feature_names, 3, 3)"
   ]
  },
  {
   "cell_type": "markdown",
   "metadata": {},
   "source": [
    "As seen from the above illustration, several of the variables seem to have other distributions, which might throw the algorithm off. This might be one of the reasons why we do not obtain greater accuracy using the Naive Bayes approach"
   ]
  },
  {
   "cell_type": "markdown",
   "metadata": {},
   "source": [
    "### Decision tree\n",
    "The decision tree was quite close to the KNN (with only lat/long features), so could it be, that the tree actually also found the most important features for predicting housing prices to be lat/long ? Lets see:"
   ]
  },
  {
   "cell_type": "code",
   "execution_count": 149,
   "metadata": {},
   "outputs": [
    {
     "data": {
      "image/png": "[encoded data removed]",
      "text/plain": [
       "<matplotlib.figure.Figure at 0x11790ca20>"
      ]
     },
     "metadata": {},
     "output_type": "display_data"
    }
   ],
   "source": [
    "tree5=DecisionTreeClassifier(**gsTree.best_params_).fit(X_train, c_train)\n",
    "important_features_dict = {}\n",
    "for x,i in enumerate(tree5.feature_importances_):\n",
    "    important_features_dict[data.feature_names[x]]=i\n",
    "\n",
    "plt.bar(range(len(important_features_dict)), \n",
    "        list(important_features_dict.values()), \n",
    "        align='center', color='red')\n",
    "\n",
    "plt.xticks(range(len(important_features_dict)), \n",
    "           list(important_features_dict.keys()), \n",
    "           rotation='vertical')\n",
    "plt.show()"
   ]
  },
  {
   "cell_type": "markdown",
   "metadata": {},
   "source": [
    "No, actually it finds, that the \"Median Income\" is the most important one. It seems, that feature selection methods could come in handy here. Now, we could go back to the KNN and feed it a dataset with only the most important variables from the decision tree, but that would bring us into \"feature selection\", which is out-of-scope for this exercise."
   ]
  },
  {
   "cell_type": "markdown",
   "metadata": {},
   "source": [
    "# Exercise Sheet 3"
   ]
  },
  {
   "cell_type": "markdown",
   "metadata": {},
   "source": [
    "In this exercise we perform character recognition using SVM and NN classifiers. We use the MNIST dataset, which consists of 70000 handwritten digits 0..9 at a resolution of 28x28 pixels. \n",
    "\n",
    "Stuff we need:"
   ]
  },
  {
   "cell_type": "code",
   "execution_count": 152,
   "metadata": {},
   "outputs": [],
   "source": [
    "import matplotlib.pyplot as plt\n",
    "import numpy as np\n",
    "import time\n",
    "from sklearn.neural_network import MLPClassifier\n",
    "from sklearn.svm import SVC\n",
    "from sklearn.model_selection import train_test_split\n",
    "from sklearn.metrics import confusion_matrix,accuracy_score"
   ]
  },
  {
   "cell_type": "markdown",
   "metadata": {},
   "source": [
    "Now we get the MNIST data. Using the fetch_mldata function, this will be downloaded from the web, and stored in the directory you specify as data_home (replace my path in the following cell):"
   ]
  },
  {
   "cell_type": "code",
   "execution_count": 321,
   "metadata": {},
   "outputs": [],
   "source": [
    "from sklearn.datasets import fetch_mldata\n",
    "mnist = fetch_mldata('MNIST original', data_home='./Data/mnist')"
   ]
  },
  {
   "cell_type": "markdown",
   "metadata": {},
   "source": [
    "The data has .data and .target attributes. The following gives us some basic information on the data:"
   ]
  },
  {
   "cell_type": "code",
   "execution_count": 154,
   "metadata": {},
   "outputs": [
    {
     "name": "stdout",
     "output_type": "stream",
     "text": [
      "Number of datapoints: 70000\n",
      "\n",
      "Number of features: 784\n",
      "\n",
      "List of labels: [ 0.  1.  2.  3.  4.  5.  6.  7.  8.  9.]\n",
      "\n"
     ]
    }
   ],
   "source": [
    "print(\"Number of datapoints: {}\\n\".format(mnist.data.shape[0]))\n",
    "print(\"Number of features: {}\\n\".format(mnist.data.shape[1]))\n",
    "print(\"List of labels: {}\\n\".format(np.unique(mnist.target)))"
   ]
  },
  {
   "cell_type": "markdown",
   "metadata": {},
   "source": [
    "We can plot individual datapoints as follows:"
   ]
  },
  {
   "cell_type": "code",
   "execution_count": 155,
   "metadata": {},
   "outputs": [
    {
     "name": "stdout",
     "output_type": "stream",
     "text": [
      "Value of datapoint no. 4:\n",
      "[  0   0   0   0   0   0   0   0   0   0   0   0   0   0   0   0   0   0\n",
      "   0   0   0   0   0   0   0   0   0   0   0   0   0   0   0   0   0   0\n",
      "   0   0   0   0   0   0   0   0   0   0   0   0   0   0   0   0   0   0\n",
      "   0   0   0   0   0   0   0   0   0   0   0   0   0   0   0   0   0   0\n",
      "   0   0   0   0   0   0   0   0   0   0   0   0   0   0   0   0   0   0\n",
      "   0   0   0   0   0   0   0   0   0   0   0   0   0   0   0   0   0   0\n",
      "   0   0   0   0   0   0   0   0   0   0   0   0   0   0   0   0   0   0\n",
      "   0   0   0   0   0   0   0   0   0   0   0   0   0   0   0   0   0   0\n",
      "   0   0   0   0   0   0   0   0   0  46 105 254 254 254 254 255 239  41\n",
      "   0   0   0   0   0   0   0   0   0   0   0   0   0   0   0   0   0  37\n",
      " 118 222 254 253 253 253 253 253 253 211  54   0   0   0   0   0   0   0\n",
      "   0   0   0   0   0   0   0   0  14 200 253 253 254 253 253 253 253 253\n",
      " 253 253 116   0   0   0   0   0   0   0   0   0   0   0   0   0  16 160\n",
      " 236 253 253 253 254 253 253 246 229 253 253 253 116   0   0   0   0   0\n",
      "   0   0   0   0   0   0   0   0  99 253 253 253 253 253 254 253 253 213\n",
      "  99 253 253 253 116   0   0   0   0   0   0   0   0   0   0   0   0  25\n",
      " 194 253 253 253 253 131  97 169 253  93  99 253 253 253 116   0   0   0\n",
      "   0   0   0   0   0   0   0   0   0 206 253 253 251 233 127   9   0  18\n",
      "  38   3  15 171 253 253 116   0   0   0   0   0   0   0   0   0   0   0\n",
      "  55 240 253 253 233   0   0   0   0   0   0   0  31 186 253 253 116   0\n",
      "   0   0   0   0   0   0   0   0   0   0 176 253 253 253 127   0   0   0\n",
      "   0   0   0   0  99 253 253 253 116   0   0   0   0   0   0   0   0   0\n",
      "   0   0 176 253 253 131   9   0   0   0   0   0   0   0  99 253 253 253\n",
      " 116   0   0   0   0   0   0   0   0   0   0 119 254 254 232  75   0   0\n",
      "   0   0   0   0   0   0   0 158 254 254 117   0   0   0   0   0   0   0\n",
      "   0   0   0 118 253 253 154   0   0   0   0   0   0   0   0   0   0 156\n",
      " 253 253 116   0   0   0   0   0   0   0   0   0   0 118 253 253 154   0\n",
      "   0   0   0   0   0   0   0   0   0 156 253 253 116   0   0   0   0   0\n",
      "   0   0   0   0  46 222 253 253 154   0   0   0   0   0   0   0   0   7\n",
      " 116 246 253 180   9   0   0   0   0   0   0   0   0   0   0 118 253 253\n",
      " 154   0   0   0   0   0   0   0   0 116 253 253 253 174   0   0   0   0\n",
      "   0   0   0   0   0   0   0 118 253 253 154   0   0   0   0   0   0   0\n",
      " 110 246 253 253 240  67   0   0   0   0   0   0   0   0   0   0   0 118\n",
      " 253 253 238 215  49  20  20  20  66 215 241 253 245 233  64   0   0   0\n",
      "   0   0   0   0   0   0   0   0   0  82 229 253 253 253 253 253 253 253\n",
      " 254 253 253 240 107   0   0   0   0   0   0   0   0   0   0   0   0   0\n",
      "   0   0 176 253 253 253 253 253 253 253 254 253 253 108   0   0   0   0\n",
      "   0   0   0   0   0   0   0   0   0   0   0   0  40 239 253 253 253 253\n",
      " 253 253 254 161  57   4   0   0   0   0   0   0   0   0   0   0   0   0\n",
      "   0   0   0   0   0   0   0   0   0   0   0   0   0   0   0   0   0   0\n",
      "   0   0   0   0   0   0   0   0   0   0   0   0   0   0   0   0   0   0\n",
      "   0   0   0   0   0   0   0   0   0   0   0   0   0   0   0   0   0   0\n",
      "   0   0   0   0   0   0   0   0   0   0   0   0   0   0   0   0   0   0\n",
      "   0   0   0   0   0   0   0   0   0   0]\n",
      "\n",
      "As image:\n",
      "\n"
     ]
    },
    {
     "data": {
      "image/png": "[encoded data removed]",
      "text/plain": [
       "<matplotlib.figure.Figure at 0x11728ea90>"
      ]
     },
     "metadata": {},
     "output_type": "display_data"
    }
   ],
   "source": [
    "index = 4\n",
    "print(\"Value of datapoint no. {}:\\n{}\\n\".format(index,mnist.data[index]))\n",
    "print(\"As image:\\n\")\n",
    "plt.imshow(mnist.data[index].reshape(28,28),cmap=plt.cm.gray_r)\n",
    "plt.show()"
   ]
  },
  {
   "cell_type": "markdown",
   "metadata": {},
   "source": [
    "To make things a little bit simpler (and faster!), we can extract from the data binary subsets, that only contain the data for two selected digits:"
   ]
  },
  {
   "cell_type": "code",
   "execution_count": 156,
   "metadata": {},
   "outputs": [
    {
     "name": "stdout",
     "output_type": "stream",
     "text": [
      "The first datapoint now is: \n",
      "\n"
     ]
    },
    {
     "data": {
      "image/png": "[encoded data removed]",
      "text/plain": [
       "<matplotlib.figure.Figure at 0x113d8d8d0>"
      ]
     },
     "metadata": {},
     "output_type": "display_data"
    },
    {
     "name": "stdout",
     "output_type": "stream",
     "text": [
      "[ 3.  3.  3. ...,  7.  7.  7.]\n"
     ]
    }
   ],
   "source": [
    "digit0=3\n",
    "digit1=7\n",
    "mnist_bin_data=mnist.data[np.logical_or(mnist.target==digit0,\n",
    "                                        mnist.target==digit1)]\n",
    "\n",
    "mnist_bin_target=mnist.target[np.logical_or(mnist.target==digit0,\n",
    "                                            mnist.target==digit1)]\n",
    "\n",
    "print(\"The first datapoint now is: \\n\")\n",
    "plt.imshow(mnist_bin_data[0].reshape(28,28),cmap=plt.cm.gray_r)\n",
    "plt.show()\n",
    "print(mnist_bin_target)"
   ]
  },
  {
   "cell_type": "markdown",
   "metadata": {},
   "source": [
    "**Exercise 1:** Split the mnist_bin data into training and test set. Learn different SVM and NN models by varying the kernel functions (SVM), the network structure (NN), and the solver (NN). For each configuration, determine the time it takes to learn the model, and the accuracy on the test data. *Caution*: for some configurations, learning here can take a little while (several minutes).\n",
    "<br>Ok\n",
    "\n",
    "Using the numpy where() function, one can extract the indices of the test cases that were misclassified: <br>\n",
    "`misclass = np.where(test != predictions)` <br>\n",
    "Inspect some misclassified cases. Do they correspond to hard to recognize digits (also for the human reader)? \n",
    "\n",
    "How do results (time and accuracy) change, depending on whether you consider an 'easy' binary task (e.g., distinguishing '1' and '0'), or a more difficult one (e.g., '4' vs. '5'). \n",
    "\n",
    "Identify one or several good configurations that give a reasonable combination of accuracy and runtime. Use these configurations to perform a full classification of the 10 classes in the original dataset (after split into train/test). Using `sklearn.metrics.confusion_matrix` you can get an overview of all combinations of true and predicted labels (see p. 298-299 in Müller & Guido). What does this tell you about which digits are easy, and which ones are difficult to recognize, and which ones are most easily confused?"
   ]
  },
  {
   "cell_type": "code",
   "execution_count": 157,
   "metadata": {},
   "outputs": [
    {
     "name": "stdout",
     "output_type": "stream",
     "text": [
      "Train data (instances/features): (10825, 784)\n",
      "Test data  (instances/features): (3609, 784)\n"
     ]
    }
   ],
   "source": [
    "    X_train, X_test, c_train, c_test = train_test_split(mnist_bin_data, \n",
    "                                                        mnist_bin_target, \n",
    "                                                        random_state=0)\n",
    "    \n",
    "    print(\"Train data (instances/features): \"+str(X_train.shape))\n",
    "    print(\"Test data  (instances/features): \"+str(X_test.shape))"
   ]
  },
  {
   "cell_type": "markdown",
   "metadata": {},
   "source": [
    "### SVM \n",
    "First, lets try finding a good SVM on this problem. We will try out different kernel-functions (more on that later) and see how they affect learning times."
   ]
  },
  {
   "cell_type": "code",
   "execution_count": 11,
   "metadata": {},
   "outputs": [
    {
     "name": "stdout",
     "output_type": "stream",
     "text": [
      "Done: linear in 0 seconds with accuracy: 0.998376184032\n",
      "Done: rbf in 277 seconds with accuracy: 0.537753721245\n",
      "Done: poly in 1 seconds with accuracy: 0.997834912043\n",
      "Done: sigmoid in 43278 seconds with accuracy: 0.537753721245\n"
     ]
    }
   ],
   "source": [
    "import datetime\n",
    "from collections import defaultdict\n",
    "# We will implement this as a function taking training and test data \n",
    "# as arguments because we will used again later\n",
    "# This function tries four different kernels and prints out trainingtime \n",
    "# and accuracy for each\n",
    "def trySVMs(Xtrain, ctrain, Xtest, ctest):\n",
    "    processTimes = defaultdict(list)\n",
    "    processTimes={'linear':[], 'rbf':[], 'poly':[], 'sigmoid':[]}\n",
    "    for k in ['linear', 'rbf','poly','sigmoid']:\n",
    "        start = datetime.datetime.now()\n",
    "        svm=SVC(kernel=k, gamma=1.0).fit(Xtrain, ctrain)\n",
    "        end = datetime.datetime.now()\n",
    "        processTimes[k].append([svm.score(Xtest,ctest),(end-start).seconds])  \n",
    "        item=processTimes[k]\n",
    "        print(\"Done: \"+k+\" in \"+str((end-start).seconds)\n",
    "              +\" seconds with accuracy: \"+str(item[0][0]))\n",
    "    #print(processTimes)\n",
    "trySVMs(X_train, c_train, X_test, c_test)"
   ]
  },
  {
   "cell_type": "markdown",
   "metadata": {},
   "source": [
    "Looks like the kernel funcktion has relatively large impact on learning times - lets plot them se get a better sense of the issue:"
   ]
  },
  {
   "cell_type": "code",
   "execution_count": 12,
   "metadata": {},
   "outputs": [
    {
     "data": {
      "image/png": "[encoded data removed]",
      "text/plain": [
       "<matplotlib.figure.Figure at 0x1158dab00>"
      ]
     },
     "metadata": {},
     "output_type": "display_data"
    },
    {
     "data": {
      "text/html": [
       "<div>\n",
       "<style scoped>\n",
       "    .dataframe tbody tr th:only-of-type {\n",
       "        vertical-align: middle;\n",
       "    }\n",
       "\n",
       "    .dataframe tbody tr th {\n",
       "        vertical-align: top;\n",
       "    }\n",
       "\n",
       "    .dataframe thead th {\n",
       "        text-align: right;\n",
       "    }\n",
       "</style>\n",
       "<table border=\"1\" class=\"dataframe\">\n",
       "  <thead>\n",
       "    <tr style=\"text-align: right;\">\n",
       "      <th></th>\n",
       "      <th>linear</th>\n",
       "      <th>poly</th>\n",
       "      <th>rbf</th>\n",
       "      <th>sigmoid</th>\n",
       "    </tr>\n",
       "  </thead>\n",
       "  <tbody>\n",
       "    <tr>\n",
       "      <th>0</th>\n",
       "      <td>[0.981435300637, 7]</td>\n",
       "      <td>[0.995289553893, 5]</td>\n",
       "      <td>[0.510667775007, 223]</td>\n",
       "      <td>[0.510667775007, 115]</td>\n",
       "    </tr>\n",
       "  </tbody>\n",
       "</table>\n",
       "</div>"
      ],
      "text/plain": [
       "                linear                 poly                    rbf  \\\n",
       "0  [0.981435300637, 7]  [0.995289553893, 5]  [0.510667775007, 223]   \n",
       "\n",
       "                 sigmoid  \n",
       "0  [0.510667775007, 115]  "
      ]
     },
     "execution_count": 12,
     "metadata": {},
     "output_type": "execute_result"
    }
   ],
   "source": [
    "import matplotlib\n",
    "import matplotlib.pyplot as plt\n",
    "import numpy as np\n",
    "import datetime\n",
    "import pandas as pd\n",
    "colors={'rbf':'red','linear':'blue','poly':'black', 'sigmoid':'green'}\n",
    "for kernel, value in processTimes.items():\n",
    "    x=[]\n",
    "    y=[]\n",
    "    for item in value:\n",
    "        x.append(item[1])\n",
    "        y.append(item[0])\n",
    "        plt.scatter(x,y, color=colors[kernel], label=kernel)\n",
    "#plt.ylim(0, 1)\n",
    "plt.legend()\n",
    "plt.xlabel('Processtime (seconds)', fontsize=18)\n",
    "plt.ylabel('Accuracy', fontsize=18)\n",
    "plt.show()\n",
    "\n",
    "df = pd.DataFrame(processTimes)\n",
    "df\n",
    "\n",
    "# Why is rbf and sigmoid excactly the same acc ?"
   ]
  },
  {
   "cell_type": "markdown",
   "metadata": {},
   "source": [
    "Not only is the choice of kernel-function important for the time it takes to learn a classifier, it also has hign impact on the accuracy.<br>\n",
    "Lets try a neural network and see, if network structure has an impact on accuracy and learning times:"
   ]
  },
  {
   "cell_type": "code",
   "execution_count": 159,
   "metadata": {},
   "outputs": [
    {
     "name": "stdout",
     "output_type": "stream",
     "text": [
      "Accuracy on test set (1/10: 0.5106677750069272 \n",
      "Accuracy on test set (2/20: 0.5106677750069272 \n",
      "Accuracy on test set (5/50: 0.9853144915489055 \n",
      "Accuracy on test set (10/100: 0.9903020227209753 \n"
     ]
    }
   ],
   "source": [
    "from sklearn.neural_network import MLPClassifier\n",
    "from collections import defaultdict\n",
    "accuracies={}\n",
    "layers=[1,2,5,10]\n",
    "nodes=[10,20,50,100]\n",
    "#accuracies = {}\n",
    "accuracies = defaultdict(list)\n",
    "\n",
    "# Start with perceptron\n",
    "# Compare with the linear SVM\n",
    "i=0\n",
    "for layer in layers:\n",
    "    start = datetime.datetime.now()\n",
    "    \n",
    "    mlp = MLPClassifier(hidden_layer_sizes=[layer, \n",
    "                                            nodes[i]],\n",
    "                        activation='relu', \n",
    "                        solver='lbfgs', \n",
    "                        random_state=0).fit(X_train, c_train)\n",
    "    \n",
    "    end = datetime.datetime.now()  \n",
    "    acc=mlp.score(X_test, c_test)\n",
    "    key=str(layer)+\"/\"+str(nodes[i])\n",
    "    print(\"Accuracy on test set (\"+key+\": {} \".format(acc)) \n",
    "    accuracies[str(layer)+\"/\"+str(nodes[i])] = (acc,(end-start).seconds)\n",
    "    i+=1\n",
    "    #print(key)\n",
    "#print(accuracies)\n",
    "\n",
    "\n"
   ]
  },
  {
   "cell_type": "markdown",
   "metadata": {},
   "source": [
    "We´ll plot the network structures below to see how they perform, measured be accuracy and learning time."
   ]
  },
  {
   "cell_type": "code",
   "execution_count": 160,
   "metadata": {},
   "outputs": [
    {
     "data": {
      "image/png": "[encoded data removed]",
      "text/plain": [
       "<matplotlib.figure.Figure at 0x117543cc0>"
      ]
     },
     "metadata": {},
     "output_type": "display_data"
    },
    {
     "data": {
      "text/html": [
       "<div>\n",
       "<style scoped>\n",
       "    .dataframe tbody tr th:only-of-type {\n",
       "        vertical-align: middle;\n",
       "    }\n",
       "\n",
       "    .dataframe tbody tr th {\n",
       "        vertical-align: top;\n",
       "    }\n",
       "\n",
       "    .dataframe thead th {\n",
       "        text-align: right;\n",
       "    }\n",
       "</style>\n",
       "<table border=\"1\" class=\"dataframe\">\n",
       "  <thead>\n",
       "    <tr style=\"text-align: right;\">\n",
       "      <th></th>\n",
       "      <th>1/10</th>\n",
       "      <th>10/100</th>\n",
       "      <th>2/20</th>\n",
       "      <th>5/50</th>\n",
       "    </tr>\n",
       "  </thead>\n",
       "  <tbody>\n",
       "    <tr>\n",
       "      <th>0</th>\n",
       "      <td>0.510668</td>\n",
       "      <td>0.990302</td>\n",
       "      <td>0.510668</td>\n",
       "      <td>0.985314</td>\n",
       "    </tr>\n",
       "    <tr>\n",
       "      <th>1</th>\n",
       "      <td>0.000000</td>\n",
       "      <td>23.000000</td>\n",
       "      <td>0.000000</td>\n",
       "      <td>19.000000</td>\n",
       "    </tr>\n",
       "  </tbody>\n",
       "</table>\n",
       "</div>"
      ],
      "text/plain": [
       "       1/10     10/100      2/20       5/50\n",
       "0  0.510668   0.990302  0.510668   0.985314\n",
       "1  0.000000  23.000000  0.000000  19.000000"
      ]
     },
     "execution_count": 160,
     "metadata": {},
     "output_type": "execute_result"
    }
   ],
   "source": [
    "##\n",
    "colors={'1/10':'red','2/20':'green','5/50':'blue', '10/100':'black'}\n",
    "for structure, performances in accuracies.items():\n",
    "    x=[]\n",
    "    y=[]\n",
    "    #for item in value:\n",
    "    x.append(performances[1])\n",
    "    y.append(performances[0])\n",
    "    plt.scatter(x,y, color=colors[structure], label=structure)\n",
    "#plt.ylim(0, 1)\n",
    "plt.legend()\n",
    "plt.xlabel('Processtime (seconds)', fontsize=18)\n",
    "plt.ylabel('Accuracy', fontsize=18)\n",
    "plt.show()\n",
    "\n",
    "df = pd.DataFrame(accuracies)\n",
    "df"
   ]
  },
  {
   "cell_type": "markdown",
   "metadata": {},
   "source": [
    "As can be seen, also the Neural Net is quite sensitive to the chosen network structure - it seems, that in this case the accuracy grows with the complexity of the network, but so does the learning time.<br>\n",
    "<br>Now, we´ve been finding optimal parameters semi-manually - just for the fun of it, lets see, if GridsearchCV agrees with us in choosing the best configuration. We do expect this to give us a slightly different accuracy score, since it runs cross-validation instead of the test/train approach above, but it should come up with the same best configuration. Also, the accuracy should be a bit more generalizable and it will show  more compact way of finding best parameters:"
   ]
  },
  {
   "cell_type": "code",
   "execution_count": 15,
   "metadata": {},
   "outputs": [
    {
     "name": "stdout",
     "output_type": "stream",
     "text": [
      "Accuracy on test set: 0.9891936824605154 \n",
      "Best parameters: {'hidden_layer_sizes': [10, 100]} \n"
     ]
    }
   ],
   "source": [
    "from sklearn.model_selection import GridSearchCV\n",
    "params = {'hidden_layer_sizes':[[1,10],[2,20],[5,50],[10,100]]}\n",
    "mlp = MLPClassifier(activation='relu', solver='lbfgs', random_state=0)\n",
    "gsMlp=GridSearchCV(mlp,params).fit(X_train, c_train)\n",
    "print(\"Accuracy on test set: {} \".format(gsMlp.score(X_test, c_test))) \n",
    "print(\"Best parameters: {} \".format(gsMlp.best_params_))"
   ]
  },
  {
   "cell_type": "markdown",
   "metadata": {},
   "source": [
    "The MLPClassifier also has a solver parameter. In short, the solver is the method the algorithm uses to search for the minimum error when backpropagating for optimizing weights and measures in the learning process. So, lets see if this has any impact on the performance. We already worked with lbfsg, so lets try the two others that the scikit MLPClassifier supports - sgd (Stocastic Gradient Descend) and adam."
   ]
  },
  {
   "cell_type": "code",
   "execution_count": 161,
   "metadata": {},
   "outputs": [
    {
     "name": "stdout",
     "output_type": "stream",
     "text": [
      "Accuracy on test set: 0.9936270435023552 \n",
      "Best parameters: {'solver': 'sgd'} \n"
     ]
    }
   ],
   "source": [
    "params = {'solver':['sgd','adam']}\n",
    "mlp = MLPClassifier(activation='relu', random_state=0)\n",
    "gsMlp=GridSearchCV(mlp,params).fit(X_train, c_train)\n",
    "print(\"Accuracy on test set: {} \".format(gsMlp.score(X_test, c_test))) \n",
    "print(\"Best parameters: {} \".format(gsMlp.best_params_))"
   ]
  },
  {
   "cell_type": "code",
   "execution_count": 162,
   "metadata": {},
   "outputs": [],
   "source": [
    "predictions = gsMlp.predict(X_test)"
   ]
  },
  {
   "cell_type": "markdown",
   "metadata": {},
   "source": [
    "Actually, that improved the accuracy to be almost perfect on the testset<br>\n",
    "Lets take a look at some of the incorrectly classified instances - some of them look pretty weird. We have intentionally tried to find some, that are particularly strange, which was a quite easy process, since there are not that many to choose from - given the accuracy of the model."
   ]
  },
  {
   "cell_type": "code",
   "execution_count": 174,
   "metadata": {},
   "outputs": [
    {
     "name": "stdout",
     "output_type": "stream",
     "text": [
      "Number of incorrect classifications: 23\n"
     ]
    },
    {
     "data": {
      "image/png": "[encoded data removed]",
      "text/plain": [
       "<matplotlib.figure.Figure at 0x1170ea550>"
      ]
     },
     "metadata": {},
     "output_type": "display_data"
    }
   ],
   "source": [
    "# To do: Plot these a little more elegantly\n",
    "misclassifications = X_test[c_test != predictions]\n",
    "print(\"Number of incorrect classifications: \"+str(misclassifications.shape[0]))\n",
    "fig, axes = plt.subplots(nrows=3, ncols=3, sharex=True)   \n",
    "axes[0, 0].imshow(misclassifications[9].reshape(28,28),cmap=plt.cm.gray_r)\n",
    "axes[1, 0].imshow(misclassifications[10].reshape(28,28),cmap=plt.cm.gray_r)\n",
    "axes[2, 0].imshow(misclassifications[20].reshape(28,28),cmap=plt.cm.gray_r)\n",
    "axes[0, 1].imshow(misclassifications[12].reshape(28,28),cmap=plt.cm.gray_r)\n",
    "axes[1, 1].imshow(misclassifications[13].reshape(28,28),cmap=plt.cm.gray_r)\n",
    "axes[2, 1].imshow(misclassifications[14].reshape(28,28),cmap=plt.cm.gray_r)\n",
    "axes[0, 2].imshow(misclassifications[22].reshape(28,28),cmap=plt.cm.gray_r)\n",
    "axes[1, 2].imshow(misclassifications[16].reshape(28,28),cmap=plt.cm.gray_r)\n",
    "axes[2, 2].imshow(misclassifications[17].reshape(28,28),cmap=plt.cm.gray_r)\n",
    "plt.show()"
   ]
  },
  {
   "cell_type": "markdown",
   "metadata": {},
   "source": [
    "Lets compare with some of the correctly classified to see, if it makes sense:"
   ]
  },
  {
   "cell_type": "code",
   "execution_count": 183,
   "metadata": {},
   "outputs": [
    {
     "name": "stdout",
     "output_type": "stream",
     "text": [
      "Number of correct classifications: 3586\n"
     ]
    },
    {
     "data": {
      "image/png": "[encoded data removed]",
      "text/plain": [
       "<matplotlib.figure.Figure at 0x114c79b38>"
      ]
     },
     "metadata": {},
     "output_type": "display_data"
    }
   ],
   "source": [
    "correctClassifications = X_test[c_test == predictions]\n",
    "print(\"Number of correct classifications: \"+str(correctClassifications.shape[0]))\n",
    "fig, axes = plt.subplots(nrows=3, ncols=3, sharex=True)   \n",
    "axes[0, 0].imshow(correctClassifications[400].reshape(28,28),cmap=plt.cm.gray_r)\n",
    "axes[1, 0].imshow(correctClassifications[800].reshape(28,28),cmap=plt.cm.gray_r)\n",
    "axes[2, 0].imshow(correctClassifications[1200].reshape(28,28),cmap=plt.cm.gray_r)\n",
    "axes[0, 1].imshow(correctClassifications[1600].reshape(28,28),cmap=plt.cm.gray_r)\n",
    "axes[1, 1].imshow(correctClassifications[2000].reshape(28,28),cmap=plt.cm.gray_r)\n",
    "axes[2, 1].imshow(correctClassifications[2400].reshape(28,28),cmap=plt.cm.gray_r)\n",
    "axes[0, 2].imshow(correctClassifications[2800].reshape(28,28),cmap=plt.cm.gray_r)\n",
    "axes[1, 2].imshow(correctClassifications[3200].reshape(28,28),cmap=plt.cm.gray_r)\n",
    "axes[2, 2].imshow(correctClassifications[3585].reshape(28,28),cmap=plt.cm.gray_r)\n",
    "plt.show()"
   ]
  },
  {
   "cell_type": "markdown",
   "metadata": {},
   "source": [
    "Some of the misclassified examples are not even human readable, and some of them can be read, but you can understand why they don´t look like the typical digits - f.eks. then number three is in one case almost written vertically. On the other hand, all examples of correctly classified digits can be read and identified quite unambiguously.<br><br>\n",
    "Now, having found optimal parameters for the NN algorithm, lets see how it does on the full dataset:"
   ]
  },
  {
   "cell_type": "code",
   "execution_count": 372,
   "metadata": {},
   "outputs": [
    {
     "name": "stdout",
     "output_type": "stream",
     "text": [
      "Accuracy on test set: 0.9354857142857143 \n"
     ]
    }
   ],
   "source": [
    "X_train, X_test, c_train, c_test = train_test_split(mnist.data,mnist.target,random_state=0)\n",
    "mlp = MLPClassifier(activation='relu', \n",
    "                    solver='sgd', \n",
    "                    random_state=0, \n",
    "                    hidden_layer_sizes=[100,100]).fit(X_train, c_train)\n",
    "\n",
    "print(\"Accuracy on test set: {} \".format(mlp.score(X_test, c_test))) "
   ]
  },
  {
   "cell_type": "markdown",
   "metadata": {},
   "source": [
    "To our surprise, the accuracy suddently went down dramatically, which means, that what is a good configuration of the network to classify two digits, is not automatically a good configuration for all ten digits. Still, if you were to blindly guess, you would have an accuracy of 1/10, so atleast the model does better than \"chance\". Lets investigate a little more into what goes wrong: "
   ]
  },
  {
   "cell_type": "code",
   "execution_count": 373,
   "metadata": {},
   "outputs": [
    {
     "name": "stdout",
     "output_type": "stream",
     "text": [
      "\n",
      "[[1597    0    7    1    3    3    9    6   11    0]\n",
      " [   1 1977   14    6    1    3    0   11   17    4]\n",
      " [  17    5 1596    8   15    4   12   11   25    2]\n",
      " [   3    5   48 1589    1   39    4   10   29   13]\n",
      " [   3    6    5    2 1609    2   16    8   10   51]\n",
      " [  10    1   11   54    2 1479   16    5   22   17]\n",
      " [  12    3   10    0   16   33 1637    0   22    0]\n",
      " [  11    1   17   17   20    4    0 1710    4   41]\n",
      " [   8   13   33   22    7   40   12    7 1599   16]\n",
      " [  13    5    5   21   54   12    2   36   23 1578]]\n"
     ]
    },
    {
     "data": {
      "image/png": "[encoded data removed]",
      "text/plain": [
       "<matplotlib.figure.Figure at 0x119d5ea58>"
      ]
     },
     "metadata": {},
     "output_type": "display_data"
    }
   ],
   "source": [
    "from sklearn.metrics import confusion_matrix\n",
    "from mglearn.tools import *\n",
    "import itertools\n",
    "print()\n",
    "prd=mlp.predict(X_test)\n",
    "cnf = confusion_matrix(c_test,prd)\n",
    "\n",
    "with sns.axes_style(\"white\"):\n",
    "    ax = sns.heatmap(cnf,\n",
    "                     center = 0, \n",
    "                     cmap=\"YlGnBu\")\n",
    "    plt.ylabel('True label')\n",
    "    plt.xlabel('Predicted label')\n",
    "print(cnf)\n",
    "plt.show()\n"
   ]
  },
  {
   "cell_type": "markdown",
   "metadata": {},
   "source": [
    "From the above confusion matrix we can see, that zero´s and to some extend one´s can be recognized, but it also seems, that distinguishing between 10 digits rather than two is a much harder task."
   ]
  },
  {
   "cell_type": "markdown",
   "metadata": {},
   "source": [
    "Now, lets see how a more easy task affects the accuracy and process time:"
   ]
  },
  {
   "cell_type": "code",
   "execution_count": 378,
   "metadata": {},
   "outputs": [
    {
     "name": "stdout",
     "output_type": "stream",
     "text": [
      "Done: linear in 1 seconds with accuracy: 0.998376184032\n",
      "Done: rbf in 281 seconds with accuracy: 0.537753721245\n",
      "Done: poly in 1 seconds with accuracy: 0.997834912043\n",
      "Done: sigmoid in 106 seconds with accuracy: 0.537753721245\n"
     ]
    }
   ],
   "source": [
    "# Lets make a new dataset with other digits:\n",
    "digit0=0\n",
    "digit1=1\n",
    "mnist_bin_data_new=mnist.data[np.logical_or(mnist.target==digit0,\n",
    "                                            mnist.target==digit1)]\n",
    "\n",
    "mnist_bin_target_new=mnist.target[np.logical_or(mnist.target==digit0,\n",
    "                                                mnist.target==digit1)]\n",
    "\n",
    "X_train_new, X_test_new, c_train_new, c_test_new = train_test_split(mnist_bin_data_new, \n",
    "                                                                    mnist_bin_target_new, \n",
    "                                                                    random_state=0)\n",
    "trySVMs(X_train_new, c_train_new, X_test_new, c_test_new)"
   ]
  },
  {
   "cell_type": "markdown",
   "metadata": {},
   "source": [
    "We next investigate the capability of the different learning approaches to find a good model, knowing that a very accurate model exists. For this, we add a 'cheat column' to our data: we add an additional column to the data matrix that simply contains a 0/1 encoding of the actual class label: "
   ]
  },
  {
   "cell_type": "code",
   "execution_count": 376,
   "metadata": {},
   "outputs": [],
   "source": [
    "cheatcol=np.array(mnist_bin_target_new) #making a copy of the original target array\n",
    "cheatcol[cheatcol==digit0]=0  #re-coding the two classes as 0s and 1s\n",
    "cheatcol[cheatcol==digit1]=1\n",
    "#getting the dimensions right for the following .hstack operation to work ... \n",
    "cheatcol=np.reshape(cheatcol,[mnist_bin_data_new.shape[0],1]) \n",
    "#appending the new column\n",
    "mnist_bin_data_cheat = np.hstack((mnist_bin_data_new,cheatcol))\n",
    "\n",
    "# Show me the first example where #785 is 1:\n",
    "i=0\n",
    "lst=[]\n",
    "for data in mnist_bin_data_cheat:\n",
    "    if data[784]==1:\n",
    "        lst.append(i)        \n",
    "    i+=1\n",
    "#mnist_bin_data_cheat[lst[1]]"
   ]
  },
  {
   "cell_type": "markdown",
   "metadata": {},
   "source": [
    "All our candidate model types now are able, in principle, to construct a 100% accurate classifier for this data: we only have to 'learn' that only the last column in the data matters, and we can predict 'digit0' if we find a 0 in the last column and 'digit1' if we find a 1. All our SVM or NN network models would in principle be able to do just this, through a suitable setting of the SVM coefficients, respectively the NN weights.\n",
    "\n",
    "**Exercise 2:** Describe, briefly, how the coefficients and weights of an SVM and NN model (with arbitrary number of layers) would have to be set, so that the resulting model is 100% accurate on this cheating data. Investigate how the accuracy of different SVM and NN classifiers improves in practice on this new dataset. Do you achieve 100% accuracy on the test set? If not, try to change the encoding in the cheat column: instead of representing digit1 with a 1, use a larger number, e.g. 250. Does that help? Why?"
   ]
  },
  {
   "cell_type": "markdown",
   "metadata": {},
   "source": [
    "\n",
    "### Setting the weights and biases of a NN for a \"perfect model\"\n",
    "For a neural network, finding the most is important feature is not very intuitive. All combinations of all features does in principle count when classifying, only the combined weights and biases of different nodes (connections) controls the classification. So, if we want to tune the network to classify, knowing that there is one really important feature (the cheat column), the aim would be to optimize the weights and biases in the neurons so that they would \"fire\" (or activate) when the value in the cheat column corresponding to a given digit is seen.\n",
    "\n",
    "Fx, considering the simple single layer perceptron, in the neuron associated with the classification \"1\" on our cheat-dataset the weight an biases (w and b) would have to be set so that it activates when 1 is seen in the cheet-column. One example would be the below depicted, where feature 785 is out cheat column. As seen, the weights and biases are set in such a way, that it activates when 1 is seen in the cheet-column and does not activate when 0 is seen. Note, that the weights and biases are the same in the two examples, because the neuron has already been training (weights and biases have been set):\n",
    "\n",
    "\n",
    "<img src=\"./images/neuron_activation.png\">\n",
    "\n",
    "#### 1 is seen:\n",
    "<br>\n",
    "<img src=\"neuron_activation_example_1_is_seen.png\" width=70% hight=70% >\n",
    "<br><br>\n",
    "\n",
    "#### 0 is seen\n",
    "<br>\n",
    "<img src=\"neuron_activation_example_0_is_seen.png\"  width=70% hight=70% >\n",
    "<br>\n",
    "\n",
    "Training the network is done in iterations, and the more iterations for each training instance (and backprobagation of weights and biases), the more \"accurate\" the model would become on the training data, eg. turning down weights and biases on non-important features. Again, normally this is something that you would be very carefull doing, because it would increase the risk of overfitting the model to the training data, but in this artificial case, we presume that the information exists in future unseen instances as well.<br><br>\n",
    "Generally, the weigths would have to be set very small on all other features for them not to be considered in practise.\n",
    "\n",
    "Also, the size of the network determines the \"memory\" of the network, thus creating a bigger network enables it to capture more \"subtle\" connections (eg. combinations of features with weights and biases), however, this also increases the risk of overfitting, since a big enough network would in reality be able to \"remember\" all training data. So, this is also something that we would be carefull doing without considering (and testing) overfitting.\n"
   ]
  },
  {
   "cell_type": "code",
   "execution_count": 113,
   "metadata": {},
   "outputs": [
    {
     "name": "stdout",
     "output_type": "stream",
     "text": [
      "Accuracy on training set: 1.0 \n",
      "Accuracy on test set: 0.9983761840324763 \n",
      "Training took 1 seconds \n"
     ]
    }
   ],
   "source": [
    "cheatcol=np.array(mnist_bin_target_new) #making a copy of the original target array\n",
    "cheatcol[cheatcol==digit0]=0  #re-coding the two classes as 0s and 1s\n",
    "cheatcol[cheatcol==digit1]=1\n",
    "cheatcol=np.reshape(cheatcol,[mnist_bin_data_new.shape[0],1]) #getting the dimensions right for the following .hstack operation to work ... \n",
    "mnist_bin_data_cheat = np.hstack((mnist_bin_data_new,cheatcol)) #appending the new column\n",
    "X_train, X_test, c_train, c_test = train_test_split(mnist_bin_data_cheat,\n",
    "                                                    mnist_bin_target_new, \n",
    "                                                    random_state=0)\n",
    "\n",
    "start = datetime.datetime.now()\n",
    "mlp = MLPClassifier(activation='relu', \n",
    "                    solver='lbfgs', \n",
    "                    random_state=0).fit(X_train, c_train)\n",
    "\n",
    "end = datetime.datetime.now()\n",
    "print(\"Accuracy on training set: {} \".format(mlp.score(X_train, c_train))) \n",
    "print(\"Accuracy on test set: {} \".format(mlp.score(X_test, c_test))) \n",
    "print(\"Training took {} seconds \".format((end-start).seconds))"
   ]
  },
  {
   "cell_type": "markdown",
   "metadata": {},
   "source": [
    "Thats it - we have an accuracy on 100% on the trainingset. \n",
    "However, we did not obtain 100% accuracy on the testset, which means, that we have not obtained the optimal weights and biases as descibed - there must still be some influence from the other features and there must be a few examples where these features end up weighing more than out \"cheat-feature\". \n",
    "\n",
    "### Lets try the SVM:\n",
    "\n",
    "The C parameter controls the tradeoff between accurate decision-boundries and how generalizable the boundry will be.\n",
    "Fx, a very high value of C would result in a very accurate decisionboundry on the training data, but would probably lead to overfitting.\n",
    "So, in this experiment we are aiming at a very accurate model (we know that it actually exists) at the (possible) expence of not being able to generalize it very well\n"
   ]
  },
  {
   "cell_type": "code",
   "execution_count": 195,
   "metadata": {},
   "outputs": [
    {
     "name": "stdout",
     "output_type": "stream",
     "text": [
      "Accuracy on training set: 1.0 \n",
      "Accuracy on test set: 0.9978349120433018 \n",
      "Training took 28 seconds \n",
      "Optimal parameters: {'C': 1}\n"
     ]
    }
   ],
   "source": [
    "cheatcol=np.array(mnist_bin_target_new) #making a copy of the original target array\n",
    "cheatcol[cheatcol==digit0]=0  #re-coding the two classes as 0s and 1s\n",
    "cheatcol[cheatcol==digit1]=1\n",
    "#getting the dimensions right for the following .hstack operation to work ... \n",
    "cheatcol=np.reshape(cheatcol,[mnist_bin_data_new.shape[0],1]) \n",
    " #appending the new column\n",
    "mnist_bin_data_cheat = np.hstack((mnist_bin_data_new,cheatcol))\n",
    "X_train, X_test, c_train, c_test = train_test_split(mnist_bin_data_cheat, \n",
    "                                                    mnist_bin_target_new, \n",
    "                                                    random_state=0)\n",
    "\n",
    "params={'C':[1,5,10,100]}\n",
    "#Choosing a poly kernel, as we saw earlier, since this was the best \n",
    "# performing on the problem\n",
    "start = datetime.datetime.now()\n",
    "svm=SVC(kernel='poly', gamma=1.0)\n",
    "gsSvm=GridSearchCV(svm,params).fit(X_train, c_train)\n",
    "end = datetime.datetime.now()\n",
    "print(\"Accuracy on training set: {} \".format(gsSvm.score(X_train, c_train))) \n",
    "print(\"Accuracy on test set: {} \".format(gsSvm.score(X_test, c_test))) \n",
    "#print(\"Best parameters: {} \".format(svm.best_params_))\n",
    "print(\"Training took {} seconds \".format((end-start).seconds))\n",
    "print(\"Optimal parameters: \"+str(gsSvm.best_params_))\n",
    "\n"
   ]
  },
  {
   "cell_type": "markdown",
   "metadata": {},
   "source": [
    "Well, the C parameter did not seem to have any effect, although we did reach a 100% accuracy on the trainingset. It is quite obvious, that we cannot improve this very much using this technique, since we have alrady reached an perfect accuracy on the trainingset - even with cross-validation. No further searchin would result in better parameters, since they are already \"perfect.\n",
    "\n",
    "In theory, the coefficient would have to be set like with the NN, with very small weights on the features that \"do not matter\", eg. all other than the cheat feature. In the below 2D example, the X feature has all the separating power while the Y feature has none. In this case, all the weight is put on the X feature, which in our example would correspond to the cheat-feature.\n",
    "<br> <img src=\"2d support vector machine.png\" align='left'>"
   ]
  },
  {
   "cell_type": "markdown",
   "metadata": {},
   "source": [
    "### Scaling\n",
    "Now, lets see if it has any effect changing the \"1\" cheating-feature to \"250\". This should illustrate, if any of the two algorithms are sensitive to scaling"
   ]
  },
  {
   "cell_type": "code",
   "execution_count": 370,
   "metadata": {},
   "outputs": [
    {
     "name": "stdout",
     "output_type": "stream",
     "text": [
      "Accuracy on training set: 0.9994587280108255 \n",
      "Accuracy on test set: 0.9989174560216508 \n",
      "Training took 24 seconds \n"
     ]
    }
   ],
   "source": [
    "cheatcol=np.array(mnist_bin_target_new) #making a copy of the original target array\n",
    "cheatcol[cheatcol==digit0]=0  #re-coding the two classes as 0s and 1s\n",
    "cheatcol[cheatcol==digit1]=250\n",
    "#getting the dimensions right for the following .hstack operation to work ... \n",
    "cheatcol=np.reshape(cheatcol,[mnist_bin_data_new.shape[0],1]) \n",
    "#appending the new column\n",
    "mnist_bin_data_cheat = np.hstack((mnist_bin_data_new,cheatcol)) \n",
    "X_train, X_test, c_train, c_test = train_test_split(mnist_bin_data_cheat, \n",
    "                                                    mnist_bin_target_new, \n",
    "                                                    random_state=0)\n",
    "\n",
    "start = datetime.datetime.now()\n",
    "mlp = MLPClassifier(activation='tanh', \n",
    "                    solver='lbfgs', \n",
    "                    alpha=10,\n",
    "                    random_state=0).fit(X_train, c_train)\n",
    "\n",
    "end = datetime.datetime.now()\n",
    "print(\"Accuracy on training set: {} \".format(mlp.score(X_train, c_train))) \n",
    "print(\"Accuracy on test set: {} \".format(mlp.score(X_test, c_test))) \n",
    "print(\"Training took {} seconds \".format((end-start).seconds))\n"
   ]
  },
  {
   "cell_type": "markdown",
   "metadata": {},
   "source": [
    "It seems, that in this case, the scaling does not matter for the MLP algorithm. Although the algorithm trains a model that relies on actual numerical values, the scaling is counteracted by the weights and biases of each feature, so in reality, it does not matter. However, since we do know, that the MLP algorithm must be sensitive to some extend to scaling, lets try going to the extreme, at set the \"1\"-digit indicator to 2500 (250x10). This way, we should be able to force the algorithm to be very much dependent on this last feature:"
   ]
  },
  {
   "cell_type": "code",
   "execution_count": 130,
   "metadata": {},
   "outputs": [
    {
     "name": "stdout",
     "output_type": "stream",
     "text": [
      "Accuracy on training set: 1.0 \n",
      "Accuracy on test set: 1.0 \n",
      "Training took 1 seconds \n"
     ]
    }
   ],
   "source": [
    "cheatcol=np.array(mnist_bin_target_new) #making a copy of the original target array\n",
    "cheatcol[cheatcol==digit0]=0  #re-coding the two classes as 0s and 1s\n",
    "cheatcol[cheatcol==digit1]=2500\n",
    "#getting the dimensions right for the following .hstack operation to work ... \n",
    "cheatcol=np.reshape(cheatcol,[mnist_bin_data_new.shape[0],1]) \n",
    " #appending the new column\n",
    "mnist_bin_data_cheat = np.hstack((mnist_bin_data_new,cheatcol))\n",
    "X_train, X_test, c_train, c_test = train_test_split(mnist_bin_data_cheat, \n",
    "                                                    mnist_bin_target_new, \n",
    "                                                    random_state=0)\n",
    "\n",
    "start = datetime.datetime.now()\n",
    "mlp = MLPClassifier(activation='relu', \n",
    "                    solver='lbfgs', \n",
    "                    random_state=0).fit(X_train, c_train)\n",
    "end = datetime.datetime.now()\n",
    "print(\"Accuracy on training set: {} \".format(mlp.score(X_train, c_train))) \n",
    "print(\"Accuracy on test set: {} \".format(mlp.score(X_test, c_test))) \n",
    "print(\"Training took {} seconds \".format((end-start).seconds))"
   ]
  },
  {
   "cell_type": "markdown",
   "metadata": {},
   "source": [
    "This time it \"worked\" - the accuracy is now 100% on both sets. However, this illustrates, that scaling should considered, since in reallife cases, we would probably want every feature to be considered equally. Just to illustrate, that the SVM has the same issue, lets repeat the example, now using the SVM:"
   ]
  },
  {
   "cell_type": "code",
   "execution_count": 131,
   "metadata": {},
   "outputs": [
    {
     "name": "stdout",
     "output_type": "stream",
     "text": [
      "Accuracy on training set: 1.0 \n",
      "Accuracy on test set: 1.0 \n",
      "Training took 1 seconds \n"
     ]
    }
   ],
   "source": [
    "#Choosing a poly kernel, as we saw earlier, that this was the best performing on the problem\n",
    "start = datetime.datetime.now()\n",
    "svm=SVC(kernel='poly', gamma=1.0).fit(X_train, c_train)\n",
    "end = datetime.datetime.now()\n",
    "print(\"Accuracy on training set: {} \".format(svm.score(X_train, c_train))) \n",
    "print(\"Accuracy on test set: {} \".format(svm.score(X_test, c_test))) \n",
    "#print(\"Best parameters: {} \".format(svm.best_params_))\n",
    "print(\"Training took {} seconds \".format((end-start).seconds))\n",
    "\n"
   ]
  },
  {
   "cell_type": "markdown",
   "metadata": {},
   "source": [
    "**Exercise 3:** (Now back to the data without a cheating column!) Suppose you want to design a custom kernel function for the MNIST data that better captures the relevant properties of 'similarity' in this data than the generic 'rbf' or 'poly' kernels. Bear in mind that the data as seen by our classifiers and kernel functions just consists of arrays of length 784. \n",
    "\n",
    "Describe one or two ideas for defining such a kernel. You need not show that the kernel you propose actually is positive semi-definite (though as a bonus, you can try to provide some arguments for that). This is a text-only exercise -- no sklearn code required!\n",
    "\n",
    "If you are really curious, you can implement your kernel as a function, and use it as a custom kernel. See http://scikit-learn.org/stable/auto_examples/svm/plot_custom_kernel.html#sphx-glr-auto-examples-svm-plot-custom-kernel-py for an example of how that is done."
   ]
  },
  {
   "cell_type": "markdown",
   "metadata": {},
   "source": [
    "The purpose of kernel functions is map data into a higher dimensional space to obtain linear separation. In this space, the kernel functions serves as a \"similarity function\", which means it returns a measure of simmilarity of two input vectors. This measure is a vector in itself, thus the kernel function must take two vectors as input and return one vector as output. The simmilarity is the dot product of the two input vectors in some feature space, where data is linearly separable.\n",
    "\n",
    "<img src=\"Mapping_data_to_be_lin_sep.png\" width=25%> \n",
    "\n",
    "The reason, that simmilarity can be used in determining the margins is, that very simmilar vectors that predict different classes tend to maximize the dicision margin.\n",
    "<img src=\"simmilarity_maximizes_margin.png\" width=25%>\n",
    "\n",
    "So in short, the custom kernel function then must do the following:<br>\n",
    "1) Take two vectors as input<br>\n",
    "2) map data to a higher dimensional space to obtain linear separability<br>\n",
    "3) calculate and return the dot product of the mapped input vectors, as a measure of simmilarity\n",
    "\n",
    "\n"
   ]
  },
  {
   "cell_type": "markdown",
   "metadata": {},
   "source": [
    "## Exercises following the 3rd Seminar"
   ]
  },
  {
   "cell_type": "markdown",
   "metadata": {},
   "source": [
    "We first use the dataset containing movie reviews from the *Internet Movie Database*. For this, the data first needs to be downloaded from <a href=\"http://ai.stanford.edu/~amaas/data/sentiment/\"> here </a>. Note: this is about 220 Mb.  After uncompressing, the data is contained in a directory `aclImdb` with sub-directories `train` and `test`. In the following, replace the piece of the path that leads to the directory in which you have unpacked the data."
   ]
  },
  {
   "cell_type": "code",
   "execution_count": 75,
   "metadata": {},
   "outputs": [],
   "source": [
    "from sklearn.datasets import load_files\n",
    "from sklearn.feature_extraction.text import CountVectorizer,TfidfTransformer"
   ]
  },
  {
   "cell_type": "code",
   "execution_count": 76,
   "metadata": {},
   "outputs": [
    {
     "data": {
      "text/plain": [
       "b'Words can\\'t describe how bad this movie is. I can\\'t explain it by writing only. You have too see it for yourself to get at grip of how horrible a movie really can be. Not that I recommend you to do that. There are so many clich\\xc3\\xa9s, mistakes (and all other negative things you can imagine) here that will just make you cry. To start with the technical first, there are a LOT of mistakes regarding the airplane. I won\\'t list them here, but just mention the coloring of the plane. They didn\\'t even manage to show an airliner in the colors of a fictional airline, but instead used a 747 painted in the original Boeing livery. Very bad. The plot is stupid and has been done many times before, only much, much better. There are so many ridiculous moments here that i lost count of it really early. Also, I was on the bad guys\\' side all the time in the movie, because the good guys were so stupid. \"Executive Decision\" should without a doubt be you\\'re choice over this one, even the \"Turbulence\"-movies are better. In fact, every other movie in the world is better than this one.'"
      ]
     },
     "execution_count": 76,
     "metadata": {},
     "output_type": "execute_result"
    }
   ],
   "source": [
    "reviews_train=load_files('/users/janpedersbaek/Code/PycharmProjects/Master i IT/Seminar III/aclImdb/train',categories=['neg','pos'])\n",
    "reviews_test=load_files('/users/janpedersbaek/Code/PycharmProjects/Master i IT/Seminar III/aclImdb/test',categories=['neg','pos'])\n",
    "reviews_train.data[1]\n",
    "\n",
    "#small_mnist_data,small_mnist_label = skl.utils.resample(mnist.data,mnist.target,n_samples=200,replace='false')\n"
   ]
  },
  {
   "cell_type": "markdown",
   "metadata": {},
   "source": [
    "The following is the same code as in the `TextData` notebook for transforming the data into term-frequency, and term-frequency-inverse-document-frequency vectors. "
   ]
  },
  {
   "cell_type": "code",
   "execution_count": 251,
   "metadata": {},
   "outputs": [],
   "source": [
    "# Note: you could use the tfIdf vectorizer directly, instead of going throug CountVectorizer\n",
    "## 15804 -> 403 by going from 0.0005 to 0.05\n",
    "dictionary=CountVectorizer(min_df=0.0005, \n",
    "                           max_df=0.5).fit(reviews_train.data)\n",
    "\n",
    "reviews_train_tf_vec=dictionary.transform(\n",
    "    reviews_train.data)\n",
    "\n",
    "reviews_train_tfidf_vec=TfidfTransformer().fit_transform(\n",
    "    reviews_train_tf_vec)\n",
    "\n",
    "reviews_test_tf_vec=dictionary.transform(reviews_test.data)\n",
    "\n",
    "reviews_test_tfidf_vec = TfidfTransformer().fit_transform(\n",
    "    reviews_test_tf_vec)\n"
   ]
  },
  {
   "cell_type": "code",
   "execution_count": 7,
   "metadata": {},
   "outputs": [
    {
     "data": {
      "text/plain": [
       "15862"
      ]
     },
     "execution_count": 7,
     "metadata": {},
     "output_type": "execute_result"
    }
   ],
   "source": [
    "len(dictionary.vocabulary_)"
   ]
  },
  {
   "cell_type": "markdown",
   "metadata": {},
   "source": [
    "**Exercise 4:** Learn at least 2 different kinds of classifiers (k-NN, Naive Bayes, Decision Tree, SVM, Neural Network) for predicting the 'positive' reviews based on the tf or tf-idf vectors. Optimize the classifiers via the available regularization parameters so that overfitting is minimized.  Evaluate the learned classifiers using accuracy, precision, recall, and their ROC curves. "
   ]
  },
  {
   "cell_type": "code",
   "execution_count": 8,
   "metadata": {},
   "outputs": [],
   "source": [
    "# Defining function that is used throughout this exercise\n",
    "# Plot confusion matrix, since we will be doing it multiple times\n",
    "import matplotlib.pyplot as plt\n",
    "import itertools\n",
    "import datetime\n",
    "def plot_confusion_matrix(cm, classes,\n",
    "                          normalize=False,\n",
    "                          title='Confusion matrix',\n",
    "                          cmap=plt.cm.Blues):\n",
    "    \"\"\"\n",
    "    This function prints and plots the confusion matrix.\n",
    "    Normalization can be applied by setting `normalize=True`.\n",
    "    \"\"\"\n",
    "    if normalize:\n",
    "        cm = cm.astype('float') / cm.sum(axis=1)[:, np.newaxis]\n",
    "        print(\"Normalized confusion matrix\")\n",
    "    else:\n",
    "        print('Confusion matrix, without normalization')\n",
    "\n",
    "    #print(cm)\n",
    "\n",
    "    plt.imshow(cm, interpolation='nearest', cmap=cmap)\n",
    "    plt.title(title)\n",
    "    plt.colorbar()\n",
    "    tick_marks = np.arange(len(classes))\n",
    "    plt.xticks(tick_marks, classes, rotation=45)\n",
    "    plt.yticks(tick_marks, classes)\n",
    "\n",
    "    fmt = '.2f' if normalize else 'd'\n",
    "    thresh = cm.max() / 2.\n",
    "    for i, j in itertools.product(range(cm.shape[0]), range(cm.shape[1])):\n",
    "        plt.text(j, i, format(cm[i, j], fmt),\n",
    "                 horizontalalignment=\"center\",\n",
    "                 color=\"white\" if cm[i, j] > thresh else \"black\")\n",
    "\n",
    "    plt.tight_layout()\n",
    "    plt.ylabel('True label')\n",
    "    plt.xlabel('Predicted label')\n"
   ]
  },
  {
   "cell_type": "markdown",
   "metadata": {},
   "source": [
    "### Lets start with the Naive Bayes algorithm"
   ]
  },
  {
   "cell_type": "code",
   "execution_count": 39,
   "metadata": {},
   "outputs": [
    {
     "name": "stdout",
     "output_type": "stream",
     "text": [
      "Process took: 0 seconds\n",
      "Accuracy on training dataset: 0.88948 \n",
      "Accuracy on test dataset: 0.8366 \n"
     ]
    }
   ],
   "source": [
    "import numpy as np\n",
    "from sklearn.naive_bayes import MultinomialNB\n",
    "start = datetime.datetime.now()\n",
    "clfNB=MultinomialNB().fit(reviews_train_tfidf_vec,reviews_train.target)\n",
    "print(\"Process took: \"+\n",
    "      str((datetime.datetime.now()-start).seconds)+\n",
    "      \" seconds\")\n",
    "\n",
    "# Note: try cross validation\n",
    "predicted_nb_train = clfNB.predict(reviews_train_tfidf_vec)\n",
    "predicted_nb_test = clfNB.predict(reviews_test_tfidf_vec)\n",
    "print(\"Accuracy on training dataset: {} \".format(np.mean(predicted_nb_train \n",
    "                                                         == reviews_train.target)))\n",
    "\n",
    "print(\"Accuracy on test dataset: {} \".format(np.mean(predicted_nb_test \n",
    "                                                     == reviews_train.target)))"
   ]
  },
  {
   "cell_type": "markdown",
   "metadata": {},
   "source": [
    "It seems, that we are overfitting somewhat, since the accuracy on the training set is a lot better than on the test-set. The risk of overfitting could come from the presumption of non-correlated features. However, given the nature and number of features of this dataset, the risk is quite small. Correlated words must intuitively be very small compared to the rest of the words (features). Also the use of words in the testset that have not been seen in the trainingset could contribute to the result being lower, but given the size of the trainingset, this should not be that big a problem. \n",
    "\n",
    "We can however get a more realistic view on how generalizable the Naive Bayes model is, by doing cross validation."
   ]
  },
  {
   "cell_type": "code",
   "execution_count": 1,
   "metadata": {},
   "outputs": [
    {
     "name": "stderr",
     "output_type": "stream",
     "text": [
      "/Library/Frameworks/Python.framework/Versions/3.5/lib/python3.5/site-packages/sklearn/cross_validation.py:41: DeprecationWarning: This module was deprecated in version 0.18 in favor of the model_selection module into which all the refactored classes and functions are moved. Also note that the interface of the new CV iterators are different from that of this module. This module will be removed in 0.20.\n",
      "  \"This module will be removed in 0.20.\", DeprecationWarning)\n"
     ]
    },
    {
     "ename": "NameError",
     "evalue": "name 'clfNB' is not defined",
     "output_type": "error",
     "traceback": [
      "\u001b[0;31m---------------------------------------------------------------------------\u001b[0m",
      "\u001b[0;31mNameError\u001b[0m                                 Traceback (most recent call last)",
      "\u001b[0;32m<ipython-input-1-1909417925db>\u001b[0m in \u001b[0;36m<module>\u001b[0;34m()\u001b[0m\n\u001b[1;32m      1\u001b[0m \u001b[0;32mfrom\u001b[0m \u001b[0msklearn\u001b[0m\u001b[0;34m.\u001b[0m\u001b[0mcross_validation\u001b[0m \u001b[0;32mimport\u001b[0m \u001b[0mcross_val_score\u001b[0m\u001b[0;34m\u001b[0m\u001b[0m\n\u001b[0;32m----> 2\u001b[0;31m scores = cross_val_score(clfNB, \n\u001b[0m\u001b[1;32m      3\u001b[0m                          \u001b[0mreviews_train_tfidf_vec\u001b[0m\u001b[0;34m,\u001b[0m\u001b[0;34m\u001b[0m\u001b[0m\n\u001b[1;32m      4\u001b[0m                          \u001b[0mreviews_train\u001b[0m\u001b[0;34m.\u001b[0m\u001b[0mtarget\u001b[0m\u001b[0;34m,\u001b[0m\u001b[0;34m\u001b[0m\u001b[0m\n\u001b[1;32m      5\u001b[0m                          \u001b[0mcv\u001b[0m\u001b[0;34m=\u001b[0m\u001b[0;36m10\u001b[0m\u001b[0;34m,\u001b[0m\u001b[0;34m\u001b[0m\u001b[0m\n",
      "\u001b[0;31mNameError\u001b[0m: name 'clfNB' is not defined"
     ]
    }
   ],
   "source": [
    "from sklearn.cross_validation import cross_val_score\n",
    "scores = cross_val_score(clfNB, \n",
    "                         reviews_train_tfidf_vec, \n",
    "                         reviews_train.target, \n",
    "                         cv=10, \n",
    "                         scoring='accuracy')\n",
    "\n",
    "print(scores.mean())"
   ]
  },
  {
   "cell_type": "markdown",
   "metadata": {},
   "source": [
    "Looks like the most accurate estimate of model accuracy is somewhere in between the two previous accuracies on training and test data. We should really trust the crossvalidated score, because it is a better estimate of accuracy on future unseen data.<br><br>\n",
    "Now, accuracy is not everything. <br>Lets dive a little deeper into the aspects of the binary classification and its \"accuracy\". Below is plottet a _confusion_ _matrix_"
   ]
  },
  {
   "cell_type": "code",
   "execution_count": 10,
   "metadata": {},
   "outputs": [
    {
     "name": "stdout",
     "output_type": "stream",
     "text": [
      "Confusion matrix, without normalization\n"
     ]
    },
    {
     "data": {
      "image/png": "[encoded data removed]",
      "text/plain": [
       "<matplotlib.figure.Figure at 0x11230fac8>"
      ]
     },
     "metadata": {},
     "output_type": "display_data"
    },
    {
     "data": {
      "text/plain": [
       "<matplotlib.figure.Figure at 0x110b639e8>"
      ]
     },
     "metadata": {},
     "output_type": "display_data"
    }
   ],
   "source": [
    "# Create the confusion matrix:\n",
    "from sklearn.metrics import confusion_matrix\n",
    "cnf = confusion_matrix(predicted_nb_test,reviews_test.target)\n",
    "plot_confusion_matrix(cnf, classes=['neg','pos'],\n",
    "                      title='Confusion matrix, without normalization')\n",
    "plt.figure()\n",
    "plt.show()"
   ]
  },
  {
   "cell_type": "markdown",
   "metadata": {},
   "source": [
    "Several things can be drawn from this matrix:\n",
    "### Precision\n",
    "#### Out of all the positive reviews we found, how many are actually positive ?\n",
    "Looking at the positive reviews, it can be seen, that number of predicted positive reviews that we found (9970) over the number of actual positive reviews (9970+2530) is 79,76%.<br> This is the measure called _precision_\n",
    "\n",
    "### Recall\n",
    "#### Out of all the positive reviews, how many did we find ?\n",
    "We can see from the matrix, that there were 11.525 positive reviews (9970+1555) and the model successfully found 9970 of them, which corresponds to 86.51%<br> This measure is called _recall_\n",
    "\n",
    "Now, lets say, that is is more important to find all the positive reviews at the expense of falsely including some of the negative reviews, how could this tradeoff be visualized ? This is where the ROC curve comes into play, as it does excactly that: plots true positive rate against false positive rate: "
   ]
  },
  {
   "cell_type": "code",
   "execution_count": 21,
   "metadata": {},
   "outputs": [
    {
     "name": "stdout",
     "output_type": "stream",
     "text": [
      "Accuracy on training dataset: 0.88948 \n",
      "Accuracy on test dataset: 0.8366 \n",
      "Area under curve (rbf): \n",
      "0.9164159936\n"
     ]
    },
    {
     "data": {
      "image/png": "[encoded data removed]",
      "text/plain": [
       "<matplotlib.figure.Figure at 0x11339bc88>"
      ]
     },
     "metadata": {},
     "output_type": "display_data"
    }
   ],
   "source": [
    "from sklearn.metrics import roc_curve, auc, roc_auc_score\n",
    "\n",
    "print(\"Accuracy on training dataset: {} \".format(np.mean(predicted_nb_train \n",
    "                                                         == reviews_train.target)))\n",
    "\n",
    "print(\"Accuracy on test dataset: {} \".format(np.mean(predicted_nb_test \n",
    "                                                     == reviews_test.target)))\n",
    "\n",
    "from sklearn import metrics\n",
    "preds = clfNB.predict_proba(reviews_test_tfidf_vec)[:,1]\n",
    "fprNB, tprNB, threshold = metrics.roc_curve(reviews_test.target, preds)\n",
    "\n",
    "plt.plot(fprNB,tprNB)\n",
    "print(\"Area under curve (rbf): \\n{}\".format(roc_auc_score(reviews_test.target,preds)) )\n",
    "plt.xlabel('False positive rate')\n",
    "plt.ylabel('True positive rate')\n",
    "plt.show()\n"
   ]
  },
  {
   "cell_type": "markdown",
   "metadata": {},
   "source": [
    "As can be seen from the above plot, this tradeoff can be illustrated, and a threshold can be set, if including more true positives might be more important than avoiding false positives. Also, the area under the curve can also be a measure of how the model performs in terms of predictive positive reviews<br>\n",
    "### Lets try a decision tree"
   ]
  },
  {
   "cell_type": "code",
   "execution_count": 16,
   "metadata": {},
   "outputs": [
    {
     "name": "stdout",
     "output_type": "stream",
     "text": [
      "Process took: 35 seconds\n"
     ]
    }
   ],
   "source": [
    "import datetime\n",
    "\n",
    "from sklearn.tree import DecisionTreeClassifier\n",
    "start = datetime.datetime.now()\n",
    "tree = DecisionTreeClassifier(random_state=42)\n",
    "tree.fit(reviews_train_tfidf_vec,reviews_train.target)\n",
    "end = datetime.datetime.now()\n",
    "print(\"Process took: \"+str((end-start).seconds)+\" seconds\")"
   ]
  },
  {
   "cell_type": "code",
   "execution_count": 17,
   "metadata": {},
   "outputs": [
    {
     "name": "stdout",
     "output_type": "stream",
     "text": [
      "Accuracy on training dataset: 1.0 \n",
      "Accuracy on test dataset: 0.69872 \n"
     ]
    }
   ],
   "source": [
    "predicted_dt_train = tree.predict(reviews_train_tfidf_vec)\n",
    "predicted_dt_test = tree.predict(reviews_test_tfidf_vec)\n",
    "print(\"Accuracy on training dataset: {} \".format(np.mean(predicted_dt_train \n",
    "                                                         == reviews_train.target)))\n",
    "\n",
    "print(\"Accuracy on test dataset: {} \".format(np.mean(predicted_dt_test \n",
    "                                                     == reviews_test.target)))"
   ]
  },
  {
   "cell_type": "markdown",
   "metadata": {},
   "source": [
    "Major overfitting - the tre is build using standard parameters, which means, that the algorithm continues to expand the tree, untill there are no misclassifications. However, this obviously leeds to dramatically overfitting and the model will not be very generalizable. Lets try to prune the tree to prevent this overfitting. We´ll use gridsearch and cross-validation to search for these pruning parameters, hopefully reducing the overfitting significantly"
   ]
  },
  {
   "cell_type": "code",
   "execution_count": 22,
   "metadata": {},
   "outputs": [
    {
     "name": "stdout",
     "output_type": "stream",
     "text": [
      "Fitting 3 folds for each of 27 candidates, totalling 81 fits\n"
     ]
    },
    {
     "name": "stderr",
     "output_type": "stream",
     "text": [
      "[Parallel(n_jobs=1)]: Done  81 out of  81 | elapsed:  7.7min finished\n"
     ]
    },
    {
     "name": "stdout",
     "output_type": "stream",
     "text": [
      "Process took: 481 seconds\n",
      "Accuracy on training dataset: 0.78916 \n",
      "Accuracy on test dataset: 0.73644 \n"
     ]
    }
   ],
   "source": [
    "from sklearn.model_selection import GridSearchCV\n",
    "start = datetime.datetime.now()\n",
    "parameters={'min_samples_split':[10,50,100], 'min_samples_leaf':[10,50,100], 'max_depth':[10,50,100]}\n",
    "\n",
    "tree=GridSearchCV(DecisionTreeClassifier(random_state=42),\n",
    "                  parameters,verbose=1).fit(reviews_train_tfidf_vec,\n",
    "                                            reviews_train.target)\n",
    "\n",
    "end = datetime.datetime.now()\n",
    "print(\"Process took: \"+str((end-start).seconds)+\" seconds\")\n",
    "predicted_dt_train = tree.predict(reviews_train_tfidf_vec)\n",
    "predicted_dt_test = tree.predict(reviews_test_tfidf_vec)\n",
    "\n",
    "print(\"Accuracy on training dataset: {} \".format(np.mean(predicted_dt_train \n",
    "                                                         == reviews_train.target)))\n",
    "\n",
    "print(\"Accuracy on test dataset: {} \".format(np.mean(predicted_dt_test \n",
    "                                                     == reviews_test.target)))"
   ]
  },
  {
   "cell_type": "markdown",
   "metadata": {},
   "source": [
    "Much better, but still slight overfitting - searching for more parameters might help.\n",
    "Below is the confusion matrix:"
   ]
  },
  {
   "cell_type": "code",
   "execution_count": 23,
   "metadata": {},
   "outputs": [
    {
     "name": "stdout",
     "output_type": "stream",
     "text": [
      "Confusion matrix, without normalization\n"
     ]
    },
    {
     "data": {
      "image/png": "[encoded data removed]",
      "text/plain": [
       "<matplotlib.figure.Figure at 0x112f79d30>"
      ]
     },
     "metadata": {},
     "output_type": "display_data"
    },
    {
     "data": {
      "text/plain": [
       "<matplotlib.figure.Figure at 0x105c0b828>"
      ]
     },
     "metadata": {},
     "output_type": "display_data"
    }
   ],
   "source": [
    "# Create the confusion matrix:\n",
    "from sklearn.metrics import confusion_matrix\n",
    "cnf = confusion_matrix(predicted_dt_test,reviews_test.target)\n",
    "plot_confusion_matrix(cnf, classes=['neg','pos'],\n",
    "                      title='Confusion matrix, without normalization')\n",
    "plt.figure()\n",
    "plt.show()"
   ]
  },
  {
   "cell_type": "markdown",
   "metadata": {},
   "source": [
    "#### Calculating the precision and recall measures:\n",
    "Again as above, two measures can be derived:<br><br>\n",
    "Recall = TP/(TP+FN) = 9042/(9042+3131) = 74.27%<br>\n",
    "Precision = TP/(TP+FP) = 9042/(9042+3458) = 72,34%<br>\n",
    "<br>\n",
    "Another performance indicator for this model is the F1 score, which is\n",
    "<br> 2\\*(precision\\*recall)/(precision+recall) = 2\\*0.5372/1,4661 = 0.7328<br>\n",
    "<br>\n",
    "Now, we´d like to produce a roc-curve on this model aswell, but intuitively, that requires, that we can work with a \"threshold\" that can be tuned. Well, the decision tree also has a concept of \"probability\", which is simply the fraction of the same class in a leaf. This way, we can still produce a ric curve and also the AUC metric:"
   ]
  },
  {
   "cell_type": "code",
   "execution_count": 27,
   "metadata": {},
   "outputs": [
    {
     "name": "stdout",
     "output_type": "stream",
     "text": [
      "Area under curve (rbf): \n",
      "0.8069889632\n"
     ]
    },
    {
     "data": {
      "image/png": "[encoded data removed]",
      "text/plain": [
       "<matplotlib.figure.Figure at 0x1126c9908>"
      ]
     },
     "metadata": {},
     "output_type": "display_data"
    }
   ],
   "source": [
    "from sklearn import metrics\n",
    "preds = tree.predict_proba(reviews_test_tfidf_vec)[:,1]\n",
    "fprNB, tprNB, threshold = metrics.roc_curve(reviews_test.target, preds)\n",
    "\n",
    "plt.plot(fprNB,tprNB)\n",
    "print(\"Area under curve (rbf): \\n{}\".format(roc_auc_score(reviews_test.target,preds)) )\n",
    "plt.xlabel('False positive rate')\n",
    "plt.ylabel('True positive rate')\n",
    "plt.show()"
   ]
  },
  {
   "cell_type": "markdown",
   "metadata": {},
   "source": [
    "### Finally, lets try en liniear SVM on the problem \n",
    "We´ll start out with default parameters, and check the accuracy and possible overfitting:"
   ]
  },
  {
   "cell_type": "code",
   "execution_count": 30,
   "metadata": {},
   "outputs": [
    {
     "name": "stdout",
     "output_type": "stream",
     "text": [
      "Training took: 533 seconds\n",
      "Accuracy on training set: 0.95388 \n",
      "Accuracy on test set: 0.87876 \n",
      "Testing took: 496 seconds\n"
     ]
    }
   ],
   "source": [
    "start = datetime.datetime.now()\n",
    "svm=SVC(kernel='linear').fit(reviews_train_tfidf_vec,reviews_train.target)\n",
    "print(\"Training took: \"+str((datetime.datetime.now()-start).seconds)+\" seconds\")\n",
    "\n",
    "start = datetime.datetime.now()\n",
    "print(\"Accuracy on training set: {} \".format(svm.score(reviews_train_tfidf_vec, \n",
    "                                                       reviews_train.target))) \n",
    "\n",
    "print(\"Accuracy on test set: {} \".format(svm.score(reviews_test_tfidf_vec, \n",
    "                                                   reviews_test.target))) \n",
    "\n",
    "print(\"Testing took: \"+str((datetime.datetime.now()-start).seconds)\n",
    "      +\" seconds\")"
   ]
  },
  {
   "cell_type": "markdown",
   "metadata": {},
   "source": [
    "Fitting a SVM on the problem leads to some overfitting, when using standard parameters. As mentioned earlier, the C parameter controls the tradeoff between accurate model and how generalizable it will be. In this case of overfitting, we would accept a less accurate model if it means that it would generalize better. So, lets search for another value for the C parameter that would mitigate the overfitting problem."
   ]
  },
  {
   "cell_type": "code",
   "execution_count": null,
   "metadata": {},
   "outputs": [
    {
     "name": "stdout",
     "output_type": "stream",
     "text": [
      "Fitting 3 folds for each of 3 candidates, totalling 9 fits\n"
     ]
    }
   ],
   "source": [
    "# Do the gridsearch - this takes time - about 98 minutes !\n",
    "from sklearn.model_selection import GridSearchCV\n",
    "from sklearn.svm import SVC\n",
    "parameters={'C':[0.1, 0.01, 0.001]}\n",
    "gsSvm= GridSearchCV(SVC(gamma=1.0, \n",
    "                        kernel='linear'),\n",
    "                    parameters, \n",
    "                    verbose=1).fit(reviews_train_tfidf_vec,\n",
    "                                   reviews_train.target)\n",
    "\n",
    "\n",
    "start = datetime.datetime.now()\n",
    "print(\"Accuracy on training set: {} \".format(gsSvm.score(reviews_train_tfidf_vec, \n",
    "                                                         reviews_train.target))) \n",
    "\n",
    "print(\"Accuracy on test set: {} \".format(gsSvm.score(reviews_test_tfidf_vec, \n",
    "                                                     reviews_test.target))) \n",
    "\n",
    "print(\"Best parameters: {} \".format(gsSvm.best_params_))\n",
    "print(\"Process took: \"+\n",
    "      str((datetime.datetime.now()-start).seconds)+\n",
    "      \" seconds\")"
   ]
  },
  {
   "cell_type": "code",
   "execution_count": 29,
   "metadata": {},
   "outputs": [
    {
     "name": "stdout",
     "output_type": "stream",
     "text": [
      "Accuracy on training set: 0.89992 \n",
      "Accuracy on test set: 0.87592 \n",
      "Best parameters: {'C': 0.1} \n"
     ]
    }
   ],
   "source": [
    "start = datetime.datetime.now()\n",
    "print(\"Accuracy on training set: {} \".format(svm.score(reviews_train_tfidf_vec, \n",
    "                                                       reviews_train.target))) \n",
    "\n",
    "print(\"Accuracy on test set: {} \".format(svm.score(reviews_test_tfidf_vec, \n",
    "                                                   reviews_test.target))) \n",
    "\n",
    "print(\"Best parameters: {} \".format(svm.best_params_))\n",
    "print(\"Process took: \"+\n",
    "      str((datetime.datetime.now()-start).seconds)+\n",
    "      \" seconds\")"
   ]
  },
  {
   "cell_type": "markdown",
   "metadata": {},
   "source": [
    "It seems, that finding the right C parameter is quite essential for avoiding overfitting, and that the gridsearch has done a good job. The difference between the accuracy on the training data and the test data is much less than when using an un-tuned algorithm to produce the model. This time there is almost no difference in the accuracies, which means, that there is very little overfitting. Now, lets take a look at the confusion matrix and the ROC-curve."
   ]
  },
  {
   "cell_type": "code",
   "execution_count": 37,
   "metadata": {},
   "outputs": [
    {
     "name": "stdout",
     "output_type": "stream",
     "text": [
      "Confusion matrix, without normalization\n"
     ]
    },
    {
     "data": {
      "image/png": "[encoded data removed]",
      "text/plain": [
       "<matplotlib.figure.Figure at 0x112ef5c88>"
      ]
     },
     "metadata": {},
     "output_type": "display_data"
    },
    {
     "data": {
      "text/plain": [
       "<matplotlib.figure.Figure at 0x114936668>"
      ]
     },
     "metadata": {},
     "output_type": "display_data"
    }
   ],
   "source": [
    "start = datetime.datetime.now()\n",
    "predicted_gsSvm_test = gsSvm.predict(reviews_test_tfidf_vec)\n",
    "cnf = confusion_matrix(predicted_gsSvm_test,reviews_test.target)\n",
    "plot_confusion_matrix(cnf, classes=['neg','pos'],\n",
    "                      title='Confusion matrix, without normalization')\n",
    "plt.figure()\n",
    "plt.show()\n",
    "\n",
    "print(\"Process took: \"+\n",
    "      str((datetime.datetime.now()-start).seconds)+\n",
    "      \" seconds\")"
   ]
  },
  {
   "cell_type": "markdown",
   "metadata": {},
   "source": [
    "#### Calculating the precision and recall measures:\n",
    "Recall = TP/(TP+FN) = 11.156/(11.156+1.758) = 0.8639<br>\n",
    "Precision = TP/(TP+FP) = 11.156/(11.156+1.344) = 0.8925<br>\n",
    "F1 = 2\\*(precision\\*recall)/(precision+recall) = 0.8780<br>"
   ]
  },
  {
   "cell_type": "markdown",
   "metadata": {},
   "source": [
    "A special note on the ROC curve: since the ROC curve requires, that the model computes a \"probability\" that an instance belongs to a class, then there is a special interpretation on this for SVM´s, since they fit a hyperplane to separate classes and is thus not a probalistic model per se. Instead, the probability is derived from the instance distance from the separating hyperplane, and thus a ROC curve can still be produced."
   ]
  },
  {
   "cell_type": "code",
   "execution_count": 38,
   "metadata": {},
   "outputs": [
    {
     "name": "stdout",
     "output_type": "stream",
     "text": [
      "Area under curve (rbf): \n",
      "0.9470021312\n"
     ]
    },
    {
     "data": {
      "image/png": "[encoded data removed]",
      "text/plain": [
       "<matplotlib.figure.Figure at 0x1133ada20>"
      ]
     },
     "metadata": {},
     "output_type": "display_data"
    }
   ],
   "source": [
    "# Note: what is the difference between predict_proba used above and decision_function(data)\n",
    "start = datetime.datetime.now()\n",
    "fprSvm, tprSvm, threshold = metrics.roc_curve(reviews_test.target, \n",
    "                                              gsSvm.decision_function(reviews_test_tfidf_vec))\n",
    "plt.plot(fprSvm,tprSvm)\n",
    "print(\"Area under curve (rbf): \\n{}\".format(roc_auc_score(reviews_test.target,\n",
    "                                                          gsSvm.decision_function(reviews_test_tfidf_vec))))\n",
    "plt.show()\n",
    "print(\"Process took: \"+\n",
    "      str((datetime.datetime.now()-start).seconds)+\n",
    "      \" seconds\")"
   ]
  },
  {
   "cell_type": "markdown",
   "metadata": {},
   "source": [
    "Note, that this is the best model, measured on then AUC measure (0.947)<br>\n",
    "### Comparing the models: \n",
    "Below is a summary on the performance measures for the three models, and from a quality perspective, the Linear SVM beats the other models on (almost) all parameters. However, it might be worth mentioning, that the SVM was by far the one that required the most ressources to be trained, so if that is an important factor a real use-case, then the choice might not be so obvious.\n",
    "\n",
    "\n",
    "<img src=\"model_comparison2.png\" align='left'>"
   ]
  },
  {
   "cell_type": "markdown",
   "metadata": {},
   "source": [
    "**Exercise 5:** For this exercise we are returning to the MNIST data, and we are exploring several clustering techniques with it.\n",
    "\n",
    "**a** Perform *k*-means clustering with *k*=10 on this dataset. Using visualization techniques analogous to what we have done in the `Clustering` notebook for the faces data, can you determine the 'nature' of the 10 constructed clusters? Do the clusters (roughly) coincide with the 10 different actual digits? Perform a supervised clustering evaluation using adjusted rand index. Are the results stable, when you perform several random restarts of *k*-means?\n",
    "\n",
    "**b** Now perform hierarchical clustering on the data (in order to improve visibility in the constructed dendrograms, you can also use a much reduced dataset as constructed using `sklearn.utils.resample` shown below). Does the visual analysis of the dendrogram indicate a natural number of clusters? Using different cluster distance metrics (ward,single,average), what do the clusterings look like that are producec at the level of *k*=10 clusters? See the `Clustering` notebook for the needed Python code, including the `fcluster` method to retrieve 'plain' clusterings from the hierarchical clustering. "
   ]
  },
  {
   "cell_type": "markdown",
   "metadata": {},
   "source": [
    "We´ll start by doing a k-means clustering of our dataset, with k=10. Clustering is _unsupervised_ learning, and yet we supply the 10 as the number of clusters. We do this for llustrative purposes, so that we can compare the clustering with the true groups that we know are there."
   ]
  },
  {
   "cell_type": "code",
   "execution_count": 82,
   "metadata": {},
   "outputs": [
    {
     "name": "stdout",
     "output_type": "stream",
     "text": [
      "Process took: 11 seconds\n"
     ]
    }
   ],
   "source": [
    "start = datetime.datetime.now()\n",
    "from sklearn.cluster import KMeans\n",
    "kmeansclus = KMeans(n_clusters=10,n_init=1).fit(mnist.data)\n",
    "C=kmeansclus.cluster_centers_\n",
    "\n",
    "print(\"Process took: \"+\n",
    "      str((datetime.datetime.now()-start).seconds)+\n",
    "      \" seconds\")"
   ]
  },
  {
   "cell_type": "markdown",
   "metadata": {},
   "source": [
    "We will illustrate the 10 cluster centers to see, if we can recognize the actual digits in the dataset:"
   ]
  },
  {
   "cell_type": "code",
   "execution_count": 90,
   "metadata": {},
   "outputs": [
    {
     "data": {
      "image/png": "[encoded data removed]",
      "text/plain": [
       "<matplotlib.figure.Figure at 0x125630588>"
      ]
     },
     "metadata": {},
     "output_type": "display_data"
    }
   ],
   "source": [
    "rows=int(10/5)\n",
    "fig,axes = plt.subplots(rows,5,figsize=(20,4*rows))\n",
    "for ax,cc,i in zip (axes.ravel(),C,np.arange(axes.ravel().size)):\n",
    "    ax.set_title(\"idx: {}\".format(i))\n",
    "    ax.imshow(C[i].reshape(28,28),cmap=plt.cm.gray_r)\n",
    "plt.show() "
   ]
  },
  {
   "cell_type": "markdown",
   "metadata": {},
   "source": [
    "It looks like most of the digits are actually recognizable - digits <br>\n",
    "idx0: looks like 3<br>\n",
    "idx1: looks like 1<br>\n",
    "idx2: looks like 6<br>\n",
    "idx3: looks like 0<br>\n",
    "idx4: looks like 2<br>\n",
    "idx5: looks like 4 - might be a 9 ?<br>\n",
    "idx6: looks like 7<br>\n",
    "idx7: looks like 8<br>\n",
    "idx8: looks like 1 - hey, we had that already! Looks like 1 is written in two distinct ways: straight down and slightly tilted<br>\n",
    "idx9: looks like 9\n",
    "\n",
    "So, it looks like there is a little confusion about 4/9 and 1 is written in two different ways. What about 5 ?<br>\n",
    "Lets take a look find out where they are hiding by finding all the correct 5´s and which clusters they have been assigned to."
   ]
  },
  {
   "cell_type": "code",
   "execution_count": 167,
   "metadata": {},
   "outputs": [
    {
     "name": "stdout",
     "output_type": "stream",
     "text": [
      "Number of 5´s: 6313\n",
      "[[   0    1    2    3    4    5    6    7    8    9]\n",
      " [2017  182  131   69   19  659   20 2113  730  373]]\n"
     ]
    },
    {
     "data": {
      "image/png": "[encoded data removed]",
      "text/plain": [
       "<matplotlib.figure.Figure at 0x128ac41d0>"
      ]
     },
     "metadata": {},
     "output_type": "display_data"
    }
   ],
   "source": [
    "import pandas as pd\n",
    "mnist_5=mnist.data[mnist.target==5]\n",
    "ds=kmeansclus.predict(mnist_5.data)\n",
    "print(\"Number of 5´s: \"+str(ds.size))\n",
    "\n",
    "unique_elements, counts_elements = np.unique(ds, return_counts=True)\n",
    "data=np.asarray((unique_elements, counts_elements))\n",
    "print(data)\n",
    "\n",
    "df = pd.DataFrame(counts_elements.reshape(-1, len(counts_elements)),\n",
    "                  columns=unique_elements)\n",
    "\n",
    "df.plot.bar(title='Frequency of unique values of the said array', \n",
    "            legend=True)\n",
    "plt.show()\n",
    "\n"
   ]
  },
  {
   "cell_type": "markdown",
   "metadata": {},
   "source": [
    "Looks like there are 6313 5´s in the dataset, and they are mostly captured by cluster indices 0 (which looks like three) and 7 (which looks like eigth). Knowing this, you could make the case, that both numbers three and eight have the low half circle (judging by the cluster centers) as five does. <br>\n",
    "Lets look at the instances closest to the cluster centers :"
   ]
  },
  {
   "cell_type": "code",
   "execution_count": 168,
   "metadata": {},
   "outputs": [
    {
     "data": {
      "image/png": "[encoded data removed]",
      "text/plain": [
       "<matplotlib.figure.Figure at 0x1285adba8>"
      ]
     },
     "metadata": {},
     "output_type": "display_data"
    }
   ],
   "source": [
    "distances=kmeansclus.transform(mnist.data)\n",
    "pseudo_medoids=np.argmin(distances,axis=0)\n",
    "\n",
    "rows=int(10/5)\n",
    "fig,axes = plt.subplots(rows,5,figsize=(20,4*rows))\n",
    "for ax,cc,i in zip (axes.ravel(),\n",
    "                    mnist.data[pseudo_medoids],\n",
    "                    np.arange(axes.ravel().size)):\n",
    "    \n",
    "    ax.set_title(\"idx: {} Label: {}\".format(i,mnist.target[pseudo_medoids][i]))\n",
    "    ax.imshow(mnist.data[pseudo_medoids][i].reshape(28,28),cmap=plt.cm.gray_r)\n",
    "plt.show() "
   ]
  },
  {
   "cell_type": "markdown",
   "metadata": {},
   "source": [
    "Well, comparing what the clustercenters look like and what the closest instance suggest that they are, there still is some confusion:\n",
    "\n",
    "idx0: looks like 3 - and the closest is actually a 3<br>\n",
    "idx1: looks like 1 - and the closest is actually a 1<br>\n",
    "idx2: looks like 6 - and the closest is actually a 6<br>\n",
    "idx3: looks like 0 - and the closest is actually a 0<br>\n",
    "idx4: looks like 2 - and the closest is actually a 2<br>\n",
    "idx5: looks like 4 - might be a 9 ? - the closest instances suggests 4<br>\n",
    "idx6: looks like 7 - and the closest is actually a 7<br>\n",
    "idx7: looks like 8 - hey, the closest one is actually a 9<br>\n",
    "idx8: looks like 1 - the closest is actually also a 1, which supports the suggestion, that 1 is written in two ways<br>\n",
    "idx9: looks like 9 - and the closest is actually a 9<br><br>\n",
    "The conclusion is, that it looks like there are 6 clear clusters, and 4 that are a little less clear."
   ]
  },
  {
   "cell_type": "markdown",
   "metadata": {},
   "source": [
    "Since we know the true label of the images, we can calculated the \"adjusted rand score\" as a measure of simmilarity between the cluster assignments of instances and the \"real\" cluster defined by the known labels of the dataset. A completely random cluster assignment results in a score close to 0.0 while the perfect match returns 1.0."
   ]
  },
  {
   "cell_type": "code",
   "execution_count": 170,
   "metadata": {},
   "outputs": [
    {
     "data": {
      "text/plain": [
       "0.40788707109806216"
      ]
     },
     "execution_count": 170,
     "metadata": {},
     "output_type": "execute_result"
    }
   ],
   "source": [
    "metrics.adjusted_rand_score(mnist.target, kmeansclus.predict(mnist.data))  "
   ]
  },
  {
   "cell_type": "markdown",
   "metadata": {},
   "source": [
    "Now, with this measure, we can test how stable then clustering is over iterations - thus how generalizable is it. We will iterate 10 times - for each iteration:\n",
    "* Fit the model\n",
    "* Predict the cluster using the model\n",
    "* calculate the Adjusted Rand Score for simmilarity<br>\n",
    "\n",
    "We will (obviously) not use a random_state for the clustering, because this would give us the same result every time, and the aim is to test, how stable the clustering is."
   ]
  },
  {
   "cell_type": "code",
   "execution_count": 268,
   "metadata": {},
   "outputs": [
    {
     "name": "stdout",
     "output_type": "stream",
     "text": [
      "Iteration 0: adjusted_rand_score: 0.361990619464\n",
      "Iteration 1: adjusted_rand_score: 0.363332391083\n",
      "Iteration 2: adjusted_rand_score: 0.394239890383\n",
      "Iteration 3: adjusted_rand_score: 0.393421618665\n",
      "Iteration 4: adjusted_rand_score: 0.367407038582\n",
      "Iteration 5: adjusted_rand_score: 0.364699608937\n",
      "Iteration 6: adjusted_rand_score: 0.393423894953\n",
      "Iteration 7: adjusted_rand_score: 0.433512262993\n",
      "Iteration 8: adjusted_rand_score: 0.367609004676\n",
      "Iteration 9: adjusted_rand_score: 0.367399433488\n",
      "Standard deviations between the scores are: 0.190971848077\n"
     ]
    }
   ],
   "source": [
    "for i in list(range(0,10)):   \n",
    "    kmeansclus = KMeans(n_clusters=10,n_init=1).fit(mnist.data)\n",
    "    print(\"Iteration \"+str(i)+\": adjusted_rand_score: \"+\n",
    "          str(metrics.adjusted_rand_score(mnist.target, \n",
    "                                          kmeansclus.predict(mnist.data))))\n",
    "    \n",
    "    scores.append(metrics.adjusted_rand_score(mnist.target, \n",
    "                                              kmeansclus.predict(mnist.data)) )\n",
    "print(\"Standard deviations between the scores are: \" + \n",
    "      str(np.std(np.asarray(scores))))"
   ]
  },
  {
   "cell_type": "markdown",
   "metadata": {},
   "source": [
    "The above result shows, that clustering with K-means is very sensitive to restarting, mainly because of the random starting point this method has. The rand score fluctuates quite a bit, and the standard deviation is quite high when looking at the actual values."
   ]
  },
  {
   "cell_type": "markdown",
   "metadata": {},
   "source": [
    "## Hierarchical clustering\n",
    "We´ll start by reducing the dataset, so that the below visualizations work better"
   ]
  },
  {
   "cell_type": "code",
   "execution_count": 186,
   "metadata": {},
   "outputs": [],
   "source": [
    "small_mnist_data,small_mnist_label = skl.utils.resample(mnist.data,\n",
    "                                                        mnist.target,\n",
    "                                                        n_samples=200,\n",
    "                                                        replace='false')"
   ]
  },
  {
   "cell_type": "markdown",
   "metadata": {},
   "source": [
    "Bolow is illustrated the dendogram - a visualization of the hiearachical clustering"
   ]
  },
  {
   "cell_type": "code",
   "execution_count": 246,
   "metadata": {},
   "outputs": [
    {
     "data": {
      "image/png": "[encoded data removed]",
      "text/plain": [
       "<matplotlib.figure.Figure at 0x126d11518>"
      ]
     },
     "metadata": {},
     "output_type": "display_data"
    }
   ],
   "source": [
    "from sklearn.cluster import AgglomerativeClustering\n",
    "from scipy.cluster.hierarchy import dendrogram,ward,single,average,fcluster\n",
    "linkage_array=ward(small_mnist_data)\n",
    "dendrogram(linkage_array)\n",
    "plt.showticklabels=False\n",
    "plt.show()"
   ]
  },
  {
   "cell_type": "markdown",
   "metadata": {},
   "source": [
    "It looks like there´s 6 natural clusters in the dataset, atleast when using ward distance measure. This actually corresponds to our findings above, where we manually inspected the cluster centers. If that is true, then asking K-means to generate 6 clusters (instead of 10) would probably be a lot more stable:"
   ]
  },
  {
   "cell_type": "code",
   "execution_count": 200,
   "metadata": {},
   "outputs": [
    {
     "name": "stdout",
     "output_type": "stream",
     "text": [
      "Iteration 0: adjusted_rand_score: 0.341651693039\n",
      "Iteration 1: adjusted_rand_score: 0.332785635935\n",
      "Iteration 2: adjusted_rand_score: 0.332786426554\n",
      "Iteration 3: adjusted_rand_score: 0.332431324311\n",
      "Iteration 4: adjusted_rand_score: 0.332785635935\n",
      "Iteration 5: adjusted_rand_score: 0.332827524277\n",
      "Iteration 6: adjusted_rand_score: 0.33240098584\n",
      "Iteration 7: adjusted_rand_score: 0.332387223329\n",
      "Iteration 8: adjusted_rand_score: 0.332785635935\n",
      "Iteration 9: adjusted_rand_score: 0.332390726045\n",
      "Standard deviations between the scores are: 0.00271580003831\n"
     ]
    }
   ],
   "source": [
    "scores = []\n",
    "for i in list(range(0,10)):   \n",
    "    kmeansclus = KMeans(n_clusters=6,n_init=1).fit(mnist.data)\n",
    "    print(\"Iteration \"+str(i)+\": adjusted_rand_score: \"+\n",
    "          str(metrics.adjusted_rand_score(mnist.target, \n",
    "                                          kmeansclus.predict(mnist.data))))\n",
    "    \n",
    "    scores.append(metrics.adjusted_rand_score(mnist.target, \n",
    "                                              kmeansclus.predict(mnist.data)) )\n",
    "print(\"Standard deviations between the scores are: \" + \n",
    "      str(np.std(np.asarray(scores))))\n"
   ]
  },
  {
   "cell_type": "markdown",
   "metadata": {},
   "source": [
    "The standard deviation actually went down, but that actually also makes a lot of sense for another reason - if we were to turn the number of clusters down to 1 - and thus getting the same cluster every time, then the standard deviation would go to 0. This also underlines, that the fewer clusters wanted, the more stable the clustering model we will get, but the adjusted_rand_score will also drop to 0, giving us no value at all in the clustering effort. <br><br>Just for fun, we´ll try it anyway:"
   ]
  },
  {
   "cell_type": "code",
   "execution_count": 249,
   "metadata": {},
   "outputs": [
    {
     "name": "stdout",
     "output_type": "stream",
     "text": [
      "Standard deviations between the scores are: 0.0\n"
     ]
    }
   ],
   "source": [
    "scores = []\n",
    "for i in list(range(0,10)):   \n",
    "    kmeansclus = KMeans(n_clusters=1,n_init=1).fit(mnist.data)\n",
    "    scores.append(metrics.adjusted_rand_score(mnist.target, \n",
    "                                              kmeansclus.predict(mnist.data)) )\n",
    "print(\"Standard deviations between the scores are: \" + \n",
    "      str(np.std(np.asarray(scores))))\n"
   ]
  },
  {
   "cell_type": "markdown",
   "metadata": {},
   "source": [
    "The above example was generated with a \"ward\" merge-criterion. Basically, this method merges clusters on the basis of _minimum_ _variance_. This means, that the two clusters (or instances to begin with) that - when merged - result in the lowest variance between instances, will be chosen for the merge.<br><br> Another criterion would be the \"single\" or \"best link\" which merges the \"closets\" instance or cluster - this could also be called \"nearest neighbor\". When building the hierarcical clustering with this criterion, the dendogram looks quite different. It seems, that gives us a lot more \"natural\" clusters, when using this method :"
   ]
  },
  {
   "cell_type": "code",
   "execution_count": 250,
   "metadata": {},
   "outputs": [
    {
     "data": {
      "image/png": "[encoded data removed]",
      "text/plain": [
       "<matplotlib.figure.Figure at 0x128904eb8>"
      ]
     },
     "metadata": {},
     "output_type": "display_data"
    }
   ],
   "source": [
    "linkage_array=single(small_mnist_data)\n",
    "dendrogram(linkage_array)\n",
    "plt.showticklabels=False\n",
    "plt.show()"
   ]
  },
  {
   "cell_type": "markdown",
   "metadata": {},
   "source": [
    "Lastly, below is a third method of choosing which clusters to merge - the _average_ method. This takes a pairwise look at all members in the first cluster and the second cluster, and computes the _average_ distance between these. The two clusters with the lowest average distance are chosen for the next merge. As seen below, this gives us even more \"natural\" clusters"
   ]
  },
  {
   "cell_type": "code",
   "execution_count": 251,
   "metadata": {},
   "outputs": [
    {
     "data": {
      "image/png": "[encoded data removed]",
      "text/plain": [
       "<matplotlib.figure.Figure at 0x128ea8518>"
      ]
     },
     "metadata": {},
     "output_type": "display_data"
    }
   ],
   "source": [
    "linkage_array=average(small_mnist_data)\n",
    "dendrogram(linkage_array)\n",
    "plt.showticklabels=False\n",
    "plt.show()"
   ]
  },
  {
   "cell_type": "markdown",
   "metadata": {},
   "source": [
    "We are actually looking to cluster with k=10, because there are 10 known digits in the dataset. Since there is no elegant way of getting the hierarcical cluster information at the right threshold for the distance function that returns the k=10 clustering, we´ll brute-force the cut-off until we find the first cut-off that returns the clustering with k=10. <br><br>We´ll write this as a function, since we will be using it with different merge criteria (ward, single, average):"
   ]
  },
  {
   "cell_type": "code",
   "execution_count": 266,
   "metadata": {},
   "outputs": [
    {
     "name": "stdout",
     "output_type": "stream",
     "text": [
      "Number of clusters: 10 at distance: 4465\n",
      "Number of clusters: 10 at distance: 2240\n",
      "Number of clusters: 10 at distance: 2695\n"
     ]
    }
   ],
   "source": [
    "def cutOffHiearcicalCluster(numberOfClusters, la):\n",
    "    prev_unique_elements=0\n",
    "    for distance in list(range(1,1000000)):\n",
    "        N=fcluster(la,distance,criterion='distance')\n",
    "        unique_elements, counts_elements = np.unique(N, return_counts=True)\n",
    "        if unique_elements.size <= numberOfClusters:\n",
    "            print(\"Number of clusters: \"+str(unique_elements.size)+\n",
    "                  \" at distance: \"+str(distance))\n",
    "            \n",
    "            break\n",
    "        prev_unique_elements = unique_elements.size\n",
    "    return N\n",
    "\n",
    "clst_ward = cutOffHiearcicalCluster(10,ward(small_mnist_data))\n",
    "clst_single = cutOffHiearcicalCluster(10,single(small_mnist_data))\n",
    "clst_average = cutOffHiearcicalCluster(10,average(small_mnist_data))"
   ]
  },
  {
   "cell_type": "markdown",
   "metadata": {},
   "source": [
    "Having the output of the hierarchical clustering with the three differente merge criteria (cut of at k=10), we can now compare them with the actual \"clusters\", aka label-groups, by using the rand score from earlier:"
   ]
  },
  {
   "cell_type": "code",
   "execution_count": 267,
   "metadata": {},
   "outputs": [
    {
     "name": "stdout",
     "output_type": "stream",
     "text": [
      "Adjusted Rand Score for hierarcical clustering using Ward: 0.339200689885\n",
      "Adjusted Rand Score for hierarcical clustering using Single: -0.00221078525\n",
      "Adjusted Rand Score for hierarcical clustering using Average: 0.0300562895868\n"
     ]
    }
   ],
   "source": [
    "print(\"Adjusted Rand Score for hierarcical clustering using Ward: \"+\n",
    "      str(metrics.adjusted_rand_score(small_mnist_label, clst_ward)))\n",
    "\n",
    "print(\"Adjusted Rand Score for hierarcical clustering using Single: \"+\n",
    "      str(metrics.adjusted_rand_score(small_mnist_label, clst_single)))\n",
    "\n",
    "print(\"Adjusted Rand Score for hierarcical clustering using Average: \"+\n",
    "      str(metrics.adjusted_rand_score(small_mnist_label, clst_average)))"
   ]
  },
  {
   "cell_type": "markdown",
   "metadata": {},
   "source": [
    "As seen, this score supports the intuition, that the Ward-hierarchical clustering closest resemble what looked like the \"natural number of clusters\" of 6 (we know the real answer to be 10). Also, when using hiarachical clustering to find the \"natural number\" of clusters, it does in fact matter a lot, which merge-criterion is used."
   ]
  }
 ],
 "metadata": {
  "kernelspec": {
   "display_name": "Python 3",
   "language": "python",
   "name": "python3"
  },
  "language_info": {
   "codemirror_mode": {
    "name": "ipython",
    "version": 3
   },
   "file_extension": ".py",
   "mimetype": "text/x-python",
   "name": "python",
   "nbconvert_exporter": "python",
   "pygments_lexer": "ipython3",
   "version": "3.5.2"
  }
 },
 "nbformat": 4,
 "nbformat_minor": 2
}
